{
 "cells": [
  {
   "cell_type": "code",
   "execution_count": 51,
   "id": "34a15cf6-b985-49ea-9f38-9ceb12d3ff8a",
   "metadata": {},
   "outputs": [],
   "source": [
    "import findspark\n",
    "findspark.init()"
   ]
  },
  {
   "cell_type": "code",
   "execution_count": 94,
   "id": "db7ed153-d630-4697-a4a2-0ab544207ad9",
   "metadata": {},
   "outputs": [
    {
     "data": {
      "text/plain": [
       "{'C:\\\\Users\\\\User\\\\anaconda3\\\\envs\\\\pipeline'}"
      ]
     },
     "execution_count": 94,
     "metadata": {},
     "output_type": "execute_result"
    }
   ],
   "source": [
    "import sys\n",
    "{sys.prefix}"
   ]
  },
  {
   "cell_type": "code",
   "execution_count": 95,
   "id": "45cb681f-603b-4d4a-bc97-dd253dc6cd73",
   "metadata": {
    "collapsed": true,
    "jupyter": {
     "outputs_hidden": true
    },
    "tags": []
   },
   "outputs": [
    {
     "name": "stdout",
     "output_type": "stream",
     "text": [
      "Collecting package metadata (current_repodata.json): ...working... done\n",
      "Solving environment: ...working... done\n",
      "\n",
      "## Package Plan ##\n",
      "\n",
      "  environment location: C:\\Users\\User\\anaconda3\\envs\\pipeline\n",
      "\n",
      "  added / updated specs:\n",
      "    - requests\n",
      "\n",
      "\n",
      "The following packages will be downloaded:\n",
      "\n",
      "    package                    |            build\n",
      "    ---------------------------|-----------------\n",
      "    brotlipy-0.7.0             |py310he2412df_1003         370 KB  conda-forge\n",
      "    cffi-1.15.0                |  py310hcbf9ad4_0         231 KB  conda-forge\n",
      "    charset-normalizer-2.0.12  |     pyhd8ed1ab_0          35 KB  conda-forge\n",
      "    cryptography-36.0.0        |  py310h21b164f_0         1.0 MB\n",
      "    idna-3.3                   |     pyhd8ed1ab_0          55 KB  conda-forge\n",
      "    pycparser-2.21             |     pyhd8ed1ab_0         100 KB  conda-forge\n",
      "    pyopenssl-22.0.0           |     pyhd8ed1ab_0          49 KB  conda-forge\n",
      "    pysocks-1.7.1              |  py310h5588dad_4          28 KB  conda-forge\n",
      "    requests-2.27.1            |     pyhd8ed1ab_0          53 KB  conda-forge\n",
      "    urllib3-1.26.8             |     pyhd8ed1ab_1         100 KB  conda-forge\n",
      "    win_inet_pton-1.1.0        |  py310h5588dad_3           9 KB  conda-forge\n",
      "    ------------------------------------------------------------\n",
      "                                           Total:         2.1 MB\n",
      "\n",
      "The following NEW packages will be INSTALLED:\n",
      "\n",
      "  brotlipy           conda-forge/win-64::brotlipy-0.7.0-py310he2412df_1003\n",
      "  certifi            conda-forge/win-64::certifi-2021.10.8-py310h5588dad_1\n",
      "  cffi               conda-forge/win-64::cffi-1.15.0-py310hcbf9ad4_0\n",
      "  charset-normalizer conda-forge/noarch::charset-normalizer-2.0.12-pyhd8ed1ab_0\n",
      "  cryptography       pkgs/main/win-64::cryptography-36.0.0-py310h21b164f_0\n",
      "  idna               conda-forge/noarch::idna-3.3-pyhd8ed1ab_0\n",
      "  pycparser          conda-forge/noarch::pycparser-2.21-pyhd8ed1ab_0\n",
      "  pyopenssl          conda-forge/noarch::pyopenssl-22.0.0-pyhd8ed1ab_0\n",
      "  pysocks            conda-forge/win-64::pysocks-1.7.1-py310h5588dad_4\n",
      "  requests           conda-forge/noarch::requests-2.27.1-pyhd8ed1ab_0\n",
      "  urllib3            conda-forge/noarch::urllib3-1.26.8-pyhd8ed1ab_1\n",
      "  win_inet_pton      conda-forge/win-64::win_inet_pton-1.1.0-py310h5588dad_3\n",
      "\n",
      "\n",
      "\n",
      "Downloading and Extracting Packages\n",
      "\n",
      "win_inet_pton-1.1.0  | 9 KB      |            |   0% \n",
      "win_inet_pton-1.1.0  | 9 KB      | ########## | 100% \n",
      "\n",
      "cffi-1.15.0          | 231 KB    |            |   0% \n",
      "cffi-1.15.0          | 231 KB    | ########## | 100% \n",
      "cffi-1.15.0          | 231 KB    | ########## | 100% \n",
      "\n",
      "charset-normalizer-2 | 35 KB     |            |   0% \n",
      "charset-normalizer-2 | 35 KB     | ########## | 100% \n",
      "\n",
      "pyopenssl-22.0.0     | 49 KB     |            |   0% \n",
      "pyopenssl-22.0.0     | 49 KB     | ########## | 100% \n",
      "\n",
      "requests-2.27.1      | 53 KB     |            |   0% \n",
      "requests-2.27.1      | 53 KB     | ########## | 100% \n",
      "\n",
      "cryptography-36.0.0  | 1.0 MB    |            |   0% \n",
      "cryptography-36.0.0  | 1.0 MB    | 1          |   1% \n",
      "cryptography-36.0.0  | 1.0 MB    | ########## | 100% \n",
      "cryptography-36.0.0  | 1.0 MB    | ########## | 100% \n",
      "\n",
      "brotlipy-0.7.0       | 370 KB    |            |   0% \n",
      "brotlipy-0.7.0       | 370 KB    | ########## | 100% \n",
      "brotlipy-0.7.0       | 370 KB    | ########## | 100% \n",
      "\n",
      "urllib3-1.26.8       | 100 KB    |            |   0% \n",
      "urllib3-1.26.8       | 100 KB    | ########## | 100% \n",
      "\n",
      "idna-3.3             | 55 KB     |            |   0% \n",
      "idna-3.3             | 55 KB     | ########## | 100% \n",
      "\n",
      "pysocks-1.7.1        | 28 KB     |            |   0% \n",
      "pysocks-1.7.1        | 28 KB     | ########## | 100% \n",
      "\n",
      "pycparser-2.21       | 100 KB    |            |   0% \n",
      "pycparser-2.21       | 100 KB    | ########## | 100% \n",
      "pycparser-2.21       | 100 KB    | ########## | 100% \n",
      "Preparing transaction: ...working... done\n",
      "Verifying transaction: ...working... done\n",
      "Executing transaction: ...working... done\n"
     ]
    }
   ],
   "source": [
    "!conda install -c conda-forge -y --prefix {sys.prefix} requests"
   ]
  },
  {
   "cell_type": "code",
   "execution_count": 139,
   "id": "718ff2ac-f54c-443f-be16-88727358b909",
   "metadata": {},
   "outputs": [],
   "source": [
    "from pyspark.sql import SparkSession\n",
    "from pyspark.sql.types import ArrayType, IntegerType, StructType, StructField\n",
    "from pyspark.sql.functions import regexp_extract, lit"
   ]
  },
  {
   "cell_type": "code",
   "execution_count": 142,
   "id": "5b7ae15d-dd92-499f-afe1-1bf4e6d974f1",
   "metadata": {},
   "outputs": [],
   "source": [
    "import json \n",
    "from datetime import datetime\n",
    "import requests"
   ]
  },
  {
   "cell_type": "code",
   "execution_count": 54,
   "id": "5e8b0ff8-be8d-4f44-b19a-8c5dd8db56e5",
   "metadata": {},
   "outputs": [
    {
     "data": {
      "text/html": [
       "<div>\n",
       "<style scoped>\n",
       "    .dataframe tbody tr th:only-of-type {\n",
       "        vertical-align: middle;\n",
       "    }\n",
       "\n",
       "    .dataframe tbody tr th {\n",
       "        vertical-align: top;\n",
       "    }\n",
       "\n",
       "    .dataframe thead th {\n",
       "        text-align: right;\n",
       "    }\n",
       "</style>\n",
       "<table border=\"1\" class=\"dataframe\">\n",
       "  <thead>\n",
       "    <tr style=\"text-align: right;\">\n",
       "      <th></th>\n",
       "      <th>Unnamed: 0</th>\n",
       "      <th>obs_post_id</th>\n",
       "      <th>obs_lat</th>\n",
       "      <th>data_type</th>\n",
       "      <th>obs_post_name</th>\n",
       "      <th>obs_lon</th>\n",
       "      <th>obs_object</th>\n",
       "    </tr>\n",
       "  </thead>\n",
       "  <tbody>\n",
       "    <tr>\n",
       "      <th>0</th>\n",
       "      <td>0</td>\n",
       "      <td>DT_0063</td>\n",
       "      <td>35.024178</td>\n",
       "      <td>조위관측소</td>\n",
       "      <td>가덕도</td>\n",
       "      <td>128.810933</td>\n",
       "      <td>조위,수온,염분,기온,기압,풍속,풍향</td>\n",
       "    </tr>\n",
       "    <tr>\n",
       "      <th>1</th>\n",
       "      <td>1</td>\n",
       "      <td>DT_0032</td>\n",
       "      <td>37.731944</td>\n",
       "      <td>조위관측소</td>\n",
       "      <td>강화대교</td>\n",
       "      <td>126.522222</td>\n",
       "      <td>조위,기압</td>\n",
       "    </tr>\n",
       "    <tr>\n",
       "      <th>2</th>\n",
       "      <td>2</td>\n",
       "      <td>DT_0031</td>\n",
       "      <td>34.028333</td>\n",
       "      <td>조위관측소</td>\n",
       "      <td>거문도</td>\n",
       "      <td>127.308889</td>\n",
       "      <td>조위,수온,염분,기온,기압,풍속,풍향</td>\n",
       "    </tr>\n",
       "    <tr>\n",
       "      <th>3</th>\n",
       "      <td>3</td>\n",
       "      <td>DT_0029</td>\n",
       "      <td>34.801389</td>\n",
       "      <td>조위관측소</td>\n",
       "      <td>거제도</td>\n",
       "      <td>128.699167</td>\n",
       "      <td>조위,수온,염분,기온,기압,풍속,풍향</td>\n",
       "    </tr>\n",
       "    <tr>\n",
       "      <th>4</th>\n",
       "      <td>4</td>\n",
       "      <td>DT_0058</td>\n",
       "      <td>37.560833</td>\n",
       "      <td>조위관측소</td>\n",
       "      <td>경인항</td>\n",
       "      <td>126.601111</td>\n",
       "      <td>조위,기온,기압,풍속,풍향</td>\n",
       "    </tr>\n",
       "  </tbody>\n",
       "</table>\n",
       "</div>"
      ],
      "text/plain": [
       "   Unnamed: 0 obs_post_id    obs_lat data_type obs_post_name     obs_lon  \\\n",
       "0           0     DT_0063  35.024178     조위관측소           가덕도  128.810933   \n",
       "1           1     DT_0032  37.731944     조위관측소          강화대교  126.522222   \n",
       "2           2     DT_0031  34.028333     조위관측소           거문도  127.308889   \n",
       "3           3     DT_0029  34.801389     조위관측소           거제도  128.699167   \n",
       "4           4     DT_0058  37.560833     조위관측소           경인항  126.601111   \n",
       "\n",
       "             obs_object  \n",
       "0  조위,수온,염분,기온,기압,풍속,풍향  \n",
       "1                 조위,기압  \n",
       "2  조위,수온,염분,기온,기압,풍속,풍향  \n",
       "3  조위,수온,염분,기온,기압,풍속,풍향  \n",
       "4        조위,기온,기압,풍속,풍향  "
      ]
     },
     "execution_count": 54,
     "metadata": {},
     "output_type": "execute_result"
    }
   ],
   "source": [
    "obs_post_data = pd.read_csv(\"./관측소 정보.csv\")\n",
    "obs_post_data.head(5)"
   ]
  },
  {
   "cell_type": "code",
   "execution_count": 63,
   "id": "e2eee89f-c709-4650-9d14-dab618581d47",
   "metadata": {},
   "outputs": [],
   "source": [
    "spark = SparkSession.builder.master('local[2]').appName('tempera_obs').getOrCreate()"
   ]
  },
  {
   "cell_type": "code",
   "execution_count": 58,
   "id": "a5d324c2-2579-4e44-99b3-a18e2d9cbb63",
   "metadata": {},
   "outputs": [
    {
     "data": {
      "text/plain": [
       "['DT_0063', 'DT_0032', 'DT_0031', 'DT_0029', 'DT_0058']"
      ]
     },
     "execution_count": 58,
     "metadata": {},
     "output_type": "execute_result"
    }
   ],
   "source": [
    "obs_post_list = obs_post_data['obs_post_id'].values.tolist()\n",
    "obs_post_list[0:5] # 디버깅 용"
   ]
  },
  {
   "cell_type": "code",
   "execution_count": 64,
   "id": "dc786dae-b8cb-47a3-9841-1b391690141d",
   "metadata": {},
   "outputs": [
    {
     "data": {
      "text/plain": [
       "'20220218'"
      ]
     },
     "execution_count": 64,
     "metadata": {},
     "output_type": "execute_result"
    }
   ],
   "source": [
    "service_key=\"1LJG14JWnAylzKi5GvmuGg==\"\n",
    "now_datetime=datetime.now().strftime('%Y%m%d')\n",
    "now_datetime # 디버깅 용"
   ]
  },
  {
   "cell_type": "code",
   "execution_count": 46,
   "id": "526dab36-d5df-4807-a970-cf2e7dbbe800",
   "metadata": {
    "collapsed": true,
    "jupyter": {
     "outputs_hidden": true
    },
    "tags": []
   },
   "outputs": [
    {
     "name": "stdout",
     "output_type": "stream",
     "text": [
      "http://www.khoa.go.kr/api/oceangrid/tideObsAirTemp/search.do?ServiceKey=1LJG14JWnAylzKi5GvmuGg==&ObsCode=DT_0063&Date=20220217&ResultType=json\n",
      "http://www.khoa.go.kr/api/oceangrid/tideObsAirTemp/search.do?ServiceKey=1LJG14JWnAylzKi5GvmuGg==&ObsCode=DT_0032&Date=20220217&ResultType=json\n",
      "http://www.khoa.go.kr/api/oceangrid/tideObsAirTemp/search.do?ServiceKey=1LJG14JWnAylzKi5GvmuGg==&ObsCode=DT_0031&Date=20220217&ResultType=json\n",
      "http://www.khoa.go.kr/api/oceangrid/tideObsAirTemp/search.do?ServiceKey=1LJG14JWnAylzKi5GvmuGg==&ObsCode=DT_0029&Date=20220217&ResultType=json\n",
      "http://www.khoa.go.kr/api/oceangrid/tideObsAirTemp/search.do?ServiceKey=1LJG14JWnAylzKi5GvmuGg==&ObsCode=DT_0058&Date=20220217&ResultType=json\n",
      "http://www.khoa.go.kr/api/oceangrid/tideObsAirTemp/search.do?ServiceKey=1LJG14JWnAylzKi5GvmuGg==&ObsCode=DT_0026&Date=20220217&ResultType=json\n",
      "http://www.khoa.go.kr/api/oceangrid/tideObsAirTemp/search.do?ServiceKey=1LJG14JWnAylzKi5GvmuGg==&ObsCode=DT_0049&Date=20220217&ResultType=json\n",
      "http://www.khoa.go.kr/api/oceangrid/tideObsAirTemp/search.do?ServiceKey=1LJG14JWnAylzKi5GvmuGg==&ObsCode=DT_0018&Date=20220217&ResultType=json\n",
      "http://www.khoa.go.kr/api/oceangrid/tideObsAirTemp/search.do?ServiceKey=1LJG14JWnAylzKi5GvmuGg==&ObsCode=DT_0017&Date=20220217&ResultType=json\n",
      "http://www.khoa.go.kr/api/oceangrid/tideObsAirTemp/search.do?ServiceKey=1LJG14JWnAylzKi5GvmuGg==&ObsCode=DT_0065&Date=20220217&ResultType=json\n",
      "http://www.khoa.go.kr/api/oceangrid/tideObsAirTemp/search.do?ServiceKey=1LJG14JWnAylzKi5GvmuGg==&ObsCode=DT_0057&Date=20220217&ResultType=json\n",
      "http://www.khoa.go.kr/api/oceangrid/tideObsAirTemp/search.do?ServiceKey=1LJG14JWnAylzKi5GvmuGg==&ObsCode=DT_0062&Date=20220217&ResultType=json\n",
      "http://www.khoa.go.kr/api/oceangrid/tideObsAirTemp/search.do?ServiceKey=1LJG14JWnAylzKi5GvmuGg==&ObsCode=DT_0023&Date=20220217&ResultType=json\n",
      "http://www.khoa.go.kr/api/oceangrid/tideObsAirTemp/search.do?ServiceKey=1LJG14JWnAylzKi5GvmuGg==&ObsCode=DT_0007&Date=20220217&ResultType=json\n",
      "http://www.khoa.go.kr/api/oceangrid/tideObsAirTemp/search.do?ServiceKey=1LJG14JWnAylzKi5GvmuGg==&ObsCode=DT_0006&Date=20220217&ResultType=json\n",
      "http://www.khoa.go.kr/api/oceangrid/tideObsAirTemp/search.do?ServiceKey=1LJG14JWnAylzKi5GvmuGg==&ObsCode=DT_0025&Date=20220217&ResultType=json\n",
      "http://www.khoa.go.kr/api/oceangrid/tideObsAirTemp/search.do?ServiceKey=1LJG14JWnAylzKi5GvmuGg==&ObsCode=DT_0005&Date=20220217&ResultType=json\n",
      "http://www.khoa.go.kr/api/oceangrid/tideObsAirTemp/search.do?ServiceKey=1LJG14JWnAylzKi5GvmuGg==&ObsCode=DT_0056&Date=20220217&ResultType=json\n",
      "http://www.khoa.go.kr/api/oceangrid/tideObsAirTemp/search.do?ServiceKey=1LJG14JWnAylzKi5GvmuGg==&ObsCode=DT_0061&Date=20220217&ResultType=json\n",
      "http://www.khoa.go.kr/api/oceangrid/tideObsAirTemp/search.do?ServiceKey=1LJG14JWnAylzKi5GvmuGg==&ObsCode=DT_0010&Date=20220217&ResultType=json\n",
      "http://www.khoa.go.kr/api/oceangrid/tideObsAirTemp/search.do?ServiceKey=1LJG14JWnAylzKi5GvmuGg==&ObsCode=DT_0051&Date=20220217&ResultType=json\n",
      "http://www.khoa.go.kr/api/oceangrid/tideObsAirTemp/search.do?ServiceKey=1LJG14JWnAylzKi5GvmuGg==&ObsCode=DT_0022&Date=20220217&ResultType=json\n",
      "http://www.khoa.go.kr/api/oceangrid/tideObsAirTemp/search.do?ServiceKey=1LJG14JWnAylzKi5GvmuGg==&ObsCode=DT_0012&Date=20220217&ResultType=json\n",
      "http://www.khoa.go.kr/api/oceangrid/tideObsAirTemp/search.do?ServiceKey=1LJG14JWnAylzKi5GvmuGg==&ObsCode=DT_0008&Date=20220217&ResultType=json\n",
      "http://www.khoa.go.kr/api/oceangrid/tideObsAirTemp/search.do?ServiceKey=1LJG14JWnAylzKi5GvmuGg==&ObsCode=DT_0067&Date=20220217&ResultType=json\n",
      "http://www.khoa.go.kr/api/oceangrid/tideObsAirTemp/search.do?ServiceKey=1LJG14JWnAylzKi5GvmuGg==&ObsCode=DT_0037&Date=20220217&ResultType=json\n",
      "http://www.khoa.go.kr/api/oceangrid/tideObsAirTemp/search.do?ServiceKey=1LJG14JWnAylzKi5GvmuGg==&ObsCode=DT_0016&Date=20220217&ResultType=json\n",
      "http://www.khoa.go.kr/api/oceangrid/tideObsAirTemp/search.do?ServiceKey=1LJG14JWnAylzKi5GvmuGg==&ObsCode=DT_0092&Date=20220217&ResultType=json\n",
      "http://www.khoa.go.kr/api/oceangrid/tideObsAirTemp/search.do?ServiceKey=1LJG14JWnAylzKi5GvmuGg==&ObsCode=DT_0003&Date=20220217&ResultType=json\n",
      "http://www.khoa.go.kr/api/oceangrid/tideObsAirTemp/search.do?ServiceKey=1LJG14JWnAylzKi5GvmuGg==&ObsCode=DT_0044&Date=20220217&ResultType=json\n",
      "http://www.khoa.go.kr/api/oceangrid/tideObsAirTemp/search.do?ServiceKey=1LJG14JWnAylzKi5GvmuGg==&ObsCode=DT_0043&Date=20220217&ResultType=json\n",
      "http://www.khoa.go.kr/api/oceangrid/tideObsAirTemp/search.do?ServiceKey=1LJG14JWnAylzKi5GvmuGg==&ObsCode=DT_0027&Date=20220217&ResultType=json\n",
      "http://www.khoa.go.kr/api/oceangrid/tideObsAirTemp/search.do?ServiceKey=1LJG14JWnAylzKi5GvmuGg==&ObsCode=DT_0013&Date=20220217&ResultType=json\n",
      "http://www.khoa.go.kr/api/oceangrid/tideObsAirTemp/search.do?ServiceKey=1LJG14JWnAylzKi5GvmuGg==&ObsCode=DT_0020&Date=20220217&ResultType=json\n",
      "http://www.khoa.go.kr/api/oceangrid/tideObsAirTemp/search.do?ServiceKey=1LJG14JWnAylzKi5GvmuGg==&ObsCode=DT_0068&Date=20220217&ResultType=json\n",
      "http://www.khoa.go.kr/api/oceangrid/tideObsAirTemp/search.do?ServiceKey=1LJG14JWnAylzKi5GvmuGg==&ObsCode=DT_0001&Date=20220217&ResultType=json\n",
      "http://www.khoa.go.kr/api/oceangrid/tideObsAirTemp/search.do?ServiceKey=1LJG14JWnAylzKi5GvmuGg==&ObsCode=DT_0052&Date=20220217&ResultType=json\n",
      "http://www.khoa.go.kr/api/oceangrid/tideObsAirTemp/search.do?ServiceKey=1LJG14JWnAylzKi5GvmuGg==&ObsCode=DT_0024&Date=20220217&ResultType=json\n",
      "http://www.khoa.go.kr/api/oceangrid/tideObsAirTemp/search.do?ServiceKey=1LJG14JWnAylzKi5GvmuGg==&ObsCode=DT_0004&Date=20220217&ResultType=json\n",
      "http://www.khoa.go.kr/api/oceangrid/tideObsAirTemp/search.do?ServiceKey=1LJG14JWnAylzKi5GvmuGg==&ObsCode=DT_0028&Date=20220217&ResultType=json\n",
      "http://www.khoa.go.kr/api/oceangrid/tideObsAirTemp/search.do?ServiceKey=1LJG14JWnAylzKi5GvmuGg==&ObsCode=DT_0021&Date=20220217&ResultType=json\n",
      "http://www.khoa.go.kr/api/oceangrid/tideObsAirTemp/search.do?ServiceKey=1LJG14JWnAylzKi5GvmuGg==&ObsCode=DT_0050&Date=20220217&ResultType=json\n",
      "http://www.khoa.go.kr/api/oceangrid/tideObsAirTemp/search.do?ServiceKey=1LJG14JWnAylzKi5GvmuGg==&ObsCode=DT_0014&Date=20220217&ResultType=json\n",
      "http://www.khoa.go.kr/api/oceangrid/tideObsAirTemp/search.do?ServiceKey=1LJG14JWnAylzKi5GvmuGg==&ObsCode=DT_0002&Date=20220217&ResultType=json\n",
      "http://www.khoa.go.kr/api/oceangrid/tideObsAirTemp/search.do?ServiceKey=1LJG14JWnAylzKi5GvmuGg==&ObsCode=DT_0091&Date=20220217&ResultType=json\n",
      "http://www.khoa.go.kr/api/oceangrid/tideObsAirTemp/search.do?ServiceKey=1LJG14JWnAylzKi5GvmuGg==&ObsCode=DT_0066&Date=20220217&ResultType=json\n",
      "http://www.khoa.go.kr/api/oceangrid/tideObsAirTemp/search.do?ServiceKey=1LJG14JWnAylzKi5GvmuGg==&ObsCode=DT_0011&Date=20220217&ResultType=json\n",
      "http://www.khoa.go.kr/api/oceangrid/tideObsAirTemp/search.do?ServiceKey=1LJG14JWnAylzKi5GvmuGg==&ObsCode=DT_0035&Date=20220217&ResultType=json\n",
      "http://www.khoa.go.kr/api/oceangrid/tideObsAirTemp/search.do?ServiceKey=1LJG14JWnAylzKi5GvmuGg==&ObsCode=DT_0042&Date=20220217&ResultType=json\n",
      "http://www.khoa.go.kr/api/oceangrid/tideObsAirTemp/search.do?ServiceKey=1LJG14JWnAylzKi5GvmuGg==&ObsCode=DT_0041&Date=20220217&ResultType=json\n",
      "http://www.khoa.go.kr/api/oceangrid/tideObsAirTemp/search.do?ServiceKey=1LJG14JWnAylzKi5GvmuGg==&ObsCode=DT_0039&Date=20220217&ResultType=json\n",
      "http://www.khoa.go.kr/api/oceangrid/tideObsAirTemp/search.do?ServiceKey=1LJG14JWnAylzKi5GvmuGg==&ObsCode=IE_0060&Date=20220217&ResultType=json\n",
      "http://www.khoa.go.kr/api/oceangrid/tideObsAirTemp/search.do?ServiceKey=1LJG14JWnAylzKi5GvmuGg==&ObsCode=IE_0062&Date=20220217&ResultType=json\n",
      "http://www.khoa.go.kr/api/oceangrid/tideObsAirTemp/search.do?ServiceKey=1LJG14JWnAylzKi5GvmuGg==&ObsCode=IE_0061&Date=20220217&ResultType=json\n",
      "http://www.khoa.go.kr/api/oceangrid/tideObsAirTemp/search.do?ServiceKey=1LJG14JWnAylzKi5GvmuGg==&ObsCode=TW_0089&Date=20220217&ResultType=json\n",
      "http://www.khoa.go.kr/api/oceangrid/tideObsAirTemp/search.do?ServiceKey=1LJG14JWnAylzKi5GvmuGg==&ObsCode=HB_0007&Date=20220217&ResultType=json\n",
      "http://www.khoa.go.kr/api/oceangrid/tideObsAirTemp/search.do?ServiceKey=1LJG14JWnAylzKi5GvmuGg==&ObsCode=HB_0008&Date=20220217&ResultType=json\n",
      "http://www.khoa.go.kr/api/oceangrid/tideObsAirTemp/search.do?ServiceKey=1LJG14JWnAylzKi5GvmuGg==&ObsCode=HB_0009&Date=20220217&ResultType=json\n",
      "http://www.khoa.go.kr/api/oceangrid/tideObsAirTemp/search.do?ServiceKey=1LJG14JWnAylzKi5GvmuGg==&ObsCode=TW_0079&Date=20220217&ResultType=json\n",
      "http://www.khoa.go.kr/api/oceangrid/tideObsAirTemp/search.do?ServiceKey=1LJG14JWnAylzKi5GvmuGg==&ObsCode=TW_0080&Date=20220217&ResultType=json\n",
      "http://www.khoa.go.kr/api/oceangrid/tideObsAirTemp/search.do?ServiceKey=1LJG14JWnAylzKi5GvmuGg==&ObsCode=TW_0081&Date=20220217&ResultType=json\n",
      "http://www.khoa.go.kr/api/oceangrid/tideObsAirTemp/search.do?ServiceKey=1LJG14JWnAylzKi5GvmuGg==&ObsCode=TW_0082&Date=20220217&ResultType=json\n",
      "http://www.khoa.go.kr/api/oceangrid/tideObsAirTemp/search.do?ServiceKey=1LJG14JWnAylzKi5GvmuGg==&ObsCode=TW_0083&Date=20220217&ResultType=json\n",
      "http://www.khoa.go.kr/api/oceangrid/tideObsAirTemp/search.do?ServiceKey=1LJG14JWnAylzKi5GvmuGg==&ObsCode=TW_0084&Date=20220217&ResultType=json\n",
      "http://www.khoa.go.kr/api/oceangrid/tideObsAirTemp/search.do?ServiceKey=1LJG14JWnAylzKi5GvmuGg==&ObsCode=TW_0092&Date=20220217&ResultType=json\n",
      "http://www.khoa.go.kr/api/oceangrid/tideObsAirTemp/search.do?ServiceKey=1LJG14JWnAylzKi5GvmuGg==&ObsCode=SF_0001&Date=20220217&ResultType=json\n",
      "http://www.khoa.go.kr/api/oceangrid/tideObsAirTemp/search.do?ServiceKey=1LJG14JWnAylzKi5GvmuGg==&ObsCode=TW_0078&Date=20220217&ResultType=json\n",
      "http://www.khoa.go.kr/api/oceangrid/tideObsAirTemp/search.do?ServiceKey=1LJG14JWnAylzKi5GvmuGg==&ObsCode=TW_0087&Date=20220217&ResultType=json\n",
      "http://www.khoa.go.kr/api/oceangrid/tideObsAirTemp/search.do?ServiceKey=1LJG14JWnAylzKi5GvmuGg==&ObsCode=TW_0090&Date=20220217&ResultType=json\n",
      "http://www.khoa.go.kr/api/oceangrid/tideObsAirTemp/search.do?ServiceKey=1LJG14JWnAylzKi5GvmuGg==&ObsCode=TW_0074&Date=20220217&ResultType=json\n",
      "http://www.khoa.go.kr/api/oceangrid/tideObsAirTemp/search.do?ServiceKey=1LJG14JWnAylzKi5GvmuGg==&ObsCode=HB_0001&Date=20220217&ResultType=json\n",
      "http://www.khoa.go.kr/api/oceangrid/tideObsAirTemp/search.do?ServiceKey=1LJG14JWnAylzKi5GvmuGg==&ObsCode=HB_0002&Date=20220217&ResultType=json\n",
      "http://www.khoa.go.kr/api/oceangrid/tideObsAirTemp/search.do?ServiceKey=1LJG14JWnAylzKi5GvmuGg==&ObsCode=HB_0003&Date=20220217&ResultType=json\n",
      "http://www.khoa.go.kr/api/oceangrid/tideObsAirTemp/search.do?ServiceKey=1LJG14JWnAylzKi5GvmuGg==&ObsCode=TW_0062&Date=20220217&ResultType=json\n",
      "http://www.khoa.go.kr/api/oceangrid/tideObsAirTemp/search.do?ServiceKey=1LJG14JWnAylzKi5GvmuGg==&ObsCode=TW_0069&Date=20220217&ResultType=json\n",
      "http://www.khoa.go.kr/api/oceangrid/tideObsAirTemp/search.do?ServiceKey=1LJG14JWnAylzKi5GvmuGg==&ObsCode=TW_0070&Date=20220217&ResultType=json\n",
      "http://www.khoa.go.kr/api/oceangrid/tideObsAirTemp/search.do?ServiceKey=1LJG14JWnAylzKi5GvmuGg==&ObsCode=TW_0072&Date=20220217&ResultType=json\n",
      "http://www.khoa.go.kr/api/oceangrid/tideObsAirTemp/search.do?ServiceKey=1LJG14JWnAylzKi5GvmuGg==&ObsCode=TW_0077&Date=20220217&ResultType=json\n",
      "http://www.khoa.go.kr/api/oceangrid/tideObsAirTemp/search.do?ServiceKey=1LJG14JWnAylzKi5GvmuGg==&ObsCode=TW_0075&Date=20220217&ResultType=json\n",
      "http://www.khoa.go.kr/api/oceangrid/tideObsAirTemp/search.do?ServiceKey=1LJG14JWnAylzKi5GvmuGg==&ObsCode=TW_0076&Date=20220217&ResultType=json\n",
      "http://www.khoa.go.kr/api/oceangrid/tideObsAirTemp/search.do?ServiceKey=1LJG14JWnAylzKi5GvmuGg==&ObsCode=TW_0088&Date=20220217&ResultType=json\n",
      "http://www.khoa.go.kr/api/oceangrid/tideObsAirTemp/search.do?ServiceKey=1LJG14JWnAylzKi5GvmuGg==&ObsCode=TW_0085&Date=20220217&ResultType=json\n",
      "http://www.khoa.go.kr/api/oceangrid/tideObsAirTemp/search.do?ServiceKey=1LJG14JWnAylzKi5GvmuGg==&ObsCode=TW_0091&Date=20220217&ResultType=json\n",
      "http://www.khoa.go.kr/api/oceangrid/tideObsAirTemp/search.do?ServiceKey=1LJG14JWnAylzKi5GvmuGg==&ObsCode=TW_0086&Date=20220217&ResultType=json\n",
      "http://www.khoa.go.kr/api/oceangrid/tideObsAirTemp/search.do?ServiceKey=1LJG14JWnAylzKi5GvmuGg==&ObsCode=SF_0005&Date=20220217&ResultType=json\n",
      "http://www.khoa.go.kr/api/oceangrid/tideObsAirTemp/search.do?ServiceKey=1LJG14JWnAylzKi5GvmuGg==&ObsCode=TW_0093&Date=20220217&ResultType=json\n",
      "http://www.khoa.go.kr/api/oceangrid/tideObsAirTemp/search.do?ServiceKey=1LJG14JWnAylzKi5GvmuGg==&ObsCode=TW_0094&Date=20220217&ResultType=json\n",
      "http://www.khoa.go.kr/api/oceangrid/tideObsAirTemp/search.do?ServiceKey=1LJG14JWnAylzKi5GvmuGg==&ObsCode=KG_0021&Date=20220217&ResultType=json\n",
      "http://www.khoa.go.kr/api/oceangrid/tideObsAirTemp/search.do?ServiceKey=1LJG14JWnAylzKi5GvmuGg==&ObsCode=KG_0024&Date=20220217&ResultType=json\n",
      "http://www.khoa.go.kr/api/oceangrid/tideObsAirTemp/search.do?ServiceKey=1LJG14JWnAylzKi5GvmuGg==&ObsCode=KG_0025&Date=20220217&ResultType=json\n",
      "http://www.khoa.go.kr/api/oceangrid/tideObsAirTemp/search.do?ServiceKey=1LJG14JWnAylzKi5GvmuGg==&ObsCode=KG_0028&Date=20220217&ResultType=json\n",
      "http://www.khoa.go.kr/api/oceangrid/tideObsAirTemp/search.do?ServiceKey=1LJG14JWnAylzKi5GvmuGg==&ObsCode=KG_0101&Date=20220217&ResultType=json\n",
      "http://www.khoa.go.kr/api/oceangrid/tideObsAirTemp/search.do?ServiceKey=1LJG14JWnAylzKi5GvmuGg==&ObsCode=KG_0102&Date=20220217&ResultType=json\n"
     ]
    }
   ],
   "source": [
    "for obs in obs_post_list:\n",
    "    url=\"http://www.khoa.go.kr/api/oceangrid/tideObsAirTemp/search.do?ServiceKey=\"+service_key+\"&ObsCode=\"+obs+\"&Date=\"+now_datetime+\"&ResultType=json\"\n",
    "    response = requests.get(url).json()\n",
    "    df = spark.createDataFrame(response[\"result\"][\"data\"])\n",
    "    df = df.withColumn('id',lit(response[\"result\"][\"meta\"][\"obs_post_id\"]))"
   ]
  },
  {
   "cell_type": "code",
   "execution_count": 65,
   "id": "b1bd04a1-1d2d-4c28-ab4b-47bb59fa9b72",
   "metadata": {},
   "outputs": [],
   "source": [
    "url=\"http://www.khoa.go.kr/api/oceangrid/tideObsAirTemp/search.do?ServiceKey=1LJG14JWnAylzKi5GvmuGg==&ObsCode=DT_0063&Date=20220217&ResultType=json\""
   ]
  },
  {
   "cell_type": "code",
   "execution_count": 90,
   "id": "19054759-6ab1-4b9b-9f27-6a3b7cc8b2d1",
   "metadata": {
    "tags": []
   },
   "outputs": [],
   "source": [
    "# response = urllib.request.urlopen(url)\n",
    "json_str = response.read().decode(\"utf-8\")\n",
    "# str1 = response.json()\n",
    "json_object = json.loads(json_str)"
   ]
  },
  {
   "cell_type": "code",
   "execution_count": 103,
   "id": "1e330c96-157c-4afb-a3a2-b67fb41863d5",
   "metadata": {},
   "outputs": [],
   "source": [
    "response = requests.get(url).json()"
   ]
  },
  {
   "cell_type": "code",
   "execution_count": 112,
   "id": "38d2011d-f912-4889-9b36-19833dc5b691",
   "metadata": {},
   "outputs": [
    {
     "data": {
      "text/plain": [
       "dict"
      ]
     },
     "execution_count": 112,
     "metadata": {},
     "output_type": "execute_result"
    }
   ],
   "source": [
    "type(response)"
   ]
  },
  {
   "cell_type": "code",
   "execution_count": 136,
   "id": "da834840-285b-44b3-9593-74d1592a3c84",
   "metadata": {
    "tags": []
   },
   "outputs": [
    {
     "data": {
      "text/plain": [
       "{'obs_post_id': 'DT_0063',\n",
       " 'obs_last_req_cnt': '19984/20000',\n",
       " 'obs_lat': '35.024178',\n",
       " 'obs_post_name': '가덕도',\n",
       " 'obs_lon': '128.810933'}"
      ]
     },
     "execution_count": 136,
     "metadata": {},
     "output_type": "execute_result"
    }
   ],
   "source": [
    "# response[\"result\"][\"data\"]\n",
    "response[\"result\"][\"meta\"]"
   ]
  },
  {
   "cell_type": "code",
   "execution_count": 137,
   "id": "9b2de3c4-277f-43d9-849a-09abc9f88114",
   "metadata": {},
   "outputs": [
    {
     "data": {
      "text/plain": [
       "'DT_0063'"
      ]
     },
     "execution_count": 137,
     "metadata": {},
     "output_type": "execute_result"
    }
   ],
   "source": [
    "temp_obs_id=response[\"result\"][\"meta\"][\"obs_post_id\"]\n",
    "temp_obs_id"
   ]
  },
  {
   "cell_type": "code",
   "execution_count": 128,
   "id": "d2e7bb5d-15e3-422a-818e-ed7d1f8da2db",
   "metadata": {},
   "outputs": [],
   "source": [
    "df = spark.createDataFrame(response[\"result\"][\"data\"])"
   ]
  },
  {
   "cell_type": "code",
   "execution_count": 108,
   "id": "99deba07-7df2-49eb-aceb-d5529b06fb3a",
   "metadata": {},
   "outputs": [],
   "source": [
    "# rdd = spark.sparkContext.parallelize([response])\n",
    "\n",
    "# df = spark.read.option(\"multiLine\",\"true\").json(rdd)"
   ]
  },
  {
   "cell_type": "code",
   "execution_count": 129,
   "id": "02ebd6b9-952e-4051-82f3-41e7f682ffd5",
   "metadata": {},
   "outputs": [
    {
     "data": {
      "text/plain": [
       "pyspark.sql.dataframe.DataFrame"
      ]
     },
     "execution_count": 129,
     "metadata": {},
     "output_type": "execute_result"
    }
   ],
   "source": [
    "type(df)"
   ]
  },
  {
   "cell_type": "code",
   "execution_count": 130,
   "id": "ff6d6459-8803-4ae3-ad7d-1cb700afb6c6",
   "metadata": {},
   "outputs": [
    {
     "name": "stdout",
     "output_type": "stream",
     "text": [
      "root\n",
      " |-- air_temp: string (nullable = true)\n",
      " |-- record_time: string (nullable = true)\n",
      "\n"
     ]
    }
   ],
   "source": [
    "df.printSchema()"
   ]
  },
  {
   "cell_type": "code",
   "execution_count": null,
   "id": "1827356c-723d-44ed-abe0-8fe762bb79ae",
   "metadata": {},
   "outputs": [],
   "source": [
    "# json_schema = ArrayType(\n",
    "#     StructType([StructField('air_temp', DoubleType(), nullable=False),\n",
    "#                 StructField('record_time', StringType(), nullable=False),\n",
    "#                 StructField('obs_post_name', StringType(), nullable=False),\n",
    "#                 StructField('obs_lat', StringType(), nullable=False),\n",
    "#                 StructField('obs_lon', StringType(), nullable=False)]))"
   ]
  },
  {
   "cell_type": "code",
   "execution_count": 131,
   "id": "32abdf8b-375d-411c-856b-918bf502b10c",
   "metadata": {},
   "outputs": [
    {
     "name": "stdout",
     "output_type": "stream",
     "text": [
      "+--------+-------------------+\n",
      "|air_temp|        record_time|\n",
      "+--------+-------------------+\n",
      "|    -1.9|2022-02-17 00:00:00|\n",
      "|    -2.1|2022-02-17 00:01:00|\n",
      "|    -1.9|2022-02-17 00:02:00|\n",
      "|    -2.2|2022-02-17 00:03:00|\n",
      "|    -2.2|2022-02-17 00:04:00|\n",
      "+--------+-------------------+\n",
      "only showing top 5 rows\n",
      "\n"
     ]
    }
   ],
   "source": [
    "df.show(5)"
   ]
  },
  {
   "cell_type": "code",
   "execution_count": 140,
   "id": "a8a8a3fa-1966-4bd2-939d-596af2c47d47",
   "metadata": {},
   "outputs": [],
   "source": [
    "df = df.withColumn('id',lit(response[\"result\"][\"meta\"][\"obs_post_id\"]))"
   ]
  },
  {
   "cell_type": "code",
   "execution_count": 141,
   "id": "920c458a-c5e2-4ca9-9b32-c6b24488b574",
   "metadata": {},
   "outputs": [
    {
     "name": "stdout",
     "output_type": "stream",
     "text": [
      "+--------+-------------------+-------+\n",
      "|air_temp|        record_time|     id|\n",
      "+--------+-------------------+-------+\n",
      "|    -1.9|2022-02-17 00:00:00|DT_0063|\n",
      "|    -2.1|2022-02-17 00:01:00|DT_0063|\n",
      "|    -1.9|2022-02-17 00:02:00|DT_0063|\n",
      "|    -2.2|2022-02-17 00:03:00|DT_0063|\n",
      "|    -2.2|2022-02-17 00:04:00|DT_0063|\n",
      "+--------+-------------------+-------+\n",
      "only showing top 5 rows\n",
      "\n"
     ]
    }
   ],
   "source": [
    "df.show(5)"
   ]
  },
  {
   "cell_type": "code",
   "execution_count": 143,
   "id": "2ea39a59-84fe-4ece-b76f-91757913b6a2",
   "metadata": {},
   "outputs": [
    {
     "data": {
      "text/plain": [
       "1440"
      ]
     },
     "execution_count": 143,
     "metadata": {},
     "output_type": "execute_result"
    }
   ],
   "source": [
    "df.count()"
   ]
  },
  {
   "cell_type": "code",
   "execution_count": null,
   "id": "b06e5667-7d90-4caa-aa2b-00984d3345f0",
   "metadata": {},
   "outputs": [],
   "source": []
  }
 ],
 "metadata": {
  "kernelspec": {
   "display_name": "pipeline",
   "language": "python",
   "name": "pipeline"
  },
  "language_info": {
   "codemirror_mode": {
    "name": "ipython",
    "version": 3
   },
   "file_extension": ".py",
   "mimetype": "text/x-python",
   "name": "python",
   "nbconvert_exporter": "python",
   "pygments_lexer": "ipython3",
   "version": "3.10.1"
  }
 },
 "nbformat": 4,
 "nbformat_minor": 5
}
