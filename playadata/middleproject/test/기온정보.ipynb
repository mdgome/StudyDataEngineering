{
 "cells": [
  {
   "cell_type": "code",
   "execution_count": 1,
   "id": "34a15cf6-b985-49ea-9f38-9ceb12d3ff8a",
   "metadata": {},
   "outputs": [],
   "source": [
    "import findspark\n",
    "findspark.init()"
   ]
  },
  {
   "cell_type": "code",
   "execution_count": 94,
   "id": "db7ed153-d630-4697-a4a2-0ab544207ad9",
   "metadata": {},
   "outputs": [
    {
     "data": {
      "text/plain": [
       "{'C:\\\\Users\\\\User\\\\anaconda3\\\\envs\\\\pipeline'}"
      ]
     },
     "execution_count": 94,
     "metadata": {},
     "output_type": "execute_result"
    }
   ],
   "source": [
    "import sys\n",
    "{sys.prefix}"
   ]
  },
  {
   "cell_type": "code",
   "execution_count": 2,
   "id": "45cb681f-603b-4d4a-bc97-dd253dc6cd73",
   "metadata": {
    "tags": []
   },
   "outputs": [
    {
     "name": "stdout",
     "output_type": "stream",
     "text": [
      "\n",
      "EnvironmentLocationNotFound: Not a conda environment: /Users/mdgome/workspace/study/StudyDataEngineering/playadata/middleproject/{sys.prefix}\n",
      "\n"
     ]
    }
   ],
   "source": [
    "!conda install -c conda-forge -y --prefix {sys.prefix} requests"
   ]
  },
  {
   "cell_type": "code",
   "execution_count": 3,
   "id": "718ff2ac-f54c-443f-be16-88727358b909",
   "metadata": {},
   "outputs": [],
   "source": [
    "from pyspark.sql import SparkSession\n",
    "from pyspark.sql.types import ArrayType, IntegerType, StructType, StructField\n",
    "from pyspark.sql.functions import regexp_extract, lit"
   ]
  },
  {
   "cell_type": "code",
   "execution_count": 4,
   "id": "5b7ae15d-dd92-499f-afe1-1bf4e6d974f1",
   "metadata": {},
   "outputs": [],
   "source": [
    "from datetime import datetime\n",
    "import requests\n",
    "import pandas as pd\n",
    "import json"
   ]
  },
  {
   "cell_type": "code",
   "execution_count": 5,
   "id": "5e8b0ff8-be8d-4f44-b19a-8c5dd8db56e5",
   "metadata": {},
   "outputs": [
    {
     "data": {
      "text/html": [
       "<div>\n",
       "<style scoped>\n",
       "    .dataframe tbody tr th:only-of-type {\n",
       "        vertical-align: middle;\n",
       "    }\n",
       "\n",
       "    .dataframe tbody tr th {\n",
       "        vertical-align: top;\n",
       "    }\n",
       "\n",
       "    .dataframe thead th {\n",
       "        text-align: right;\n",
       "    }\n",
       "</style>\n",
       "<table border=\"1\" class=\"dataframe\">\n",
       "  <thead>\n",
       "    <tr style=\"text-align: right;\">\n",
       "      <th></th>\n",
       "      <th>Unnamed: 0</th>\n",
       "      <th>obs_post_id</th>\n",
       "      <th>obs_lat</th>\n",
       "      <th>data_type</th>\n",
       "      <th>obs_post_name</th>\n",
       "      <th>obs_lon</th>\n",
       "      <th>obs_object</th>\n",
       "    </tr>\n",
       "  </thead>\n",
       "  <tbody>\n",
       "    <tr>\n",
       "      <th>0</th>\n",
       "      <td>0</td>\n",
       "      <td>DT_0063</td>\n",
       "      <td>35.024178</td>\n",
       "      <td>조위관측소</td>\n",
       "      <td>가덕도</td>\n",
       "      <td>128.810933</td>\n",
       "      <td>조위,수온,염분,기온,기압,풍속,풍향</td>\n",
       "    </tr>\n",
       "    <tr>\n",
       "      <th>1</th>\n",
       "      <td>1</td>\n",
       "      <td>DT_0032</td>\n",
       "      <td>37.731944</td>\n",
       "      <td>조위관측소</td>\n",
       "      <td>강화대교</td>\n",
       "      <td>126.522222</td>\n",
       "      <td>조위,기압</td>\n",
       "    </tr>\n",
       "    <tr>\n",
       "      <th>2</th>\n",
       "      <td>2</td>\n",
       "      <td>DT_0031</td>\n",
       "      <td>34.028333</td>\n",
       "      <td>조위관측소</td>\n",
       "      <td>거문도</td>\n",
       "      <td>127.308889</td>\n",
       "      <td>조위,수온,염분,기온,기압,풍속,풍향</td>\n",
       "    </tr>\n",
       "    <tr>\n",
       "      <th>3</th>\n",
       "      <td>3</td>\n",
       "      <td>DT_0029</td>\n",
       "      <td>34.801389</td>\n",
       "      <td>조위관측소</td>\n",
       "      <td>거제도</td>\n",
       "      <td>128.699167</td>\n",
       "      <td>조위,수온,염분,기온,기압,풍속,풍향</td>\n",
       "    </tr>\n",
       "    <tr>\n",
       "      <th>4</th>\n",
       "      <td>4</td>\n",
       "      <td>DT_0058</td>\n",
       "      <td>37.560833</td>\n",
       "      <td>조위관측소</td>\n",
       "      <td>경인항</td>\n",
       "      <td>126.601111</td>\n",
       "      <td>조위,기온,기압,풍속,풍향</td>\n",
       "    </tr>\n",
       "  </tbody>\n",
       "</table>\n",
       "</div>"
      ],
      "text/plain": [
       "   Unnamed: 0 obs_post_id    obs_lat data_type obs_post_name     obs_lon  \\\n",
       "0           0     DT_0063  35.024178     조위관측소           가덕도  128.810933   \n",
       "1           1     DT_0032  37.731944     조위관측소          강화대교  126.522222   \n",
       "2           2     DT_0031  34.028333     조위관측소           거문도  127.308889   \n",
       "3           3     DT_0029  34.801389     조위관측소           거제도  128.699167   \n",
       "4           4     DT_0058  37.560833     조위관측소           경인항  126.601111   \n",
       "\n",
       "             obs_object  \n",
       "0  조위,수온,염분,기온,기압,풍속,풍향  \n",
       "1                 조위,기압  \n",
       "2  조위,수온,염분,기온,기압,풍속,풍향  \n",
       "3  조위,수온,염분,기온,기압,풍속,풍향  \n",
       "4        조위,기온,기압,풍속,풍향  "
      ]
     },
     "execution_count": 5,
     "metadata": {},
     "output_type": "execute_result"
    }
   ],
   "source": [
    "obs_post_data = pd.read_csv(\"./관측소 정보.csv\")\n",
    "obs_post_data.head(5)"
   ]
  },
  {
   "cell_type": "code",
   "execution_count": 7,
   "id": "a1d7c368-2fc4-420c-af93-380b2d022273",
   "metadata": {
    "collapsed": true,
    "jupyter": {
     "outputs_hidden": true
    },
    "tags": []
   },
   "outputs": [
    {
     "name": "stderr",
     "output_type": "stream",
     "text": [
      "22/02/21 15:54:34 WARN SparkContext: Another SparkContext is being constructed (or threw an exception in its constructor). This may indicate an error, since only one SparkContext should be running in this JVM (see SPARK-2243). The other SparkContext was created at:\n",
      "org.apache.spark.api.java.JavaSparkContext.<init>(JavaSparkContext.scala:58)\n",
      "sun.reflect.NativeConstructorAccessorImpl.newInstance0(Native Method)\n",
      "sun.reflect.NativeConstructorAccessorImpl.newInstance(NativeConstructorAccessorImpl.java:62)\n",
      "sun.reflect.DelegatingConstructorAccessorImpl.newInstance(DelegatingConstructorAccessorImpl.java:45)\n",
      "java.lang.reflect.Constructor.newInstance(Constructor.java:423)\n",
      "py4j.reflection.MethodInvoker.invoke(MethodInvoker.java:247)\n",
      "py4j.reflection.ReflectionEngine.invoke(ReflectionEngine.java:357)\n",
      "py4j.Gateway.invoke(Gateway.java:238)\n",
      "py4j.commands.ConstructorCommand.invokeConstructor(ConstructorCommand.java:80)\n",
      "py4j.commands.ConstructorCommand.execute(ConstructorCommand.java:69)\n",
      "py4j.ClientServerConnection.waitForCommands(ClientServerConnection.java:182)\n",
      "py4j.ClientServerConnection.run(ClientServerConnection.java:106)\n",
      "java.lang.Thread.run(Thread.java:748)\n"
     ]
    }
   ],
   "source": [
    "cluster = '118.34.234.79:7077'\n",
    "spark = SparkSession \\\n",
    "        .builder \\\n",
    "        .master('spark://'+cluster) \\\n",
    "        .appName('tempera_obs') \\\n",
    "        .getOrCreate()"
   ]
  },
  {
   "cell_type": "code",
   "execution_count": 8,
   "id": "fa43472d-6fbe-4090-8b27-573d3f4b996f",
   "metadata": {},
   "outputs": [
    {
     "name": "stdout",
     "output_type": "stream",
     "text": [
      "[('spark.app.id', 'app-20220220164646-0000'),\n",
      " ('spark.app.startTime', '1645426474549'),\n",
      " ('spark.rdd.compress', 'True'),\n",
      " ('spark.driver.host', '192.168.0.8'),\n",
      " ('spark.serializer.objectStreamReset', '100'),\n",
      " ('spark.master', 'spark://118.34.234.79:7077'),\n",
      " ('spark.submit.pyFiles', ''),\n",
      " ('spark.executor.id', 'driver'),\n",
      " ('spark.app.name', 'tempera_obs'),\n",
      " ('spark.submit.deployMode', 'client'),\n",
      " ('spark.ui.showConsoleProgress', 'true'),\n",
      " ('spark.sql.warehouse.dir',\n",
      "  'file:/Users/mdgome/workspace/study/StudyDataEngineering/playadata/middleproject/spark-warehouse'),\n",
      " ('spark.driver.port', '49562')]\n"
     ]
    }
   ],
   "source": [
    "import pprint\n",
    "pprint.pprint(spark.sparkContext.getConf().getAll())\n",
    "# spark.stop()"
   ]
  },
  {
   "cell_type": "code",
   "execution_count": 58,
   "id": "a5d324c2-2579-4e44-99b3-a18e2d9cbb63",
   "metadata": {},
   "outputs": [
    {
     "data": {
      "text/plain": [
       "['DT_0063', 'DT_0032', 'DT_0031', 'DT_0029', 'DT_0058']"
      ]
     },
     "execution_count": 58,
     "metadata": {},
     "output_type": "execute_result"
    }
   ],
   "source": [
    "obs_post_list = obs_post_data['obs_post_id'].values.tolist()\n",
    "obs_post_list[0:5] # 디버깅 용"
   ]
  },
  {
   "cell_type": "code",
   "execution_count": 64,
   "id": "dc786dae-b8cb-47a3-9841-1b391690141d",
   "metadata": {},
   "outputs": [
    {
     "data": {
      "text/plain": [
       "'20220218'"
      ]
     },
     "execution_count": 64,
     "metadata": {},
     "output_type": "execute_result"
    }
   ],
   "source": [
    "service_key=\"1LJG14JWnAylzKi5GvmuGg==\"\n",
    "now_datetime=datetime.now().strftime('%Y%m%d')\n",
    "now_datetime # 디버깅 용"
   ]
  },
  {
   "cell_type": "code",
   "execution_count": 46,
   "id": "526dab36-d5df-4807-a970-cf2e7dbbe800",
   "metadata": {
    "collapsed": true,
    "jupyter": {
     "outputs_hidden": true
    },
    "tags": []
   },
   "outputs": [
    {
     "name": "stdout",
     "output_type": "stream",
     "text": [
      "http://www.khoa.go.kr/api/oceangrid/tideObsAirTemp/search.do?ServiceKey=1LJG14JWnAylzKi5GvmuGg==&ObsCode=DT_0063&Date=20220217&ResultType=json\n",
      "http://www.khoa.go.kr/api/oceangrid/tideObsAirTemp/search.do?ServiceKey=1LJG14JWnAylzKi5GvmuGg==&ObsCode=DT_0032&Date=20220217&ResultType=json\n",
      "http://www.khoa.go.kr/api/oceangrid/tideObsAirTemp/search.do?ServiceKey=1LJG14JWnAylzKi5GvmuGg==&ObsCode=DT_0031&Date=20220217&ResultType=json\n",
      "http://www.khoa.go.kr/api/oceangrid/tideObsAirTemp/search.do?ServiceKey=1LJG14JWnAylzKi5GvmuGg==&ObsCode=DT_0029&Date=20220217&ResultType=json\n",
      "http://www.khoa.go.kr/api/oceangrid/tideObsAirTemp/search.do?ServiceKey=1LJG14JWnAylzKi5GvmuGg==&ObsCode=DT_0058&Date=20220217&ResultType=json\n",
      "http://www.khoa.go.kr/api/oceangrid/tideObsAirTemp/search.do?ServiceKey=1LJG14JWnAylzKi5GvmuGg==&ObsCode=DT_0026&Date=20220217&ResultType=json\n",
      "http://www.khoa.go.kr/api/oceangrid/tideObsAirTemp/search.do?ServiceKey=1LJG14JWnAylzKi5GvmuGg==&ObsCode=DT_0049&Date=20220217&ResultType=json\n",
      "http://www.khoa.go.kr/api/oceangrid/tideObsAirTemp/search.do?ServiceKey=1LJG14JWnAylzKi5GvmuGg==&ObsCode=DT_0018&Date=20220217&ResultType=json\n",
      "http://www.khoa.go.kr/api/oceangrid/tideObsAirTemp/search.do?ServiceKey=1LJG14JWnAylzKi5GvmuGg==&ObsCode=DT_0017&Date=20220217&ResultType=json\n",
      "http://www.khoa.go.kr/api/oceangrid/tideObsAirTemp/search.do?ServiceKey=1LJG14JWnAylzKi5GvmuGg==&ObsCode=DT_0065&Date=20220217&ResultType=json\n",
      "http://www.khoa.go.kr/api/oceangrid/tideObsAirTemp/search.do?ServiceKey=1LJG14JWnAylzKi5GvmuGg==&ObsCode=DT_0057&Date=20220217&ResultType=json\n",
      "http://www.khoa.go.kr/api/oceangrid/tideObsAirTemp/search.do?ServiceKey=1LJG14JWnAylzKi5GvmuGg==&ObsCode=DT_0062&Date=20220217&ResultType=json\n",
      "http://www.khoa.go.kr/api/oceangrid/tideObsAirTemp/search.do?ServiceKey=1LJG14JWnAylzKi5GvmuGg==&ObsCode=DT_0023&Date=20220217&ResultType=json\n",
      "http://www.khoa.go.kr/api/oceangrid/tideObsAirTemp/search.do?ServiceKey=1LJG14JWnAylzKi5GvmuGg==&ObsCode=DT_0007&Date=20220217&ResultType=json\n",
      "http://www.khoa.go.kr/api/oceangrid/tideObsAirTemp/search.do?ServiceKey=1LJG14JWnAylzKi5GvmuGg==&ObsCode=DT_0006&Date=20220217&ResultType=json\n",
      "http://www.khoa.go.kr/api/oceangrid/tideObsAirTemp/search.do?ServiceKey=1LJG14JWnAylzKi5GvmuGg==&ObsCode=DT_0025&Date=20220217&ResultType=json\n",
      "http://www.khoa.go.kr/api/oceangrid/tideObsAirTemp/search.do?ServiceKey=1LJG14JWnAylzKi5GvmuGg==&ObsCode=DT_0005&Date=20220217&ResultType=json\n",
      "http://www.khoa.go.kr/api/oceangrid/tideObsAirTemp/search.do?ServiceKey=1LJG14JWnAylzKi5GvmuGg==&ObsCode=DT_0056&Date=20220217&ResultType=json\n",
      "http://www.khoa.go.kr/api/oceangrid/tideObsAirTemp/search.do?ServiceKey=1LJG14JWnAylzKi5GvmuGg==&ObsCode=DT_0061&Date=20220217&ResultType=json\n",
      "http://www.khoa.go.kr/api/oceangrid/tideObsAirTemp/search.do?ServiceKey=1LJG14JWnAylzKi5GvmuGg==&ObsCode=DT_0010&Date=20220217&ResultType=json\n",
      "http://www.khoa.go.kr/api/oceangrid/tideObsAirTemp/search.do?ServiceKey=1LJG14JWnAylzKi5GvmuGg==&ObsCode=DT_0051&Date=20220217&ResultType=json\n",
      "http://www.khoa.go.kr/api/oceangrid/tideObsAirTemp/search.do?ServiceKey=1LJG14JWnAylzKi5GvmuGg==&ObsCode=DT_0022&Date=20220217&ResultType=json\n",
      "http://www.khoa.go.kr/api/oceangrid/tideObsAirTemp/search.do?ServiceKey=1LJG14JWnAylzKi5GvmuGg==&ObsCode=DT_0012&Date=20220217&ResultType=json\n",
      "http://www.khoa.go.kr/api/oceangrid/tideObsAirTemp/search.do?ServiceKey=1LJG14JWnAylzKi5GvmuGg==&ObsCode=DT_0008&Date=20220217&ResultType=json\n",
      "http://www.khoa.go.kr/api/oceangrid/tideObsAirTemp/search.do?ServiceKey=1LJG14JWnAylzKi5GvmuGg==&ObsCode=DT_0067&Date=20220217&ResultType=json\n",
      "http://www.khoa.go.kr/api/oceangrid/tideObsAirTemp/search.do?ServiceKey=1LJG14JWnAylzKi5GvmuGg==&ObsCode=DT_0037&Date=20220217&ResultType=json\n",
      "http://www.khoa.go.kr/api/oceangrid/tideObsAirTemp/search.do?ServiceKey=1LJG14JWnAylzKi5GvmuGg==&ObsCode=DT_0016&Date=20220217&ResultType=json\n",
      "http://www.khoa.go.kr/api/oceangrid/tideObsAirTemp/search.do?ServiceKey=1LJG14JWnAylzKi5GvmuGg==&ObsCode=DT_0092&Date=20220217&ResultType=json\n",
      "http://www.khoa.go.kr/api/oceangrid/tideObsAirTemp/search.do?ServiceKey=1LJG14JWnAylzKi5GvmuGg==&ObsCode=DT_0003&Date=20220217&ResultType=json\n",
      "http://www.khoa.go.kr/api/oceangrid/tideObsAirTemp/search.do?ServiceKey=1LJG14JWnAylzKi5GvmuGg==&ObsCode=DT_0044&Date=20220217&ResultType=json\n",
      "http://www.khoa.go.kr/api/oceangrid/tideObsAirTemp/search.do?ServiceKey=1LJG14JWnAylzKi5GvmuGg==&ObsCode=DT_0043&Date=20220217&ResultType=json\n",
      "http://www.khoa.go.kr/api/oceangrid/tideObsAirTemp/search.do?ServiceKey=1LJG14JWnAylzKi5GvmuGg==&ObsCode=DT_0027&Date=20220217&ResultType=json\n",
      "http://www.khoa.go.kr/api/oceangrid/tideObsAirTemp/search.do?ServiceKey=1LJG14JWnAylzKi5GvmuGg==&ObsCode=DT_0013&Date=20220217&ResultType=json\n",
      "http://www.khoa.go.kr/api/oceangrid/tideObsAirTemp/search.do?ServiceKey=1LJG14JWnAylzKi5GvmuGg==&ObsCode=DT_0020&Date=20220217&ResultType=json\n",
      "http://www.khoa.go.kr/api/oceangrid/tideObsAirTemp/search.do?ServiceKey=1LJG14JWnAylzKi5GvmuGg==&ObsCode=DT_0068&Date=20220217&ResultType=json\n",
      "http://www.khoa.go.kr/api/oceangrid/tideObsAirTemp/search.do?ServiceKey=1LJG14JWnAylzKi5GvmuGg==&ObsCode=DT_0001&Date=20220217&ResultType=json\n",
      "http://www.khoa.go.kr/api/oceangrid/tideObsAirTemp/search.do?ServiceKey=1LJG14JWnAylzKi5GvmuGg==&ObsCode=DT_0052&Date=20220217&ResultType=json\n",
      "http://www.khoa.go.kr/api/oceangrid/tideObsAirTemp/search.do?ServiceKey=1LJG14JWnAylzKi5GvmuGg==&ObsCode=DT_0024&Date=20220217&ResultType=json\n",
      "http://www.khoa.go.kr/api/oceangrid/tideObsAirTemp/search.do?ServiceKey=1LJG14JWnAylzKi5GvmuGg==&ObsCode=DT_0004&Date=20220217&ResultType=json\n",
      "http://www.khoa.go.kr/api/oceangrid/tideObsAirTemp/search.do?ServiceKey=1LJG14JWnAylzKi5GvmuGg==&ObsCode=DT_0028&Date=20220217&ResultType=json\n",
      "http://www.khoa.go.kr/api/oceangrid/tideObsAirTemp/search.do?ServiceKey=1LJG14JWnAylzKi5GvmuGg==&ObsCode=DT_0021&Date=20220217&ResultType=json\n",
      "http://www.khoa.go.kr/api/oceangrid/tideObsAirTemp/search.do?ServiceKey=1LJG14JWnAylzKi5GvmuGg==&ObsCode=DT_0050&Date=20220217&ResultType=json\n",
      "http://www.khoa.go.kr/api/oceangrid/tideObsAirTemp/search.do?ServiceKey=1LJG14JWnAylzKi5GvmuGg==&ObsCode=DT_0014&Date=20220217&ResultType=json\n",
      "http://www.khoa.go.kr/api/oceangrid/tideObsAirTemp/search.do?ServiceKey=1LJG14JWnAylzKi5GvmuGg==&ObsCode=DT_0002&Date=20220217&ResultType=json\n",
      "http://www.khoa.go.kr/api/oceangrid/tideObsAirTemp/search.do?ServiceKey=1LJG14JWnAylzKi5GvmuGg==&ObsCode=DT_0091&Date=20220217&ResultType=json\n",
      "http://www.khoa.go.kr/api/oceangrid/tideObsAirTemp/search.do?ServiceKey=1LJG14JWnAylzKi5GvmuGg==&ObsCode=DT_0066&Date=20220217&ResultType=json\n",
      "http://www.khoa.go.kr/api/oceangrid/tideObsAirTemp/search.do?ServiceKey=1LJG14JWnAylzKi5GvmuGg==&ObsCode=DT_0011&Date=20220217&ResultType=json\n",
      "http://www.khoa.go.kr/api/oceangrid/tideObsAirTemp/search.do?ServiceKey=1LJG14JWnAylzKi5GvmuGg==&ObsCode=DT_0035&Date=20220217&ResultType=json\n",
      "http://www.khoa.go.kr/api/oceangrid/tideObsAirTemp/search.do?ServiceKey=1LJG14JWnAylzKi5GvmuGg==&ObsCode=DT_0042&Date=20220217&ResultType=json\n",
      "http://www.khoa.go.kr/api/oceangrid/tideObsAirTemp/search.do?ServiceKey=1LJG14JWnAylzKi5GvmuGg==&ObsCode=DT_0041&Date=20220217&ResultType=json\n",
      "http://www.khoa.go.kr/api/oceangrid/tideObsAirTemp/search.do?ServiceKey=1LJG14JWnAylzKi5GvmuGg==&ObsCode=DT_0039&Date=20220217&ResultType=json\n",
      "http://www.khoa.go.kr/api/oceangrid/tideObsAirTemp/search.do?ServiceKey=1LJG14JWnAylzKi5GvmuGg==&ObsCode=IE_0060&Date=20220217&ResultType=json\n",
      "http://www.khoa.go.kr/api/oceangrid/tideObsAirTemp/search.do?ServiceKey=1LJG14JWnAylzKi5GvmuGg==&ObsCode=IE_0062&Date=20220217&ResultType=json\n",
      "http://www.khoa.go.kr/api/oceangrid/tideObsAirTemp/search.do?ServiceKey=1LJG14JWnAylzKi5GvmuGg==&ObsCode=IE_0061&Date=20220217&ResultType=json\n",
      "http://www.khoa.go.kr/api/oceangrid/tideObsAirTemp/search.do?ServiceKey=1LJG14JWnAylzKi5GvmuGg==&ObsCode=TW_0089&Date=20220217&ResultType=json\n",
      "http://www.khoa.go.kr/api/oceangrid/tideObsAirTemp/search.do?ServiceKey=1LJG14JWnAylzKi5GvmuGg==&ObsCode=HB_0007&Date=20220217&ResultType=json\n",
      "http://www.khoa.go.kr/api/oceangrid/tideObsAirTemp/search.do?ServiceKey=1LJG14JWnAylzKi5GvmuGg==&ObsCode=HB_0008&Date=20220217&ResultType=json\n",
      "http://www.khoa.go.kr/api/oceangrid/tideObsAirTemp/search.do?ServiceKey=1LJG14JWnAylzKi5GvmuGg==&ObsCode=HB_0009&Date=20220217&ResultType=json\n",
      "http://www.khoa.go.kr/api/oceangrid/tideObsAirTemp/search.do?ServiceKey=1LJG14JWnAylzKi5GvmuGg==&ObsCode=TW_0079&Date=20220217&ResultType=json\n",
      "http://www.khoa.go.kr/api/oceangrid/tideObsAirTemp/search.do?ServiceKey=1LJG14JWnAylzKi5GvmuGg==&ObsCode=TW_0080&Date=20220217&ResultType=json\n",
      "http://www.khoa.go.kr/api/oceangrid/tideObsAirTemp/search.do?ServiceKey=1LJG14JWnAylzKi5GvmuGg==&ObsCode=TW_0081&Date=20220217&ResultType=json\n",
      "http://www.khoa.go.kr/api/oceangrid/tideObsAirTemp/search.do?ServiceKey=1LJG14JWnAylzKi5GvmuGg==&ObsCode=TW_0082&Date=20220217&ResultType=json\n",
      "http://www.khoa.go.kr/api/oceangrid/tideObsAirTemp/search.do?ServiceKey=1LJG14JWnAylzKi5GvmuGg==&ObsCode=TW_0083&Date=20220217&ResultType=json\n",
      "http://www.khoa.go.kr/api/oceangrid/tideObsAirTemp/search.do?ServiceKey=1LJG14JWnAylzKi5GvmuGg==&ObsCode=TW_0084&Date=20220217&ResultType=json\n",
      "http://www.khoa.go.kr/api/oceangrid/tideObsAirTemp/search.do?ServiceKey=1LJG14JWnAylzKi5GvmuGg==&ObsCode=TW_0092&Date=20220217&ResultType=json\n",
      "http://www.khoa.go.kr/api/oceangrid/tideObsAirTemp/search.do?ServiceKey=1LJG14JWnAylzKi5GvmuGg==&ObsCode=SF_0001&Date=20220217&ResultType=json\n",
      "http://www.khoa.go.kr/api/oceangrid/tideObsAirTemp/search.do?ServiceKey=1LJG14JWnAylzKi5GvmuGg==&ObsCode=TW_0078&Date=20220217&ResultType=json\n",
      "http://www.khoa.go.kr/api/oceangrid/tideObsAirTemp/search.do?ServiceKey=1LJG14JWnAylzKi5GvmuGg==&ObsCode=TW_0087&Date=20220217&ResultType=json\n",
      "http://www.khoa.go.kr/api/oceangrid/tideObsAirTemp/search.do?ServiceKey=1LJG14JWnAylzKi5GvmuGg==&ObsCode=TW_0090&Date=20220217&ResultType=json\n",
      "http://www.khoa.go.kr/api/oceangrid/tideObsAirTemp/search.do?ServiceKey=1LJG14JWnAylzKi5GvmuGg==&ObsCode=TW_0074&Date=20220217&ResultType=json\n",
      "http://www.khoa.go.kr/api/oceangrid/tideObsAirTemp/search.do?ServiceKey=1LJG14JWnAylzKi5GvmuGg==&ObsCode=HB_0001&Date=20220217&ResultType=json\n",
      "http://www.khoa.go.kr/api/oceangrid/tideObsAirTemp/search.do?ServiceKey=1LJG14JWnAylzKi5GvmuGg==&ObsCode=HB_0002&Date=20220217&ResultType=json\n",
      "http://www.khoa.go.kr/api/oceangrid/tideObsAirTemp/search.do?ServiceKey=1LJG14JWnAylzKi5GvmuGg==&ObsCode=HB_0003&Date=20220217&ResultType=json\n",
      "http://www.khoa.go.kr/api/oceangrid/tideObsAirTemp/search.do?ServiceKey=1LJG14JWnAylzKi5GvmuGg==&ObsCode=TW_0062&Date=20220217&ResultType=json\n",
      "http://www.khoa.go.kr/api/oceangrid/tideObsAirTemp/search.do?ServiceKey=1LJG14JWnAylzKi5GvmuGg==&ObsCode=TW_0069&Date=20220217&ResultType=json\n",
      "http://www.khoa.go.kr/api/oceangrid/tideObsAirTemp/search.do?ServiceKey=1LJG14JWnAylzKi5GvmuGg==&ObsCode=TW_0070&Date=20220217&ResultType=json\n",
      "http://www.khoa.go.kr/api/oceangrid/tideObsAirTemp/search.do?ServiceKey=1LJG14JWnAylzKi5GvmuGg==&ObsCode=TW_0072&Date=20220217&ResultType=json\n",
      "http://www.khoa.go.kr/api/oceangrid/tideObsAirTemp/search.do?ServiceKey=1LJG14JWnAylzKi5GvmuGg==&ObsCode=TW_0077&Date=20220217&ResultType=json\n",
      "http://www.khoa.go.kr/api/oceangrid/tideObsAirTemp/search.do?ServiceKey=1LJG14JWnAylzKi5GvmuGg==&ObsCode=TW_0075&Date=20220217&ResultType=json\n",
      "http://www.khoa.go.kr/api/oceangrid/tideObsAirTemp/search.do?ServiceKey=1LJG14JWnAylzKi5GvmuGg==&ObsCode=TW_0076&Date=20220217&ResultType=json\n",
      "http://www.khoa.go.kr/api/oceangrid/tideObsAirTemp/search.do?ServiceKey=1LJG14JWnAylzKi5GvmuGg==&ObsCode=TW_0088&Date=20220217&ResultType=json\n",
      "http://www.khoa.go.kr/api/oceangrid/tideObsAirTemp/search.do?ServiceKey=1LJG14JWnAylzKi5GvmuGg==&ObsCode=TW_0085&Date=20220217&ResultType=json\n",
      "http://www.khoa.go.kr/api/oceangrid/tideObsAirTemp/search.do?ServiceKey=1LJG14JWnAylzKi5GvmuGg==&ObsCode=TW_0091&Date=20220217&ResultType=json\n",
      "http://www.khoa.go.kr/api/oceangrid/tideObsAirTemp/search.do?ServiceKey=1LJG14JWnAylzKi5GvmuGg==&ObsCode=TW_0086&Date=20220217&ResultType=json\n",
      "http://www.khoa.go.kr/api/oceangrid/tideObsAirTemp/search.do?ServiceKey=1LJG14JWnAylzKi5GvmuGg==&ObsCode=SF_0005&Date=20220217&ResultType=json\n",
      "http://www.khoa.go.kr/api/oceangrid/tideObsAirTemp/search.do?ServiceKey=1LJG14JWnAylzKi5GvmuGg==&ObsCode=TW_0093&Date=20220217&ResultType=json\n",
      "http://www.khoa.go.kr/api/oceangrid/tideObsAirTemp/search.do?ServiceKey=1LJG14JWnAylzKi5GvmuGg==&ObsCode=TW_0094&Date=20220217&ResultType=json\n",
      "http://www.khoa.go.kr/api/oceangrid/tideObsAirTemp/search.do?ServiceKey=1LJG14JWnAylzKi5GvmuGg==&ObsCode=KG_0021&Date=20220217&ResultType=json\n",
      "http://www.khoa.go.kr/api/oceangrid/tideObsAirTemp/search.do?ServiceKey=1LJG14JWnAylzKi5GvmuGg==&ObsCode=KG_0024&Date=20220217&ResultType=json\n",
      "http://www.khoa.go.kr/api/oceangrid/tideObsAirTemp/search.do?ServiceKey=1LJG14JWnAylzKi5GvmuGg==&ObsCode=KG_0025&Date=20220217&ResultType=json\n",
      "http://www.khoa.go.kr/api/oceangrid/tideObsAirTemp/search.do?ServiceKey=1LJG14JWnAylzKi5GvmuGg==&ObsCode=KG_0028&Date=20220217&ResultType=json\n",
      "http://www.khoa.go.kr/api/oceangrid/tideObsAirTemp/search.do?ServiceKey=1LJG14JWnAylzKi5GvmuGg==&ObsCode=KG_0101&Date=20220217&ResultType=json\n",
      "http://www.khoa.go.kr/api/oceangrid/tideObsAirTemp/search.do?ServiceKey=1LJG14JWnAylzKi5GvmuGg==&ObsCode=KG_0102&Date=20220217&ResultType=json\n"
     ]
    }
   ],
   "source": [
    "for obs in obs_post_list:\n",
    "    url=\"http://www.khoa.go.kr/api/oceangrid/tideObsAirTemp/search.do?ServiceKey=\"+service_key+\"&ObsCode=\"+obs+\"&Date=\"+now_datetime+\"&ResultType=json\"\n",
    "    response = requests.get(url).json()\n",
    "    df = spark.createDataFrame(response[\"result\"][\"data\"])\n",
    "    df = df.withColumn('id',lit(response[\"result\"][\"meta\"][\"obs_post_id\"]))\n",
    "    # MySQL Data 적재 하는 부분 생성\n",
    "    "
   ]
  },
  {
   "cell_type": "code",
   "execution_count": 65,
   "id": "b1bd04a1-1d2d-4c28-ab4b-47bb59fa9b72",
   "metadata": {},
   "outputs": [],
   "source": [
    "url=\"http://www.khoa.go.kr/api/oceangrid/tideObsAirTemp/search.do?ServiceKey=1LJG14JWnAylzKi5GvmuGg==&ObsCode=DT_0063&Date=20220217&ResultType=json\""
   ]
  },
  {
   "cell_type": "code",
   "execution_count": 90,
   "id": "19054759-6ab1-4b9b-9f27-6a3b7cc8b2d1",
   "metadata": {
    "tags": []
   },
   "outputs": [],
   "source": [
    "# response = urllib.request.urlopen(url)\n",
    "json_str = response.read().decode(\"utf-8\")\n",
    "# str1 = response.json()\n",
    "json_object = json.loads(json_str)"
   ]
  },
  {
   "cell_type": "code",
   "execution_count": 103,
   "id": "1e330c96-157c-4afb-a3a2-b67fb41863d5",
   "metadata": {},
   "outputs": [],
   "source": [
    "response = requests.get(url).json()"
   ]
  },
  {
   "cell_type": "code",
   "execution_count": 112,
   "id": "38d2011d-f912-4889-9b36-19833dc5b691",
   "metadata": {},
   "outputs": [
    {
     "data": {
      "text/plain": [
       "dict"
      ]
     },
     "execution_count": 112,
     "metadata": {},
     "output_type": "execute_result"
    }
   ],
   "source": [
    "type(response)"
   ]
  },
  {
   "cell_type": "code",
   "execution_count": 136,
   "id": "da834840-285b-44b3-9593-74d1592a3c84",
   "metadata": {
    "tags": []
   },
   "outputs": [
    {
     "data": {
      "text/plain": [
       "{'obs_post_id': 'DT_0063',\n",
       " 'obs_last_req_cnt': '19984/20000',\n",
       " 'obs_lat': '35.024178',\n",
       " 'obs_post_name': '가덕도',\n",
       " 'obs_lon': '128.810933'}"
      ]
     },
     "execution_count": 136,
     "metadata": {},
     "output_type": "execute_result"
    }
   ],
   "source": [
    "# response[\"result\"][\"data\"]\n",
    "response[\"result\"][\"meta\"]"
   ]
  },
  {
   "cell_type": "code",
   "execution_count": 137,
   "id": "9b2de3c4-277f-43d9-849a-09abc9f88114",
   "metadata": {},
   "outputs": [
    {
     "data": {
      "text/plain": [
       "'DT_0063'"
      ]
     },
     "execution_count": 137,
     "metadata": {},
     "output_type": "execute_result"
    }
   ],
   "source": [
    "temp_obs_id=response[\"result\"][\"meta\"][\"obs_post_id\"]\n",
    "temp_obs_id"
   ]
  },
  {
   "cell_type": "code",
   "execution_count": 128,
   "id": "d2e7bb5d-15e3-422a-818e-ed7d1f8da2db",
   "metadata": {},
   "outputs": [],
   "source": [
    "df = spark.createDataFrame(response[\"result\"][\"data\"])"
   ]
  },
  {
   "cell_type": "code",
   "execution_count": 108,
   "id": "99deba07-7df2-49eb-aceb-d5529b06fb3a",
   "metadata": {},
   "outputs": [],
   "source": [
    "# rdd = spark.sparkContext.parallelize([response])\n",
    "\n",
    "# df = spark.read.option(\"multiLine\",\"true\").json(rdd)"
   ]
  },
  {
   "cell_type": "code",
   "execution_count": 129,
   "id": "02ebd6b9-952e-4051-82f3-41e7f682ffd5",
   "metadata": {},
   "outputs": [
    {
     "data": {
      "text/plain": [
       "pyspark.sql.dataframe.DataFrame"
      ]
     },
     "execution_count": 129,
     "metadata": {},
     "output_type": "execute_result"
    }
   ],
   "source": [
    "type(df))"
   ]
  },
  {
   "cell_type": "code",
   "execution_count": 130,
   "id": "ff6d6459-8803-4ae3-ad7d-1cb700afb6c6",
   "metadata": {},
   "outputs": [
    {
     "name": "stdout",
     "output_type": "stream",
     "text": [
      "root\n",
      " |-- air_temp: string (nullable = true)\n",
      " |-- record_time: string (nullable = true)\n",
      "\n"
     ]
    }
   ],
   "source": [
    "df.printSchema()"
   ]
  },
  {
   "cell_type": "code",
   "execution_count": null,
   "id": "1827356c-723d-44ed-abe0-8fe762bb79ae",
   "metadata": {},
   "outputs": [],
   "source": [
    "# json_schema = ArrayType(\n",
    "#     StructType([StructField('air_temp', DoubleType(), nullable=False),\n",
    "#                 StructField('record_time', StringType(), nullable=False),\n",
    "#                 StructField('obs_post_name', StringType(), nullable=False),\n",
    "#                 StructField('obs_lat', StringType(), nullable=False),\n",
    "#                 StructField('obs_lon', StringType(), nullable=False)]))"
   ]
  },
  {
   "cell_type": "code",
   "execution_count": 131,
   "id": "32abdf8b-375d-411c-856b-918bf502b10c",
   "metadata": {},
   "outputs": [
    {
     "name": "stdout",
     "output_type": "stream",
     "text": [
      "+--------+-------------------+\n",
      "|air_temp|        record_time|\n",
      "+--------+-------------------+\n",
      "|    -1.9|2022-02-17 00:00:00|\n",
      "|    -2.1|2022-02-17 00:01:00|\n",
      "|    -1.9|2022-02-17 00:02:00|\n",
      "|    -2.2|2022-02-17 00:03:00|\n",
      "|    -2.2|2022-02-17 00:04:00|\n",
      "+--------+-------------------+\n",
      "only showing top 5 rows\n",
      "\n"
     ]
    }
   ],
   "source": [
    "df.show(5)"
   ]
  },
  {
   "cell_type": "code",
   "execution_count": 140,
   "id": "a8a8a3fa-1966-4bd2-939d-596af2c47d47",
   "metadata": {},
   "outputs": [],
   "source": [
    "df = df.withColumn('id',lit(response[\"result\"][\"meta\"][\"obs_post_id\"]))"
   ]
  },
  {
   "cell_type": "code",
   "execution_count": 141,
   "id": "920c458a-c5e2-4ca9-9b32-c6b24488b574",
   "metadata": {},
   "outputs": [
    {
     "name": "stdout",
     "output_type": "stream",
     "text": [
      "+--------+-------------------+-------+\n",
      "|air_temp|        record_time|     id|\n",
      "+--------+-------------------+-------+\n",
      "|    -1.9|2022-02-17 00:00:00|DT_0063|\n",
      "|    -2.1|2022-02-17 00:01:00|DT_0063|\n",
      "|    -1.9|2022-02-17 00:02:00|DT_0063|\n",
      "|    -2.2|2022-02-17 00:03:00|DT_0063|\n",
      "|    -2.2|2022-02-17 00:04:00|DT_0063|\n",
      "+--------+-------------------+-------+\n",
      "only showing top 5 rows\n",
      "\n"
     ]
    }
   ],
   "source": [
    "df.show(5)"
   ]
  },
  {
   "cell_type": "code",
   "execution_count": 143,
   "id": "2ea39a59-84fe-4ece-b76f-91757913b6a2",
   "metadata": {},
   "outputs": [
    {
     "data": {
      "text/plain": [
       "1440"
      ]
     },
     "execution_count": 143,
     "metadata": {},
     "output_type": "execute_result"
    }
   ],
   "source": [
    "df.count()"
   ]
  },
  {
   "cell_type": "code",
   "execution_count": 9,
   "id": "b06e5667-7d90-4caa-aa2b-00984d3345f0",
   "metadata": {},
   "outputs": [],
   "source": [
    "spark.stop()"
   ]
  },
  {
   "cell_type": "code",
   "execution_count": null,
   "id": "ddc81c36-1463-49f5-bbd4-b14143961353",
   "metadata": {},
   "outputs": [],
   "source": []
  }
 ],
 "metadata": {
  "kernelspec": {
   "display_name": "pipeline",
   "language": "python",
   "name": "pipeline"
  },
  "language_info": {
   "codemirror_mode": {
    "name": "ipython",
    "version": 3
   },
   "file_extension": ".py",
   "mimetype": "text/x-python",
   "name": "python",
   "nbconvert_exporter": "python",
   "pygments_lexer": "ipython3",
   "version": "3.9.7"
  }
 },
 "nbformat": 4,
 "nbformat_minor": 5
}
