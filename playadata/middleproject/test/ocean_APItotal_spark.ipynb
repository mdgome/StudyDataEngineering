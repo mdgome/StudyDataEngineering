{
 "cells": [
  {
   "cell_type": "code",
   "execution_count": 1,
   "id": "34a15cf6-b985-49ea-9f38-9ceb12d3ff8a",
   "metadata": {},
   "outputs": [],
   "source": [
    "import findspark\n",
    "findspark.init()"
   ]
  },
  {
   "cell_type": "code",
   "execution_count": 2,
   "id": "718ff2ac-f54c-443f-be16-88727358b909",
   "metadata": {},
   "outputs": [],
   "source": [
    "from pyspark.sql import SparkSession\n",
    "# from pyspark.sql.types import ArrayType, IntegerType, StructType, StructField\n",
    "from pyspark.sql.types import *\n",
    "from pyspark.sql.functions import *"
   ]
  },
  {
   "cell_type": "code",
   "execution_count": 3,
   "id": "5b7ae15d-dd92-499f-afe1-1bf4e6d974f1",
   "metadata": {},
   "outputs": [],
   "source": [
    "from datetime import datetime, timedelta\n",
    "import requests\n",
    "import json"
   ]
  },
  {
   "cell_type": "code",
   "execution_count": 4,
   "id": "5f318956-5bf7-4ab7-8a96-0846f92d529d",
   "metadata": {},
   "outputs": [],
   "source": [
    "ip='220.78.231.223'"
   ]
  },
  {
   "cell_type": "code",
   "execution_count": 5,
   "id": "a1d7c368-2fc4-420c-af93-380b2d022273",
   "metadata": {
    "tags": []
   },
   "outputs": [
    {
     "name": "stderr",
     "output_type": "stream",
     "text": [
      "22/02/27 01:57:49 WARN Utils: Your hostname, Jungminui-MacBookPro.local resolves to a loopback address: 127.0.0.1; using 172.30.1.10 instead (on interface en0)\n",
      "22/02/27 01:57:49 WARN Utils: Set SPARK_LOCAL_IP if you need to bind to another address\n",
      "Using Spark's default log4j profile: org/apache/spark/log4j-defaults.properties\n",
      "Setting default log level to \"WARN\".\n",
      "To adjust logging level use sc.setLogLevel(newLevel). For SparkR, use setLogLevel(newLevel).\n",
      "22/02/27 01:57:50 WARN NativeCodeLoader: Unable to load native-hadoop library for your platform... using builtin-java classes where applicable\n"
     ]
    }
   ],
   "source": [
    "cluster = '118.34.234.79:7077'\n",
    "spark = SparkSession \\\n",
    "        .builder \\\n",
    "        .master('local[2]') \\\n",
    "        .config(\"spark.driver.extraClassPath\", \"/Users/mdgome/Downloads/mysql-connector-java-8.0.28/mysql-connector-java-8.0.28.jar\") \\\n",
    "        .appName('tempera_obs') \\\n",
    "        .getOrCreate()"
   ]
  },
  {
   "cell_type": "code",
   "execution_count": 6,
   "id": "40846941-127f-4405-bbb9-f86e68ea41b4",
   "metadata": {},
   "outputs": [
    {
     "name": "stderr",
     "output_type": "stream",
     "text": [
      "Loading class `com.mysql.jdbc.Driver'. This is deprecated. The new driver class is `com.mysql.cj.jdbc.Driver'. The driver is automatically registered via the SPI and manual loading of the driver class is generally unnecessary.\n",
      "[Stage 0:>                                                          (0 + 1) / 1]\r"
     ]
    },
    {
     "name": "stdout",
     "output_type": "stream",
     "text": [
      "+----------+---------+----------+----------------------------------+-----------+-------------+\n",
      "| data_type|  obs_lat|   obs_lon|                        obs_object|obs_post_id|obs_post_name|\n",
      "+----------+---------+----------+----------------------------------+-----------+-------------+\n",
      "|조위관측소|  36.6775|129.453056|조위,수온,염분,기온,기압,풍속,풍향|    DT_0011|         후포|\n",
      "|조위관측소|35.024178|128.810933|조위,수온,염분,기온,기압,풍속,풍향|    DT_0063|       가덕도|\n",
      "|조위관측소|34.684167|125.435556|조위,수온,염분,기온,기압,풍속,풍향|    DT_0035|       흑산도|\n",
      "|조위관측소|37.731944|126.522222|                         조위,기압|    DT_0032|     강화대교|\n",
      "|조위관측소|34.028333|127.308889|조위,수온,염분,기온,기압,풍속,풍향|    DT_0031|       거문도|\n",
      "+----------+---------+----------+----------------------------------+-----------+-------------+\n",
      "only showing top 5 rows\n",
      "\n"
     ]
    },
    {
     "name": "stderr",
     "output_type": "stream",
     "text": [
      "                                                                                \r"
     ]
    }
   ],
   "source": [
    "# obs_post_data = pd.read_csv(\"./관측소 정보.csv\")\n",
    "obs_post_data= spark.read.format('jdbc').options(\n",
    "    url='jdbc:mysql://'+ip+'/weather',\n",
    "    driver='com.mysql.jdbc.Driver',\n",
    "    dbtable='obs_info',\n",
    "    user='mdgome',\n",
    "    password='Rlawjdals1!').load()\n",
    "obs_post_data.show(5)"
   ]
  },
  {
   "cell_type": "code",
   "execution_count": 9,
   "id": "fa43472d-6fbe-4090-8b27-573d3f4b996f",
   "metadata": {},
   "outputs": [
    {
     "name": "stdout",
     "output_type": "stream",
     "text": [
      "[('spark.driver.host', '172.30.1.10'),\n",
      " ('spark.app.id', 'local-1645894671269'),\n",
      " ('spark.executor.id', 'driver'),\n",
      " ('spark.driver.port', '50656'),\n",
      " ('spark.rdd.compress', 'True'),\n",
      " ('spark.driver.extraClassPath',\n",
      "  '/Users/mdgome/Downloads/mysql-connector-java-8.0.28/mysql-connector-java-8.0.28.jar'),\n",
      " ('spark.serializer.objectStreamReset', '100'),\n",
      " ('spark.app.startTime', '1645894669946'),\n",
      " ('spark.submit.pyFiles', ''),\n",
      " ('spark.app.name', 'tempera_obs'),\n",
      " ('spark.submit.deployMode', 'client'),\n",
      " ('spark.ui.showConsoleProgress', 'true'),\n",
      " ('spark.master', 'local[2]'),\n",
      " ('spark.sql.warehouse.dir',\n",
      "  'file:/Users/mdgome/workspace/study/StudyDataEngineering/playadata/middleproject/spark-warehouse')]\n"
     ]
    }
   ],
   "source": [
    "import pprint\n",
    "pprint.pprint(spark.sparkContext.getConf().getAll())\n",
    "# spark.stop()"
   ]
  },
  {
   "cell_type": "code",
   "execution_count": 8,
   "id": "a5d324c2-2579-4e44-99b3-a18e2d9cbb63",
   "metadata": {},
   "outputs": [
    {
     "name": "stdout",
     "output_type": "stream",
     "text": [
      "['DT_0011', 'DT_0063', 'DT_0035', 'DT_0032', 'DT_0031', 'DT_0042', 'DT_0029', 'DT_0041', 'DT_0039', 'DT_0058', 'IE_0060', 'DT_0026', 'DT_0049', 'IE_0062', 'DT_0018', 'IE_0061', 'DT_0017', 'TW_0089', 'HB_0007', 'DT_0065', 'HB_0008', 'DT_0057', 'HB_0009', 'DT_0062', 'TW_0079', 'DT_0023', 'DT_0007', 'TW_0080', 'TW_0081', 'DT_0006', 'TW_0082', 'DT_0025', 'TW_0083', 'DT_0005', 'TW_0084', 'DT_0056', 'TW_0092', 'DT_0061', 'SF_0001', 'DT_0010', 'TW_0078', 'DT_0051', 'TW_0087', 'DT_0022', 'TW_0090', 'DT_0012', 'TW_0074', 'DT_0008', 'HB_0001', 'DT_0067', 'HB_0002', 'DT_0037', 'HB_0003', 'DT_0016', 'TW_0062', 'DT_0092', 'TW_0069', 'DT_0003', 'TW_0070', 'DT_0044', 'TW_0072', 'DT_0043', 'TW_0077', 'DT_0027', 'TW_0075', 'DT_0013', 'TW_0076', 'DT_0020', 'DT_0068', 'TW_0088', 'TW_0085', 'DT_0001', 'TW_0091', 'DT_0052', 'TW_0086', 'DT_0024', 'SF_0005', 'DT_0004', 'TW_0093', 'DT_0028', 'TW_0094', 'DT_0021', 'DT_0050', 'KG_0021', 'DT_0014', 'KG_0024', 'KG_0025', 'DT_0002', 'KG_0028', 'DT_0091', 'KG_0101', 'DT_0066', 'KG_0102']\n"
     ]
    },
    {
     "name": "stderr",
     "output_type": "stream",
     "text": [
      "                                                                                \r"
     ]
    }
   ],
   "source": [
    "obs_post_list = obs_post_data.select('obs_post_id').rdd.flatMap(lambda x: x).collect()\n",
    "print(list(obs_post_list)) # 디버깅 용"
   ]
  },
  {
   "cell_type": "code",
   "execution_count": 14,
   "id": "dc786dae-b8cb-47a3-9841-1b391690141d",
   "metadata": {},
   "outputs": [
    {
     "data": {
      "text/plain": [
       "'20220225'"
      ]
     },
     "execution_count": 14,
     "metadata": {},
     "output_type": "execute_result"
    }
   ],
   "source": [
    "service_key=\"1LJG14JWnAylzKi5GvmuGg==\"\n",
    "now_datetime=datetime.now().strftime('%Y%m%d')\n",
    "now_datetime # 디버깅 용"
   ]
  },
  {
   "cell_type": "code",
   "execution_count": 518,
   "id": "d966e48d-0007-4366-b24d-c59457a5242c",
   "metadata": {},
   "outputs": [
    {
     "data": {
      "text/plain": [
       "'20220224'"
      ]
     },
     "execution_count": 518,
     "metadata": {},
     "output_type": "execute_result"
    }
   ],
   "source": [
    "yesterday = datetime.today() - timedelta(days = 1 )\n",
    "yesterday = yesterday.strftime('%Y%m%d')\n",
    "yesterday"
   ]
  },
  {
   "cell_type": "code",
   "execution_count": 519,
   "id": "526dab36-d5df-4807-a970-cf2e7dbbe800",
   "metadata": {
    "tags": []
   },
   "outputs": [],
   "source": [
    "# for obs in obs_post_list:\n",
    "#     print(obs)\n",
    "#     url=\"http://www.khoa.go.kr/api/oceangrid/tideObsAirTemp/search.do?ServiceKey=\"+service_key+\"&ObsCode=\"+obs+\"&Date=\"+now_datetime+\"&ResultType=json\"\n",
    "#     url1=\"http://www.khoa.go.kr/api/oceangrid/tideObsAirPres/search.do?ServiceKey=\"+service_key+\"&ObsCode=\"+obs+\"&Date=\"+now_datetime+\"&ResultType=json\"\n",
    "#     url2=\"http://www.khoa.go.kr/api/oceangrid/tideObsWind/search.do?ServiceKey=\"+service_key+\"&ObsCode=\"+obs+\"&Date=\"+now_datetime+\"&ResultType=json\"\n",
    "#     url3=\"http://www.khoa.go.kr/api/oceangrid/tideObsSalt/search.do?ServiceKey=\"+service_key+\"&ObsCode=\"+obs+\"&Date=\"+now_datetime+\"&ResultType=json\"\n",
    "#     response = requests.get(url).json()\n",
    "#     response1 = requests.get(url1).json()\n",
    "#     response2 = requests.get(url2).json()\n",
    "#     response3 = requests.get(url3).json()\n",
    "#     df = spark.createDataFrame(response[\"result\"][\"data\"])\n",
    "#     df1 = spark.createDataFrame(response1[\"result\"][\"data\"])\n",
    "#     df2 = spark.createDataFrame(response2[\"result\"][\"data\"])\n",
    "#     df3 = spark.createDataFrame(response3[\"result\"][\"data\"])\n",
    "    \n",
    "#     output_df = df.join(df1,'record_time')#.select(df1.record_time, df1.air_pres, df.air_temp)\n",
    "#     output_df = output_df.join(df2, 'record_time')#.select(output_df.record_time,output_df.air_pres,output_df.air_temp,df2.wind_dir,df2.wind_speed)\n",
    "#     output_df = output_df.join(df3, 'record_time')#.select(output_df.record_time,output_df.air_pres,output_df.air_temp,output_df.wind_dir,output_df.wind_speed,df3.salinity)\n",
    "#     output_df = output_df.withColumn('id',lit(obs))\n",
    "    \n",
    "#     output_df.write.csv('./'+now_datetime+\"/\"+obs+\".csv\")\n",
    "#     # MySQL Data 적재 하는 부분 생성\n",
    "#     # output_df.write.format('jdbc').options(\n",
    "#     #     url='jdbc:mysql://'+ip+'/weather',\n",
    "#     #     driver='com.mysql.jdbc.Driver',\n",
    "#     #     dbtable=response[\"result\"][\"meta\"][\"obs_post_id\"],\n",
    "#     #     user='mdgome',\n",
    "#     #     password='Rlawjdals1!').mode('append').save()\n",
    "    "
   ]
  },
  {
   "cell_type": "code",
   "execution_count": 520,
   "id": "386efe90-ecc1-48a7-bd26-4dd45d89ed1c",
   "metadata": {},
   "outputs": [],
   "source": [
    "# 밑에 부분은 테스트 코드에요"
   ]
  },
  {
   "cell_type": "code",
   "execution_count": 521,
   "id": "3eb8b817-38ea-44b7-9cec-a58e8f83754d",
   "metadata": {
    "tags": []
   },
   "outputs": [],
   "source": [
    "# url1=\"http://www.khoa.go.kr/api/oceangrid/tideObsAirPres/search.do?ServiceKey=\"+service_key+\"&ObsCode=DT_0004&Date=\"+now_datetime+\"&ResultType=json\"\n",
    "# response1=requests.get(url1).json()\n",
    "# response1[\"result\"][\"data\"]"
   ]
  },
  {
   "cell_type": "code",
   "execution_count": 522,
   "id": "b1bd04a1-1d2d-4c28-ab4b-47bb59fa9b72",
   "metadata": {},
   "outputs": [],
   "source": [
    "# # 기온 api\n",
    "# url=\"http://www.khoa.go.kr/api/oceangrid/tideObsAirTemp/search.do?ServiceKey=\"+service_key+\"&ObsCode=DT_0004&Date=\"+now_datetime+\"&ResultType=json\"\n",
    "# # 기압 api\n",
    "# url1=\"http://www.khoa.go.kr/api/oceangrid/tideObsAirPres/search.do?ServiceKey=\"+service_key+\"&ObsCode=DT_0004&Date=\"+now_datetime+\"&ResultType=json\"\n",
    "# # 풍속 api\n",
    "# url2=\"http://www.khoa.go.kr/api/oceangrid/tideObsWind/search.do?ServiceKey=\"+service_key+\"&ObsCode=DT_0004&Date=\"+now_datetime+\"&ResultType=json\"\n",
    "# # 염분 api\n",
    "# url3=\"http://www.khoa.go.kr/api/oceangrid/tideObsSalt/search.do?ServiceKey=\"+service_key+\"&ObsCode=DT_0004&Date=\"+now_datetime+\"&ResultType=json\"\n",
    "# # 조위 실측/예측 api\n",
    "# url4=\"http://www.khoa.go.kr/api/oceangrid/tideCurPre/search.do?ServiceKey=\"+service_key+\"&ObsCode=DT_0004&Date=\"+now_datetime+\"&ResultType=json\""
   ]
  },
  {
   "cell_type": "code",
   "execution_count": 523,
   "id": "a3a30f38-1851-4649-883f-a9c5bf53d77d",
   "metadata": {},
   "outputs": [],
   "source": [
    "# 기온 api\n",
    "url=\"http://www.khoa.go.kr/api/oceangrid/tideObsAirTemp/search.do?ServiceKey=\"+service_key+\"&ObsCode=DT_0004&Date=\"+yesterday+\"&ResultType=json\"\n",
    "# 기압 api\n",
    "url1=\"http://www.khoa.go.kr/api/oceangrid/tideObsAirPres/search.do?ServiceKey=\"+service_key+\"&ObsCode=DT_0004&Date=\"+yesterday+\"&ResultType=json\"\n",
    "# 풍속 api\n",
    "url2=\"http://www.khoa.go.kr/api/oceangrid/tideObsWind/search.do?ServiceKey=\"+service_key+\"&ObsCode=DT_0004&Date=\"+yesterday+\"&ResultType=json\"\n",
    "# 염분 api\n",
    "url3=\"http://www.khoa.go.kr/api/oceangrid/tideObsSalt/search.do?ServiceKey=\"+service_key+\"&ObsCode=DT_0004&Date=\"+yesterday+\"&ResultType=json\"\n",
    "# 조위 실측/예측 api\n",
    "url4=\"http://www.khoa.go.kr/api/oceangrid/tideCurPre/search.do?ServiceKey=\"+service_key+\"&ObsCode=DT_0004&Date=\"+yesterday+\"&ResultType=json\"\n",
    "# 수온 api\n",
    "url5=\"http://www.khoa.go.kr/api/oceangrid/tideObsTemp/search.do?ServiceKey=\"+service_key+\"&ObsCode=DT_0004&Date=\"+yesterday+\"&ResultType=json\""
   ]
  },
  {
   "cell_type": "code",
   "execution_count": 524,
   "id": "1e330c96-157c-4afb-a3a2-b67fb41863d5",
   "metadata": {},
   "outputs": [],
   "source": [
    "response = requests.get(url).json()\n",
    "response1 = requests.get(url1).json()\n",
    "response2 = requests.get(url2).json()\n",
    "response3 = requests.get(url3).json()\n",
    "response4 = requests.get(url4).json()\n",
    "response5 = requests.get(url5).json()"
   ]
  },
  {
   "cell_type": "code",
   "execution_count": 525,
   "id": "da834840-285b-44b3-9593-74d1592a3c84",
   "metadata": {
    "tags": []
   },
   "outputs": [],
   "source": [
    "# response[\"result\"][\"data\"]\n",
    "# # response[\"result\"][\"meta\"]"
   ]
  },
  {
   "cell_type": "code",
   "execution_count": 526,
   "id": "643d938e-5349-4a5e-a080-a259118d3823",
   "metadata": {
    "tags": []
   },
   "outputs": [],
   "source": [
    "# response1[\"result\"][\"data\"]"
   ]
  },
  {
   "cell_type": "code",
   "execution_count": 527,
   "id": "186c65bc-4e75-46e6-b3cd-aea78f1a1a37",
   "metadata": {
    "tags": []
   },
   "outputs": [],
   "source": [
    "# response2[\"result\"][\"data\"]"
   ]
  },
  {
   "cell_type": "code",
   "execution_count": 528,
   "id": "2a3f4c83-df20-4bb7-8e64-c1a479158f84",
   "metadata": {
    "tags": []
   },
   "outputs": [],
   "source": [
    "# response3[\"result\"][\"data\"]"
   ]
  },
  {
   "cell_type": "code",
   "execution_count": 529,
   "id": "c220d51f-6492-4114-a390-9778dace2534",
   "metadata": {
    "tags": []
   },
   "outputs": [],
   "source": [
    "# response4[\"result\"][\"data\"]"
   ]
  },
  {
   "cell_type": "code",
   "execution_count": 530,
   "id": "5a6e8269-1595-4197-82dd-b16d13b0c632",
   "metadata": {
    "tags": []
   },
   "outputs": [],
   "source": [
    "# response5[\"result\"][\"data\"]"
   ]
  },
  {
   "cell_type": "code",
   "execution_count": 531,
   "id": "d2e7bb5d-15e3-422a-818e-ed7d1f8da2db",
   "metadata": {},
   "outputs": [],
   "source": [
    "df = spark.createDataFrame(response[\"result\"][\"data\"])\n",
    "df1 = spark.createDataFrame(response1[\"result\"][\"data\"])\n",
    "df2 = spark.createDataFrame(response2[\"result\"][\"data\"])\n",
    "df3 = spark.createDataFrame(response3[\"result\"][\"data\"])\n",
    "df4 = spark.createDataFrame(response4[\"result\"][\"data\"])\n",
    "df5 = spark.createDataFrame(response5[\"result\"][\"data\"])"
   ]
  },
  {
   "cell_type": "code",
   "execution_count": 532,
   "id": "b1f67c92-5cbf-4f35-a49a-06a8fc7828c3",
   "metadata": {},
   "outputs": [],
   "source": [
    "# df4.show(100)"
   ]
  },
  {
   "cell_type": "code",
   "execution_count": 533,
   "id": "673b5d01-7be2-4d7d-b96c-cf2f11523825",
   "metadata": {},
   "outputs": [],
   "source": [
    "output_df = df.join(df1,'record_time')#.select(df1.record_time, df1.air_pres, df.air_temp)\n",
    "output_df = output_df.join(df2, 'record_time')#.select(output_df.record_time,output_df.air_pres,output_df.air_temp,df2.wind_dir,df2.wind_speed)\n",
    "output_df = output_df.join(df3, 'record_time')#.select(output_df.record_time,output_df.air_pres,output_df.air_temp,output_df.wind_dir,output_df.wind_speed,df3.salinity)\n",
    "output_df = output_df.join(df5, 'record_time')#.select(output_df.record_time,output_df.air_pres,output_df.air_temp,output_df.wind_dir,output_df.wind_speed,df3.salinity)\n",
    "# output_df = output_df.join(df4, 'record_time')#.select(output_df.record_time,output_df.air_pres,output_df.air_temp,output_df.wind_dir,output_df.wind_speed,output_df.salinity,df4.pre_value,df4.real_value)"
   ]
  },
  {
   "cell_type": "code",
   "execution_count": 534,
   "id": "21f9d00c-ab88-4d98-aeed-63854970708f",
   "metadata": {},
   "outputs": [
    {
     "name": "stdout",
     "output_type": "stream",
     "text": [
      "+-------------------+--------+--------+--------+----------+--------+----------+\n",
      "|        record_time|air_temp|air_pres|wind_dir|wind_speed|salinity|water_temp|\n",
      "+-------------------+--------+--------+--------+----------+--------+----------+\n",
      "|2022-02-24 00:00:00|     1.3|  1032.9|   351.0|       3.6|    32.3|        13|\n",
      "|2022-02-24 00:01:00|     1.3|  1033.1|   351.0|       2.7|    32.3|        13|\n",
      "|2022-02-24 00:02:00|     1.4|  1032.9|   344.0|       5.0|    32.3|        13|\n",
      "|2022-02-24 00:03:00|     1.3|  1033.1|     0.0|       5.0|    32.3|        13|\n",
      "|2022-02-24 00:04:00|     1.3|  1032.9|   336.0|       3.8|    32.3|        13|\n",
      "|2022-02-24 00:05:00|     1.4|  1033.1|   353.0|       3.1|    32.3|        13|\n",
      "|2022-02-24 00:06:00|     1.2|  1033.1|   351.0|       4.4|    32.3|        13|\n",
      "|2022-02-24 00:07:00|     1.2|  1033.1|   350.0|       3.4|    32.3|        13|\n",
      "|2022-02-24 00:08:00|     1.1|  1033.1|   348.0|       4.7|    32.3|        13|\n",
      "|2022-02-24 00:09:00|     1.1|  1032.9|   357.0|       3.7|    32.3|        13|\n",
      "+-------------------+--------+--------+--------+----------+--------+----------+\n",
      "only showing top 10 rows\n",
      "\n"
     ]
    }
   ],
   "source": [
    "output_df = output_df.sort(asc(\"record_time\"))\n",
    "output_df.show(10)"
   ]
  },
  {
   "cell_type": "code",
   "execution_count": 535,
   "id": "e7bb1ade-e059-4738-9025-7a43926ddf07",
   "metadata": {},
   "outputs": [
    {
     "name": "stdout",
     "output_type": "stream",
     "text": [
      "+---------+----------+----------------+\n",
      "|pre_value|real_value|     record_time|\n",
      "+---------+----------+----------------+\n",
      "|       97|        97|2022-02-24 00:00|\n",
      "|      132|       130|2022-02-24 01:00|\n",
      "|      166|       163|2022-02-24 02:00|\n",
      "|      189|       187|2022-02-24 03:00|\n",
      "|      199|       202|2022-02-24 04:00|\n",
      "|      199|       203|2022-02-24 05:00|\n",
      "|      189|       192|2022-02-24 06:00|\n",
      "|      173|       178|2022-02-24 07:00|\n",
      "|      152|       159|2022-02-24 08:00|\n",
      "|      130|       135|2022-02-24 09:00|\n",
      "+---------+----------+----------------+\n",
      "only showing top 10 rows\n",
      "\n"
     ]
    }
   ],
   "source": [
    "df4 = df4.sort(asc(\"record_time\"))\n",
    "df4.show(10)"
   ]
  },
  {
   "cell_type": "code",
   "execution_count": 536,
   "id": "a8a8a3fa-1966-4bd2-939d-596af2c47d47",
   "metadata": {},
   "outputs": [],
   "source": [
    "output_df = output_df.withColumn('id',lit(response[\"result\"][\"meta\"][\"obs_post_id\"]))\n",
    "df4 = df4.withColumn('id',lit(response[\"result\"][\"meta\"][\"obs_post_id\"]))"
   ]
  },
  {
   "cell_type": "code",
   "execution_count": 537,
   "id": "fdd76a08-b7f6-4645-bc73-35662eb61c3b",
   "metadata": {},
   "outputs": [
    {
     "name": "stdout",
     "output_type": "stream",
     "text": [
      "+-------------------+--------+--------+--------+----------+--------+----------+-------+\n",
      "|        record_time|air_temp|air_pres|wind_dir|wind_speed|salinity|water_temp|     id|\n",
      "+-------------------+--------+--------+--------+----------+--------+----------+-------+\n",
      "|2022-02-24 00:00:00|     1.3|  1032.9|   351.0|       3.6|    32.3|        13|DT_0004|\n",
      "|2022-02-24 00:01:00|     1.3|  1033.1|   351.0|       2.7|    32.3|        13|DT_0004|\n",
      "|2022-02-24 00:02:00|     1.4|  1032.9|   344.0|       5.0|    32.3|        13|DT_0004|\n",
      "|2022-02-24 00:03:00|     1.3|  1033.1|     0.0|       5.0|    32.3|        13|DT_0004|\n",
      "|2022-02-24 00:04:00|     1.3|  1032.9|   336.0|       3.8|    32.3|        13|DT_0004|\n",
      "+-------------------+--------+--------+--------+----------+--------+----------+-------+\n",
      "only showing top 5 rows\n",
      "\n"
     ]
    }
   ],
   "source": [
    "output_df.show(5)"
   ]
  },
  {
   "cell_type": "code",
   "execution_count": 538,
   "id": "dc63c336-fede-445b-83ae-dffed2f067c2",
   "metadata": {},
   "outputs": [
    {
     "name": "stdout",
     "output_type": "stream",
     "text": [
      "+---------+----------+----------------+-------+\n",
      "|pre_value|real_value|     record_time|     id|\n",
      "+---------+----------+----------------+-------+\n",
      "|       97|        97|2022-02-24 00:00|DT_0004|\n",
      "|      132|       130|2022-02-24 01:00|DT_0004|\n",
      "|      166|       163|2022-02-24 02:00|DT_0004|\n",
      "|      189|       187|2022-02-24 03:00|DT_0004|\n",
      "|      199|       202|2022-02-24 04:00|DT_0004|\n",
      "+---------+----------+----------------+-------+\n",
      "only showing top 5 rows\n",
      "\n"
     ]
    }
   ],
   "source": [
    "df4.show(5)"
   ]
  },
  {
   "cell_type": "code",
   "execution_count": 539,
   "id": "b38c38a7-ac3e-4f20-b85c-c0460f4c18f9",
   "metadata": {},
   "outputs": [],
   "source": [
    "output_df = output_df.withColumn('air_temp', output_df['air_temp'].cast(DoubleType()))\\\n",
    "    .withColumn('air_pres', output_df['air_pres'].cast(DoubleType()))\\\n",
    "    .withColumn('wind_dir', output_df['wind_dir'].cast(DoubleType()))\\\n",
    "    .withColumn('record_time', output_df['record_time'].cast(\"timestamp\"))\\\n",
    "    .withColumn('salinity', output_df['salinity'].cast(DoubleType()))\n",
    "    # .withColumn('pre_value', df4['pre_value'].cast(IntegerType())) \\\n",
    "    # .withColumn('real_value', df4['real_value'].cast(IntegerType()))"
   ]
  },
  {
   "cell_type": "code",
   "execution_count": 540,
   "id": "153de5ea-c125-4dfa-ae93-d7e2125ebcd4",
   "metadata": {},
   "outputs": [
    {
     "name": "stdout",
     "output_type": "stream",
     "text": [
      "root\n",
      " |-- record_time: timestamp (nullable = true)\n",
      " |-- air_temp: double (nullable = true)\n",
      " |-- air_pres: double (nullable = true)\n",
      " |-- wind_dir: double (nullable = true)\n",
      " |-- wind_speed: string (nullable = true)\n",
      " |-- salinity: double (nullable = true)\n",
      " |-- water_temp: string (nullable = true)\n",
      " |-- id: string (nullable = false)\n",
      "\n"
     ]
    }
   ],
   "source": [
    "output_df.printSchema()"
   ]
  },
  {
   "cell_type": "code",
   "execution_count": 541,
   "id": "2a519d8e-cb1f-4633-babb-a79fc41e4e43",
   "metadata": {},
   "outputs": [
    {
     "name": "stdout",
     "output_type": "stream",
     "text": [
      "+-------------------+--------+--------+--------+----------+--------+----------+-------+\n",
      "|        record_time|air_temp|air_pres|wind_dir|wind_speed|salinity|water_temp|     id|\n",
      "+-------------------+--------+--------+--------+----------+--------+----------+-------+\n",
      "|2022-02-24 00:00:00|     1.3|  1032.9|   351.0|       3.6|    32.3|        13|DT_0004|\n",
      "|2022-02-24 00:01:00|     1.3|  1033.1|   351.0|       2.7|    32.3|        13|DT_0004|\n",
      "|2022-02-24 00:02:00|     1.4|  1032.9|   344.0|       5.0|    32.3|        13|DT_0004|\n",
      "|2022-02-24 00:03:00|     1.3|  1033.1|     0.0|       5.0|    32.3|        13|DT_0004|\n",
      "|2022-02-24 00:04:00|     1.3|  1032.9|   336.0|       3.8|    32.3|        13|DT_0004|\n",
      "+-------------------+--------+--------+--------+----------+--------+----------+-------+\n",
      "only showing top 5 rows\n",
      "\n"
     ]
    }
   ],
   "source": [
    "output_df.show(5)"
   ]
  },
  {
   "cell_type": "code",
   "execution_count": 542,
   "id": "af721716-3c32-4943-910f-574fae4d69e6",
   "metadata": {},
   "outputs": [],
   "source": [
    "df4 = df4.withColumn('pre_value', df4['pre_value'].cast(IntegerType())) \\\n",
    "    .withColumn('record_time', df4['record_time'].cast(\"timestamp\"))\\\n",
    "    .withColumn('real_value', df4['real_value'].cast(IntegerType()))"
   ]
  },
  {
   "cell_type": "code",
   "execution_count": 543,
   "id": "f1c7dfd0-3279-4bc7-a7f8-7186e2b37c41",
   "metadata": {},
   "outputs": [
    {
     "name": "stdout",
     "output_type": "stream",
     "text": [
      "root\n",
      " |-- pre_value: integer (nullable = true)\n",
      " |-- real_value: integer (nullable = true)\n",
      " |-- record_time: timestamp (nullable = true)\n",
      " |-- id: string (nullable = false)\n",
      "\n"
     ]
    }
   ],
   "source": [
    "df4.printSchema()"
   ]
  },
  {
   "cell_type": "code",
   "execution_count": 544,
   "id": "635923b9-05ef-47fa-b14f-92465713dfe2",
   "metadata": {},
   "outputs": [
    {
     "name": "stdout",
     "output_type": "stream",
     "text": [
      "+---------+----------+-------------------+-------+\n",
      "|pre_value|real_value|        record_time|     id|\n",
      "+---------+----------+-------------------+-------+\n",
      "|       97|        97|2022-02-24 00:00:00|DT_0004|\n",
      "|      132|       130|2022-02-24 01:00:00|DT_0004|\n",
      "|      166|       163|2022-02-24 02:00:00|DT_0004|\n",
      "|      189|       187|2022-02-24 03:00:00|DT_0004|\n",
      "|      199|       202|2022-02-24 04:00:00|DT_0004|\n",
      "+---------+----------+-------------------+-------+\n",
      "only showing top 5 rows\n",
      "\n"
     ]
    }
   ],
   "source": [
    "df4.show(5)"
   ]
  },
  {
   "cell_type": "code",
   "execution_count": 545,
   "id": "8645b6ba-0bb5-42ba-a743-b701c62cfde0",
   "metadata": {
    "tags": []
   },
   "outputs": [
    {
     "name": "stderr",
     "output_type": "stream",
     "text": [
      "                                                                                \r"
     ]
    }
   ],
   "source": [
    "output_df.write.format('jdbc').options(\n",
    "    url='jdbc:mysql://'+ip+'/weather',\n",
    "    driver='com.mysql.jdbc.Driver',\n",
    "    dbtable='DT_0004',\n",
    "    user='mdgome',\n",
    "    password='Rlawjdals1!').mode('append').save()"
   ]
  },
  {
   "cell_type": "code",
   "execution_count": 546,
   "id": "422aa0fc-d036-4e11-9f0e-b18d07f05414",
   "metadata": {},
   "outputs": [],
   "source": [
    "df4.write.format('jdbc').options(\n",
    "    url='jdbc:mysql://'+ip+'/weather',\n",
    "    driver='com.mysql.jdbc.Driver',\n",
    "    dbtable='DT_0004_tideCurPre',\n",
    "    user='mdgome',\n",
    "    password='Rlawjdals1!').mode('append').save()"
   ]
  },
  {
   "cell_type": "code",
   "execution_count": 114,
   "id": "6f6dad23-4d23-49d7-9c05-4c346c8b4bc3",
   "metadata": {},
   "outputs": [
    {
     "data": {
      "text/plain": [
       "'http://www.khoa.go.kr/api/oceangrid/tidalBu/search.do?ServiceKey=1LJG14JWnAylzKi5GvmuGg==&ObsCode=KG_0021&Date=20220225&ResultType=json'"
      ]
     },
     "execution_count": 114,
     "metadata": {},
     "output_type": "execute_result"
    }
   ],
   "source": [
    "# 수온 api\n",
    "url = \"http://www.khoa.go.kr/api/oceangrid/tidalBuTemp/search.do?ServiceKey=\"+service_key+\"&ObsCode=KG_0021&Date=\"+now_datetime+\"&ResultType=json\"\n",
    "# 유속/유향 api \n",
    "url1= \"http://www.khoa.go.kr/api/oceangrid/tidalBu/search.do?ServiceKey=\"+service_key+\"&ObsCode=KG_0021&Date=\"+now_datetime+\"&ResultType=json\"\n",
    "url1"
   ]
  },
  {
   "cell_type": "code",
   "execution_count": 83,
   "id": "2d7b204b-c197-457b-aac2-2c41ca5ba4b1",
   "metadata": {},
   "outputs": [],
   "source": [
    "response = requests.get(url).json()\n",
    "response1 = requests.get(url1).json()"
   ]
  },
  {
   "cell_type": "code",
   "execution_count": 84,
   "id": "815a7bfa-a542-4ac4-9423-f508235ad964",
   "metadata": {
    "collapsed": true,
    "jupyter": {
     "outputs_hidden": true
    },
    "tags": []
   },
   "outputs": [
    {
     "data": {
      "text/plain": [
       "[{'record_time': '2022-02-25 00:00:00', 'water_temp': '17.21'},\n",
       " {'record_time': '2022-02-25 00:30:00', 'water_temp': '17.21'},\n",
       " {'record_time': '2022-02-25 01:00:00', 'water_temp': '17.21'},\n",
       " {'record_time': '2022-02-25 01:30:00', 'water_temp': '17.21'},\n",
       " {'record_time': '2022-02-25 02:00:00', 'water_temp': '17.21'},\n",
       " {'record_time': '2022-02-25 02:30:00', 'water_temp': '17.21'},\n",
       " {'record_time': '2022-02-25 03:00:00', 'water_temp': '17.16'},\n",
       " {'record_time': '2022-02-25 03:30:00', 'water_temp': '17.14'},\n",
       " {'record_time': '2022-02-25 04:00:00', 'water_temp': '17.11'},\n",
       " {'record_time': '2022-02-25 04:30:00', 'water_temp': '17.05'},\n",
       " {'record_time': '2022-02-25 05:00:00', 'water_temp': '17.04'},\n",
       " {'record_time': '2022-02-25 05:30:00', 'water_temp': '17.11'},\n",
       " {'record_time': '2022-02-25 06:00:00', 'water_temp': '17.12'},\n",
       " {'record_time': '2022-02-25 06:30:00', 'water_temp': '17.14'},\n",
       " {'record_time': '2022-02-25 07:00:00', 'water_temp': '17.1'},\n",
       " {'record_time': '2022-02-25 07:30:00', 'water_temp': '17.11'},\n",
       " {'record_time': '2022-02-25 08:00:00', 'water_temp': '17.09'},\n",
       " {'record_time': '2022-02-25 08:30:00', 'water_temp': '17.08'},\n",
       " {'record_time': '2022-02-25 09:00:00', 'water_temp': '17.05'},\n",
       " {'record_time': '2022-02-25 09:30:00', 'water_temp': '17.05'},\n",
       " {'record_time': '2022-02-25 10:00:00', 'water_temp': '17.05'},\n",
       " {'record_time': '2022-02-25 10:30:00', 'water_temp': '17.06'},\n",
       " {'record_time': '2022-02-25 11:00:00', 'water_temp': '17.06'},\n",
       " {'record_time': '2022-02-25 11:30:00', 'water_temp': '17.03'},\n",
       " {'record_time': '2022-02-25 12:00:00', 'water_temp': '17.01'},\n",
       " {'record_time': '2022-02-25 12:30:00', 'water_temp': '16.99'},\n",
       " {'record_time': '2022-02-25 13:00:00', 'water_temp': '16.95'},\n",
       " {'record_time': '2022-02-25 13:30:00', 'water_temp': '16.95'},\n",
       " {'record_time': '2022-02-25 14:00:00', 'water_temp': '16.95'},\n",
       " {'record_time': '2022-02-25 14:30:00', 'water_temp': '16.93'},\n",
       " {'record_time': '2022-02-25 15:00:00', 'water_temp': '16.93'},\n",
       " {'record_time': '2022-02-25 15:30:00', 'water_temp': '16.92'},\n",
       " {'record_time': '2022-02-25 16:00:00', 'water_temp': '16.95'},\n",
       " {'record_time': '2022-02-25 16:30:00', 'water_temp': '16.95'}]"
      ]
     },
     "execution_count": 84,
     "metadata": {},
     "output_type": "execute_result"
    }
   ],
   "source": [
    "response[\"result\"][\"data\"]"
   ]
  },
  {
   "cell_type": "code",
   "execution_count": 85,
   "id": "de3ebced-8cce-41e3-ad7b-f7a8239f2bff",
   "metadata": {
    "collapsed": true,
    "jupyter": {
     "outputs_hidden": true
    },
    "tags": []
   },
   "outputs": [
    {
     "data": {
      "text/plain": [
       "{'result': {'data': [{'obs_time': '2022-02-25 00:00:00',\n",
       "    'current_direct': '224.0',\n",
       "    'current_speed': '13.4'},\n",
       "   {'obs_time': '2022-02-25 00:30:00',\n",
       "    'current_direct': '236.0',\n",
       "    'current_speed': '11.3'},\n",
       "   {'obs_time': '2022-02-25 01:00:00',\n",
       "    'current_direct': '250.0',\n",
       "    'current_speed': '14.5'},\n",
       "   {'obs_time': '2022-02-25 01:30:00',\n",
       "    'current_direct': '268.0',\n",
       "    'current_speed': '17.4'},\n",
       "   {'obs_time': '2022-02-25 02:00:00',\n",
       "    'current_direct': '278.0',\n",
       "    'current_speed': '18.1'},\n",
       "   {'obs_time': '2022-02-25 02:30:00',\n",
       "    'current_direct': '282.0',\n",
       "    'current_speed': '20.8'},\n",
       "   {'obs_time': '2022-02-25 03:00:00',\n",
       "    'current_direct': '271.0',\n",
       "    'current_speed': '23.9'},\n",
       "   {'obs_time': '2022-02-25 03:30:00',\n",
       "    'current_direct': '294.0',\n",
       "    'current_speed': '17.1'},\n",
       "   {'obs_time': '2022-02-25 04:00:00',\n",
       "    'current_direct': '269.0',\n",
       "    'current_speed': '29.0'},\n",
       "   {'obs_time': '2022-02-25 04:30:00',\n",
       "    'current_direct': '313.0',\n",
       "    'current_speed': '15.3'},\n",
       "   {'obs_time': '2022-02-25 05:00:00',\n",
       "    'current_direct': '291.0',\n",
       "    'current_speed': '24.6'},\n",
       "   {'obs_time': '2022-02-25 05:30:00',\n",
       "    'current_direct': '312.0',\n",
       "    'current_speed': '23.1'},\n",
       "   {'obs_time': '2022-02-25 06:00:00',\n",
       "    'current_direct': '301.0',\n",
       "    'current_speed': '18.3'},\n",
       "   {'obs_time': '2022-02-25 06:30:00',\n",
       "    'current_direct': '310.0',\n",
       "    'current_speed': '11.3'},\n",
       "   {'obs_time': '2022-02-25 07:00:00',\n",
       "    'current_direct': '306.0',\n",
       "    'current_speed': '14.7'},\n",
       "   {'obs_time': '2022-02-25 07:30:00',\n",
       "    'current_direct': '325.0',\n",
       "    'current_speed': '8.1'},\n",
       "   {'obs_time': '2022-02-25 08:00:00',\n",
       "    'current_direct': '295.0',\n",
       "    'current_speed': '2.4'},\n",
       "   {'obs_time': '2022-02-25 08:30:00',\n",
       "    'current_direct': '345.0',\n",
       "    'current_speed': '1.2'},\n",
       "   {'obs_time': '2022-02-25 09:00:00',\n",
       "    'current_direct': '292.0',\n",
       "    'current_speed': '4.6'},\n",
       "   {'obs_time': '2022-02-25 09:30:00',\n",
       "    'current_direct': '247.0',\n",
       "    'current_speed': '5.3'},\n",
       "   {'obs_time': '2022-02-25 10:00:00',\n",
       "    'current_direct': '202.0',\n",
       "    'current_speed': '8.8'},\n",
       "   {'obs_time': '2022-02-25 10:30:00',\n",
       "    'current_direct': '254.0',\n",
       "    'current_speed': '5.0'},\n",
       "   {'obs_time': '2022-02-25 11:00:00',\n",
       "    'current_direct': '198.0',\n",
       "    'current_speed': '3.3'},\n",
       "   {'obs_time': '2022-02-25 11:30:00',\n",
       "    'current_direct': '192.0',\n",
       "    'current_speed': '5.1'},\n",
       "   {'obs_time': '2022-02-25 12:00:00',\n",
       "    'current_direct': '236.0',\n",
       "    'current_speed': '5.2'},\n",
       "   {'obs_time': '2022-02-25 12:30:00',\n",
       "    'current_direct': '257.0',\n",
       "    'current_speed': '10.2'},\n",
       "   {'obs_time': '2022-02-25 13:00:00',\n",
       "    'current_direct': '291.0',\n",
       "    'current_speed': '5.4'},\n",
       "   {'obs_time': '2022-02-25 13:30:00',\n",
       "    'current_direct': '254.0',\n",
       "    'current_speed': '6.5'},\n",
       "   {'obs_time': '2022-02-25 14:00:00',\n",
       "    'current_direct': '265.0',\n",
       "    'current_speed': '9.5'},\n",
       "   {'obs_time': '2022-02-25 14:30:00',\n",
       "    'current_direct': '327.0',\n",
       "    'current_speed': '3.8'},\n",
       "   {'obs_time': '2022-02-25 15:00:00',\n",
       "    'current_direct': '329.0',\n",
       "    'current_speed': '5.7'},\n",
       "   {'obs_time': '2022-02-25 15:30:00',\n",
       "    'current_direct': '342.0',\n",
       "    'current_speed': '9.1'},\n",
       "   {'obs_time': '2022-02-25 16:00:00',\n",
       "    'current_direct': '345.0',\n",
       "    'current_speed': '13.1'},\n",
       "   {'obs_time': '2022-02-25 16:30:00',\n",
       "    'current_direct': '350.0',\n",
       "    'current_speed': '14.6'}],\n",
       "  'meta': {'obs_post_id': 'KG_0021',\n",
       "   'obs_last_req_cnt': '19993/20000',\n",
       "   'obs_lat': '32.090416',\n",
       "   'obs_post_name': '제주남부',\n",
       "   'obs_lon': '126.965861'}}}"
      ]
     },
     "execution_count": 85,
     "metadata": {},
     "output_type": "execute_result"
    }
   ],
   "source": [
    "response1"
   ]
  },
  {
   "cell_type": "code",
   "execution_count": 86,
   "id": "1eb9fbc2-c787-4386-a28a-e1311fdf2900",
   "metadata": {},
   "outputs": [],
   "source": [
    "df = spark.createDataFrame(response[\"result\"][\"data\"])\n",
    "df1 = spark.createDataFrame(response1[\"result\"][\"data\"])"
   ]
  },
  {
   "cell_type": "code",
   "execution_count": 87,
   "id": "eaad4ed4-443f-4d51-bafe-34fabfd91b63",
   "metadata": {},
   "outputs": [
    {
     "name": "stdout",
     "output_type": "stream",
     "text": [
      "+-------------------+----------+\n",
      "|        record_time|water_temp|\n",
      "+-------------------+----------+\n",
      "|2022-02-25 00:00:00|     17.21|\n",
      "|2022-02-25 00:30:00|     17.21|\n",
      "|2022-02-25 01:00:00|     17.21|\n",
      "|2022-02-25 01:30:00|     17.21|\n",
      "|2022-02-25 02:00:00|     17.21|\n",
      "+-------------------+----------+\n",
      "only showing top 5 rows\n",
      "\n"
     ]
    }
   ],
   "source": [
    "df.show(5)"
   ]
  },
  {
   "cell_type": "code",
   "execution_count": 88,
   "id": "119f9847-9980-43b6-a100-bae4cc1d8b8f",
   "metadata": {},
   "outputs": [
    {
     "name": "stdout",
     "output_type": "stream",
     "text": [
      "+--------------+-------------+-------------------+\n",
      "|current_direct|current_speed|           obs_time|\n",
      "+--------------+-------------+-------------------+\n",
      "|         224.0|         13.4|2022-02-25 00:00:00|\n",
      "|         236.0|         11.3|2022-02-25 00:30:00|\n",
      "|         250.0|         14.5|2022-02-25 01:00:00|\n",
      "|         268.0|         17.4|2022-02-25 01:30:00|\n",
      "|         278.0|         18.1|2022-02-25 02:00:00|\n",
      "+--------------+-------------+-------------------+\n",
      "only showing top 5 rows\n",
      "\n"
     ]
    }
   ],
   "source": [
    "df1.show(5)"
   ]
  },
  {
   "cell_type": "code",
   "execution_count": 89,
   "id": "4a81f6c5-e1b7-4bc1-b0ed-0417c269c21d",
   "metadata": {},
   "outputs": [],
   "source": [
    "output_df1 = df.join(df1,df.record_time==df1.obs_time).select(df.record_time, df.water_temp, df1.current_direct, df1.current_speed)"
   ]
  },
  {
   "cell_type": "code",
   "execution_count": 90,
   "id": "a078fa8c-7c8e-415d-973a-8555458227b4",
   "metadata": {},
   "outputs": [
    {
     "name": "stdout",
     "output_type": "stream",
     "text": [
      "+-------------------+----------+--------------+-------------+\n",
      "|        record_time|water_temp|current_direct|current_speed|\n",
      "+-------------------+----------+--------------+-------------+\n",
      "|2022-02-25 00:00:00|     17.21|         224.0|         13.4|\n",
      "|2022-02-25 00:30:00|     17.21|         236.0|         11.3|\n",
      "|2022-02-25 01:00:00|     17.21|         250.0|         14.5|\n",
      "|2022-02-25 01:30:00|     17.21|         268.0|         17.4|\n",
      "|2022-02-25 02:00:00|     17.21|         278.0|         18.1|\n",
      "+-------------------+----------+--------------+-------------+\n",
      "only showing top 5 rows\n",
      "\n"
     ]
    }
   ],
   "source": [
    "/var/lib/docker/volumes/<volume-name>/var/lib/docker/volumes/<volume-name>output_df1 = output_df1.sort(asc(\"record_time\"))\n",
    "output_df1.show(5)"
   ]
  },
  {
   "cell_type": "code",
   "execution_count": 91,
   "id": "da590689-5674-40cf-b45e-f2d0d51db1e4",
   "metadata": {},
   "outputs": [],
   "source": [
    "output_df1 = output_df1.withColumn('water_temp', output_df1['water_temp'].cast(DoubleType()))\\\n",
    "    .withColumn('current_direct', output_df1['current_direct'].cast(DoubleType()))\\\n",
    "    .withColumn('record_time', output_df1['record_time'].cast('timestamp'))\\\n",
    "    .withColumn('current_speed', output_df1['current_speed'].cast(DoubleType()))\n",
    "output_df1 = output_df1.withColumn('id',lit(response[\"result\"][\"meta\"][\"obs_post_id\"]))"
   ]
  },
  {
   "cell_type": "code",
   "execution_count": 92,
   "id": "ba2db67d-58e3-4b57-a41b-b0209102cd29",
   "metadata": {},
   "outputs": [
    {
     "name": "stdout",
     "output_type": "stream",
     "text": [
      "+-------------------+----------+--------------+-------------+-------+\n",
      "|        record_time|water_temp|current_direct|current_speed|     id|\n",
      "+-------------------+----------+--------------+-------------+-------+\n",
      "|2022-02-25 00:00:00|     17.21|         224.0|         13.4|KG_0021|\n",
      "|2022-02-25 00:30:00|     17.21|         236.0|         11.3|KG_0021|\n",
      "|2022-02-25 01:00:00|     17.21|         250.0|         14.5|KG_0021|\n",
      "|2022-02-25 01:30:00|     17.21|         268.0|         17.4|KG_0021|\n",
      "|2022-02-25 02:00:00|     17.21|         278.0|         18.1|KG_0021|\n",
      "+-------------------+----------+--------------+-------------+-------+\n",
      "only showing top 5 rows\n",
      "\n"
     ]
    }
   ],
   "source": [
    "output_df1.show(5)"
   ]
  },
  {
   "cell_type": "code",
   "execution_count": 93,
   "id": "08fefae7-1731-4fac-9574-dab0db3bd1e1",
   "metadata": {},
   "outputs": [],
   "source": [
    "output_df1.write.format('jdbc').options(\n",
    "    url='jdbc:mysql://'+ip+'/weather',\n",
    "    driver='com.mysql.jdbc.Driver',\n",
    "    dbtable='KG_0021',\n",
    "    user='mdgome',\n",
    "    password='Rlawjdals1!').mode('append').save()"
   ]
  },
  {
   "cell_type": "code",
   "execution_count": null,
   "id": "e288f7a8-dd5f-4d06-9552-ebe6d76b11c1",
   "metadata": {},
   "outputs": [],
   "source": []
  },
  {
   "cell_type": "code",
   "execution_count": null,
   "id": "e99a0fef-0882-4d9b-be77-c253be5f15a3",
   "metadata": {},
   "outputs": [],
   "source": []
  },
  {
   "cell_type": "code",
   "execution_count": null,
   "id": "c5c5f1f0-26df-4ff5-bad5-c842a29ec284",
   "metadata": {},
   "outputs": [],
   "source": []
  },
  {
   "cell_type": "code",
   "execution_count": 38,
   "id": "b06e5667-7d90-4caa-aa2b-00984d3345f0",
   "metadata": {},
   "outputs": [],
   "source": [
    "spark.stop()"
   ]
  },
  {
   "cell_type": "code",
   "execution_count": null,
   "id": "ddc81c36-1463-49f5-bbd4-b14143961353",
   "metadata": {},
   "outputs": [],
   "source": []
  }
 ],
 "metadata": {
  "kernelspec": {
   "display_name": "pipeline",
   "language": "python",
   "name": "pipeline"
  },
  "language_info": {
   "codemirror_mode": {
    "name": "ipython",
    "version": 3
   },
   "file_extension": ".py",
   "mimetype": "text/x-python",
   "name": "python",
   "nbconvert_exporter": "python",
   "pygments_lexer": "ipython3",
   "version": "3.9.7"
  }
 },
 "nbformat": 4,
 "nbformat_minor": 5
}
