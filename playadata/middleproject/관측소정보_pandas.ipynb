{
 "cells": [
  {
   "cell_type": "code",
   "execution_count": 2,
   "id": "52715e3e-b924-4647-a0c8-605591742d35",
   "metadata": {},
   "outputs": [
    {
     "data": {
      "text/plain": [
       "{'C:\\\\Users\\\\User\\\\anaconda3\\\\envs\\\\pipeline'}"
      ]
     },
     "execution_count": 2,
     "metadata": {},
     "output_type": "execute_result"
    }
   ],
   "source": [
    "import sys\n",
    "{sys.prefix}"
   ]
  },
  {
   "cell_type": "code",
   "execution_count": 3,
   "id": "bf055223-4d54-4d37-a2e2-5f64a9d2e307",
   "metadata": {},
   "outputs": [
    {
     "name": "stdout",
     "output_type": "stream",
     "text": [
      "Collecting package metadata (current_repodata.json): ...working... done\n",
      "Solving environment: ...working... done\n",
      "\n",
      "## Package Plan ##\n",
      "\n",
      "  environment location: C:\\Users\\User\\anaconda3\\envs\\pipeline\n",
      "\n",
      "  added / updated specs:\n",
      "    - pandas\n",
      "\n",
      "\n",
      "The following packages will be downloaded:\n",
      "\n",
      "    package                    |            build\n",
      "    ---------------------------|-----------------\n",
      "    numpy-1.22.2               |  py310hcae7c84_0         6.2 MB  conda-forge\n",
      "    pandas-1.4.1               |  py310hf5e1058_0        11.0 MB  conda-forge\n",
      "    ------------------------------------------------------------\n",
      "                                           Total:        17.2 MB\n",
      "\n",
      "The following NEW packages will be INSTALLED:\n",
      "\n",
      "  intel-openmp       conda-forge/win-64::intel-openmp-2022.0.0-h57928b3_3663\n",
      "  libblas            conda-forge/win-64::libblas-3.9.0-13_win64_mkl\n",
      "  libcblas           conda-forge/win-64::libcblas-3.9.0-13_win64_mkl\n",
      "  liblapack          conda-forge/win-64::liblapack-3.9.0-13_win64_mkl\n",
      "  mkl                conda-forge/win-64::mkl-2022.0.0-h0e2418a_796\n",
      "  numpy              conda-forge/win-64::numpy-1.22.2-py310hcae7c84_0\n",
      "  pandas             conda-forge/win-64::pandas-1.4.1-py310hf5e1058_0\n",
      "  python-dateutil    conda-forge/noarch::python-dateutil-2.8.2-pyhd8ed1ab_0\n",
      "  pytz               conda-forge/noarch::pytz-2021.3-pyhd8ed1ab_0\n",
      "  six                conda-forge/noarch::six-1.16.0-pyh6c4a22f_0\n",
      "  tbb                conda-forge/win-64::tbb-2021.5.0-h2d74725_0\n",
      "\n",
      "\n",
      "\n",
      "Downloading and Extracting Packages\n",
      "\n",
      "pandas-1.4.1         | 11.0 MB   |            |   0% \n",
      "pandas-1.4.1         | 11.0 MB   |            |   0% \n",
      "pandas-1.4.1         | 11.0 MB   | ####3      |  43% \n",
      "pandas-1.4.1         | 11.0 MB   | ########3  |  84% \n",
      "pandas-1.4.1         | 11.0 MB   | ########## | 100% \n",
      "\n",
      "numpy-1.22.2         | 6.2 MB    |            |   0% \n",
      "numpy-1.22.2         | 6.2 MB    | ######     |  61% \n",
      "numpy-1.22.2         | 6.2 MB    | ########## | 100% \n",
      "Preparing transaction: ...working... done\n",
      "Verifying transaction: ...working... done\n",
      "Executing transaction: ...working... done\n"
     ]
    }
   ],
   "source": [
    "!conda install -c conda-forge -y --prefix {sys.prefix} pandas"
   ]
  },
  {
   "cell_type": "code",
   "execution_count": 4,
   "id": "d7d3a88c-cf3d-42e3-83b2-513eb8c1edf3",
   "metadata": {},
   "outputs": [],
   "source": [
    "import urllib.request \n",
    "import json \n",
    "import pandas as pd \n",
    "from pandas.io.json import json_normalize "
   ]
  },
  {
   "cell_type": "code",
   "execution_count": 16,
   "id": "462fc342-3c2a-40e8-bbd7-134dc3d47f1f",
   "metadata": {},
   "outputs": [
    {
     "data": {
      "text/plain": [
       "'http://www.khoa.go.kr/api/oceangrid/ObsServiceObj/search.do?ServiceKey=1LJG14JWnAylzKi5GvmuGg==&ResultType=json'"
      ]
     },
     "execution_count": 16,
     "metadata": {},
     "output_type": "execute_result"
    }
   ],
   "source": [
    "service_key=\"1LJG14JWnAylzKi5GvmuGg==\"\n",
    "url=\"http://www.khoa.go.kr/api/oceangrid/ObsServiceObj/search.do?ServiceKey=\"+service_key+\"&ResultType=json\"\n",
    "url # 디버깅용"
   ]
  },
  {
   "cell_type": "code",
   "execution_count": 17,
   "id": "a1f6d2ce-b182-4122-b33a-a645b2cdbd4f",
   "metadata": {},
   "outputs": [],
   "source": [
    "df = pd.DataFrame()"
   ]
  },
  {
   "cell_type": "code",
   "execution_count": 18,
   "id": "c656cdad-2468-4f4e-9cad-27d4f405330f",
   "metadata": {},
   "outputs": [
    {
     "data": {
      "text/plain": [
       "'{\"result\":{\"data\":[{\"obs_post_id\":\"DT_0063\",\"obs_lat\":\"35.024178\",\"data_type\":\"조위관측소\",\"obs_post_name\":\"가덕도\",\"obs_lon\":\"128.810933\",\"obs_object\":\"조위,수온,염분,기온,기압,풍속,풍향\"},{\"obs_post_id\":\"DT_0032\",\"obs_lat\":\"37.731944\",\"data_type\":\"조위관측소\",\"obs_post_name\":\"강화대교\",\"obs_lon\":\"126.522222\",\"obs_object\":\"조위,기압\"},{\"obs_post_id\":\"DT_0031\",\"obs_lat\":\"34.028333\",\"data_type\":\"조위관측소\",\"obs_post_name\":\"거문도\",\"obs_lon\":\"127.308889\",\"obs_object\":\"조위,수온,염분,기온,기압,풍속,풍향\"},{\"obs_post_id\":\"DT_0029\",\"obs_lat\":\"34.801389\",\"'"
      ]
     },
     "execution_count": 18,
     "metadata": {},
     "output_type": "execute_result"
    }
   ],
   "source": [
    "response = urllib.request.urlopen(url) \n",
    "json_str = response.read().decode(\"utf-8\")\n",
    "\n",
    "json_object = json.loads(json_str)\n",
    "json_str[0:500] # 디버깅용"
   ]
  },
  {
   "cell_type": "code",
   "execution_count": 19,
   "id": "13186204-d453-4007-9d01-408bf75e57d1",
   "metadata": {},
   "outputs": [
    {
     "data": {
      "text/html": [
       "<div>\n",
       "<style scoped>\n",
       "    .dataframe tbody tr th:only-of-type {\n",
       "        vertical-align: middle;\n",
       "    }\n",
       "\n",
       "    .dataframe tbody tr th {\n",
       "        vertical-align: top;\n",
       "    }\n",
       "\n",
       "    .dataframe thead th {\n",
       "        text-align: right;\n",
       "    }\n",
       "</style>\n",
       "<table border=\"1\" class=\"dataframe\">\n",
       "  <thead>\n",
       "    <tr style=\"text-align: right;\">\n",
       "      <th></th>\n",
       "      <th>obs_post_id</th>\n",
       "      <th>obs_lat</th>\n",
       "      <th>data_type</th>\n",
       "      <th>obs_post_name</th>\n",
       "      <th>obs_lon</th>\n",
       "      <th>obs_object</th>\n",
       "    </tr>\n",
       "  </thead>\n",
       "  <tbody>\n",
       "    <tr>\n",
       "      <th>0</th>\n",
       "      <td>DT_0063</td>\n",
       "      <td>35.024178</td>\n",
       "      <td>조위관측소</td>\n",
       "      <td>가덕도</td>\n",
       "      <td>128.810933</td>\n",
       "      <td>조위,수온,염분,기온,기압,풍속,풍향</td>\n",
       "    </tr>\n",
       "    <tr>\n",
       "      <th>1</th>\n",
       "      <td>DT_0032</td>\n",
       "      <td>37.731944</td>\n",
       "      <td>조위관측소</td>\n",
       "      <td>강화대교</td>\n",
       "      <td>126.522222</td>\n",
       "      <td>조위,기압</td>\n",
       "    </tr>\n",
       "    <tr>\n",
       "      <th>2</th>\n",
       "      <td>DT_0031</td>\n",
       "      <td>34.028333</td>\n",
       "      <td>조위관측소</td>\n",
       "      <td>거문도</td>\n",
       "      <td>127.308889</td>\n",
       "      <td>조위,수온,염분,기온,기압,풍속,풍향</td>\n",
       "    </tr>\n",
       "    <tr>\n",
       "      <th>3</th>\n",
       "      <td>DT_0029</td>\n",
       "      <td>34.801389</td>\n",
       "      <td>조위관측소</td>\n",
       "      <td>거제도</td>\n",
       "      <td>128.699167</td>\n",
       "      <td>조위,수온,염분,기온,기압,풍속,풍향</td>\n",
       "    </tr>\n",
       "    <tr>\n",
       "      <th>4</th>\n",
       "      <td>DT_0058</td>\n",
       "      <td>37.560833</td>\n",
       "      <td>조위관측소</td>\n",
       "      <td>경인항</td>\n",
       "      <td>126.601111</td>\n",
       "      <td>조위,기온,기압,풍속,풍향</td>\n",
       "    </tr>\n",
       "  </tbody>\n",
       "</table>\n",
       "</div>"
      ],
      "text/plain": [
       "  obs_post_id    obs_lat data_type obs_post_name     obs_lon  \\\n",
       "0     DT_0063  35.024178     조위관측소           가덕도  128.810933   \n",
       "1     DT_0032  37.731944     조위관측소          강화대교  126.522222   \n",
       "2     DT_0031  34.028333     조위관측소           거문도  127.308889   \n",
       "3     DT_0029  34.801389     조위관측소           거제도  128.699167   \n",
       "4     DT_0058  37.560833     조위관측소           경인항  126.601111   \n",
       "\n",
       "             obs_object  \n",
       "0  조위,수온,염분,기온,기압,풍속,풍향  \n",
       "1                 조위,기압  \n",
       "2  조위,수온,염분,기온,기압,풍속,풍향  \n",
       "3  조위,수온,염분,기온,기압,풍속,풍향  \n",
       "4        조위,기온,기압,풍속,풍향  "
      ]
     },
     "execution_count": 19,
     "metadata": {},
     "output_type": "execute_result"
    }
   ],
   "source": [
    "result_df = pd.json_normalize(json_object['result']['data'])\n",
    "result_df.head(5) # 디버깅 용"
   ]
  },
  {
   "cell_type": "code",
   "execution_count": 15,
   "id": "f780cbee-97c4-4a80-a80a-340f5fb5dec0",
   "metadata": {},
   "outputs": [],
   "source": [
    "result_df.to_csv(\"관측소 정보.csv\", encoding = 'utf-8-sig') "
   ]
  },
  {
   "cell_type": "code",
   "execution_count": null,
   "id": "570efaeb-827f-4e65-b024-fbab94a5a97e",
   "metadata": {},
   "outputs": [],
   "source": []
  }
 ],
 "metadata": {
  "kernelspec": {
   "display_name": "pipeline",
   "language": "python",
   "name": "pipeline"
  },
  "language_info": {
   "codemirror_mode": {
    "name": "ipython",
    "version": 3
   },
   "file_extension": ".py",
   "mimetype": "text/x-python",
   "name": "python",
   "nbconvert_exporter": "python",
   "pygments_lexer": "ipython3",
   "version": "3.9.7"
  }
 },
 "nbformat": 4,
 "nbformat_minor": 5
}
