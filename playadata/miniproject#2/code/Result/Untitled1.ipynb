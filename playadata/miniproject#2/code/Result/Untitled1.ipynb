{
 "cells": [
  {
   "cell_type": "code",
   "execution_count": null,
   "id": "6d4b19ae-4fe8-476d-bd12-e2db7a86fc6f",
   "metadata": {},
   "outputs": [],
   "source": [
    "import findspark\n",
    "findspark.init() # find spark "
   ]
  },
  {
   "cell_type": "code",
   "execution_count": null,
   "id": "6dabdedf-a3ee-4a32-826a-330efe5c057d",
   "metadata": {},
   "outputs": [],
   "source": [
    "import datetime as dt\n",
    "\n",
    "from pyspark.sql import SparkSession\n",
    "import re\n",
    "import findspark\n",
    "import json\n",
    "import pandas as pd \n",
    "\n",
    "from elasticsearch import Elasticsearch\n",
    "from elasticsearch import helpers\n",
    "\n",
    "\n",
    "# log data parsing \n",
    "def parsing(row):\n",
    "    row_ = dict()\n",
    "    ts_pattern = re.compile( r\"\\[(\\d+-\\d+-\\d+) ((\\d+:\\d+:\\d+),\\d+)\\]\") \n",
    "\n",
    "    if \"INFO\" in row :\n",
    "        row_[\"Timestamp\"] = ts_pattern.match(row).group(1) +\" \"+ ts_pattern.match(row).group(3)\n",
    "        row_[\"Status\"] = \"INFO\" # Status Parsing \n",
    "        row_[\"Message\"] = row.split(\"INFO - \")[1] # Message Parsing        \n",
    "        \n",
    "    elif \"WARNING\" in row :\n",
    "        row_[\"Timestamp\"] = ts_pattern.match(row).group(1) +\" \"+ ts_pattern.match(row).group(3)\n",
    "        row_[\"Status\"] = \"WARNING\" # Status Parsing \n",
    "        row_[\"Message\"] = row.split(\"WARNING - \")[1] # Message Parsing \n",
    "        \n",
    "        \n",
    "    elif \"ERROR\" in row :\n",
    "        row_[\"Timestamp\"] = ts_pattern.match(row).group(1) +\" \"+ ts_pattern.match(row).group(3)\n",
    "        row_[\"Status\"] = \"ERROR\" # Status Parsing \n",
    "        row_[\"Message\"] = row.split(\"ERROR - \")[1] # Message Parsing   \n",
    "    \n",
    "    return row_    \n",
    "\n",
    "# Elastic Search Store  \n",
    "def bulk_insert(host, port, df, index):\n",
    "    es = Elasticsearch(host = host,port = port)\n",
    "\n",
    "    data = [\n",
    "      {\n",
    "        \"_index\": index,\n",
    "        \"_source\": {\n",
    "            \"datetime\": x[0],\n",
    "            \"log-level\": x[1],\n",
    "            \"message\":x[2]}\n",
    "      }\n",
    "        for x in zip(df['Datetime'],df['Status'],df['Message'])\n",
    "    ]\n",
    "\n",
    "    helpers.bulk(es, data)\n",
    "       \n",
    "\n",
    "    ## 데이터 저장 확인 \n",
    "    \n",
    "    #index = \"airflow_log\"\n",
    "    #body = \"select * from airflow_log\"\n",
    "\n",
    "    #res = es.search(index=index)\n",
    "    #print(res)"
   ]
  },
  {
   "cell_type": "code",
   "execution_count": null,
   "id": "0d6cb2ef-c9a3-4b58-afd7-981b12e0899e",
   "metadata": {},
   "outputs": [],
   "source": [
    "spark = SparkSession.builder.master('local[2]').appName('airflow log test').getOrCreate()    \n",
    "data = spark.read.text(\"MySQL_to_CSV.text\") # change path\n",
    "\n",
    "dict_list = []\n",
    "ts_pattern = re.compile(r'\\[(\\d{4}-\\d{2}-\\d{2} \\d{2}:\\d{2}:\\d{2},\\d{3})]') # timestamp\n",
    "\n",
    "for index in range(len(data.collect()) - 1):\n",
    "    row = data.collect()[index]['value']\n",
    "\n",
    "    if ts_pattern.match(row):\n",
    "         dict_list.append(parsing(row))\n",
    "\n",
    "df = pd.DataFrame(dict_list)   # pandas DataFrame 변경   \n",
    "df[\"Datetime\"] = pd.to_datetime(df[\"Timestamp\"],format=\"%Y-%m-%d %M:%H:%S\", errors = 'coerce')  # datetime 변경 \n",
    "index_name = 'airflow-web-log_' + dt.now().strftime('%Y-%m-%d')\n",
    "\n",
    "bulk_insert(\"localhost\", \"9200\", df, index_name)    # es에 데이터 적재 "
   ]
  },
  {
   "cell_type": "code",
   "execution_count": null,
   "id": "03b1ddac-14b3-47c3-8598-5ea236025699",
   "metadata": {},
   "outputs": [],
   "source": [
    "spark.stop()"
   ]
  }
 ],
 "metadata": {
  "kernelspec": {
   "display_name": "pipeline",
   "language": "python",
   "name": "pipeline"
  },
  "language_info": {
   "codemirror_mode": {
    "name": "ipython",
    "version": 3
   },
   "file_extension": ".py",
   "mimetype": "text/x-python",
   "name": "python",
   "nbconvert_exporter": "python",
   "pygments_lexer": "ipython3",
   "version": "3.9.7"
  }
 },
 "nbformat": 4,
 "nbformat_minor": 5
}
