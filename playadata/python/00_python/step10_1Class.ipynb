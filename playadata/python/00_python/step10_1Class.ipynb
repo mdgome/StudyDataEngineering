{
 "cells": [
  {
   "cell_type": "markdown",
   "metadata": {},
   "source": [
    "<!--NAVIGATION-->\n",
    "\n",
    "[[step09_2goodCode 학습 page로 이동](step09_2goodCode.ipynb) ] | \n",
    "[[step10_2Class 학습 page로 이동](step10_2Class.ipynb) ]"
   ]
  },
  {
   "cell_type": "markdown",
   "metadata": {},
   "source": [
    "### python을 활용한 객체 지향 프로그래밍 개발 기술 학습\n",
    "\n",
    "\n",
    "**주요 용어**\n",
    "\n",
    "1. class - 객체(데이터들을 하나의 단위로 관리하는 실제 사용 가능한 메모리상의 영역)를 사용 가능하게 해 주는 설계도(붕어빵과 비교시 붕어빵 - 객체, 붕어빵틀 - class)\n",
    "\n",
    "2. 객체(object) - 메모리에 사용 가능하게 생성된 데이터 집합\n",
    "\n",
    "3. 객체 지향 프로그램 방식의 주 목적 <br>\n",
    "> 클래스 하나 제대로 설계 후에 데이터 표현을 위한 재사용을 위함<br>\n",
    "> 아파트 건축 설계도(class)/개발한 아파트(object=instance)"
   ]
  },
  {
   "cell_type": "code",
   "execution_count": null,
   "metadata": {},
   "outputs": [],
   "source": []
  },
  {
   "cell_type": "code",
   "execution_count": null,
   "metadata": {},
   "outputs": [],
   "source": [
    "p1 = Person(\"John\", 36)  \n",
    "\n",
    "print(p1.name)  \n",
    "print(p1.age)"
   ]
  },
  {
   "cell_type": "code",
   "execution_count": null,
   "metadata": {},
   "outputs": [],
   "source": [
    "p2 = Person(\"유재석\", 36)  \n",
    "\n",
    "print(p2.name)\n",
    "print(p2.age)"
   ]
  },
  {
   "cell_type": "code",
   "execution_count": null,
   "metadata": {},
   "outputs": [],
   "source": []
  },
  {
   "cell_type": "code",
   "execution_count": null,
   "metadata": {},
   "outputs": [],
   "source": [
    "s1 = Student(1, '유재석', '1학년')\n",
    "\n",
    "s2 = Student(2, '백종원', '1학년')"
   ]
  },
  {
   "cell_type": "code",
   "execution_count": null,
   "metadata": {},
   "outputs": [],
   "source": [
    "s1.setName('신동엽')"
   ]
  },
  {
   "cell_type": "code",
   "execution_count": null,
   "metadata": {},
   "outputs": [],
   "source": [
    "print(s1.getName())"
   ]
  },
  {
   "cell_type": "code",
   "execution_count": null,
   "metadata": {},
   "outputs": [],
   "source": []
  }
 ],
 "metadata": {
  "kernelspec": {
   "display_name": "Python 3 (ipykernel)",
   "language": "python",
   "name": "python3"
  },
  "language_info": {
   "codemirror_mode": {
    "name": "ipython",
    "version": 3
   },
   "file_extension": ".py",
   "mimetype": "text/x-python",
   "name": "python",
   "nbconvert_exporter": "python",
   "pygments_lexer": "ipython3",
   "version": "3.9.7"
  },
  "toc": {
   "base_numbering": 1,
   "nav_menu": {},
   "number_sections": true,
   "sideBar": true,
   "skip_h1_title": false,
   "title_cell": "Table of Contents",
   "title_sidebar": "Contents",
   "toc_cell": false,
   "toc_position": {},
   "toc_section_display": true,
   "toc_window_display": false
  }
 },
 "nbformat": 4,
 "nbformat_minor": 4
}
