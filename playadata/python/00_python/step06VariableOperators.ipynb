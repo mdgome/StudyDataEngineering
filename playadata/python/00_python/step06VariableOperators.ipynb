{
 "cells": [
  {
   "cell_type": "markdown",
   "metadata": {
    "id": "bm9aKLEUSHc3"
   },
   "source": [
    "<!--NAVIGATION-->\n",
    "\n",
    "\n",
    "[[step05.List,Tuple등 학습 page로 이동](step05ListTupleDictSet.ipynb) ] | [[step07. 함수 학습 page로 이동](step07Function.ipynb) ]"
   ]
  },
  {
   "cell_type": "markdown",
   "metadata": {
    "id": "MGmhF1ceSHc_"
   },
   "source": [
    "### 01. Variable"
   ]
  },
  {
   "cell_type": "markdown",
   "metadata": {
    "id": "n_LMMbFiSHdC"
   },
   "source": [
    "**참고 : 용어**\n",
    "\n",
    "\n",
    "> **패킹** : 하나의 변수에 여러개의 데이터를 넣는 구조 의미<br>\n",
    "> **언패킹** : 하나의 변수에서 여러개의 데이터를 각각 꺼내오는 구조 의미"
   ]
  },
  {
   "cell_type": "markdown",
   "metadata": {
    "id": "U1fq7appSHdF"
   },
   "source": [
    "**입력 값을 변수에 저장하기**\n",
    "\n",
    "1. input()\n",
    "2. 입력 값을 변수 두개에 저장하기\n",
    ">변수1, 변수2 = input([문자열]).spli([기준문자열])"
   ]
  },
  {
   "cell_type": "code",
   "execution_count": null,
   "metadata": {
    "id": "VZCFAjv2SHdI"
   },
   "outputs": [],
   "source": []
  },
  {
   "cell_type": "markdown",
   "metadata": {
    "id": "QYFfh88_SHdK"
   },
   "source": [
    "**출력 형식 설정**\n",
    "\n",
    "\n",
    "- print(데이터1, 데이터2, sep='문자 또는 문자열')\n",
    "- print(데이터1, 데이터2, end='문자 또는 문자열')\n"
   ]
  },
  {
   "cell_type": "code",
   "execution_count": null,
   "metadata": {
    "id": "VK5SPTIbSHdM",
    "outputId": "9b8ca77e-b01c-45ba-e4d0-79b1771d840a"
   },
   "outputs": [],
   "source": [
    "print(1)\n",
    "print(2)\n",
    "\n",
    "# print()들로 출력되는 각각의 데이터 연결 value\n",
    "print(1, end=' ')\n",
    "print(2)\n",
    "\n",
    "# 하나의 함수에서 출력하고자 하는 다수의 데이터들 구분자 적용 방식\n",
    "print(1, 2, 3, sep='-')"
   ]
  },
  {
   "cell_type": "markdown",
   "metadata": {
    "id": "dRtBmj-gSHdQ"
   },
   "source": [
    "**global & local 변수**\n",
    "\n",
    "- global : 전역 변수\n",
    "    - 다수의 함수가 공유해서 사용 가능한 변수\n",
    "- local : 로컬 변수\n",
    "    - local변수 - 함수 내부에 선언 및 함수 내부에서만 사용 가능한 변수 <br>"
   ]
  },
  {
   "cell_type": "markdown",
   "metadata": {},
   "source": []
  },
  {
   "cell_type": "code",
   "execution_count": null,
   "metadata": {},
   "outputs": [],
   "source": []
  },
  {
   "cell_type": "markdown",
   "metadata": {
    "id": "92zrh0VJSHdS"
   },
   "source": [
    "### 02.Operators\n",
    "\n",
    "**python에선 모든 데이터를 객체타입으로 간주**\n",
    "\n",
    "- ==, != : 값 자체 비교\n",
    "- is, is not : 객체 주소 비교\n",
    "- id(객체) : 객체의 주소값 반환\n",
    "- 논리 연산자 : \n",
    "> and : 두 값이 모두 true인 경우 true <br>\n",
    "or : 두 값중 하나만 true인 경우 true <br>\n",
    "not : 논리값 뒤집기 not True -> False, not False -> True"
   ]
  },
  {
   "cell_type": "code",
   "execution_count": null,
   "metadata": {
    "id": "2d4frnh4SHdT",
    "outputId": "be8f4a5c-cdcd-46af-969d-681ea51d9ece"
   },
   "outputs": [],
   "source": [
    "# 숫자 동등 비교\n",
    "10 == 10"
   ]
  },
  {
   "cell_type": "code",
   "execution_count": null,
   "metadata": {
    "id": "hvGZEZBfSHdV",
    "outputId": "76ef009d-d940-4dae-dbad-3cff20cc19fa"
   },
   "outputs": [],
   "source": [
    "# 문자 동등 비교\n",
    "print('s' == 's')\n",
    "\n",
    "print('s' != 's')"
   ]
  },
  {
   "cell_type": "code",
   "execution_count": null,
   "metadata": {
    "id": "GWNDgDXdSHdY",
    "outputId": "fed1e16c-d5e1-42dc-aae5-7789f1f1aff6"
   },
   "outputs": [],
   "source": [
    "# 동일 객체 여부 확인\n",
    "\n",
    "# 값만 비교\n",
    "print(1 == 1.0)\n",
    "\n",
    "# 동일 객체 여부 비교\n",
    "print(1 is 1.0)\n",
    "\n",
    "# 동일 객체가 아님을 비교\n",
    "print(1 is not 1.0)"
   ]
  },
  {
   "cell_type": "code",
   "execution_count": null,
   "metadata": {
    "id": "m6WMox3NSHdb",
    "outputId": "118630e6-746c-412f-dde1-af69e59f46bd"
   },
   "outputs": [],
   "source": [
    "id(1)"
   ]
  },
  {
   "cell_type": "code",
   "execution_count": null,
   "metadata": {
    "id": "if1tGpUlSHdc",
    "outputId": "26836dbb-749b-4d7f-d3b2-282473733f1f"
   },
   "outputs": [],
   "source": [
    "id(1.0)"
   ]
  },
  {
   "cell_type": "code",
   "execution_count": null,
   "metadata": {
    "id": "3jwiP4reSHde",
    "outputId": "b4e32f08-4ed2-4ad5-d494-d1528a4c8837"
   },
   "outputs": [],
   "source": [
    "id(1)"
   ]
  }
 ],
 "metadata": {
  "colab": {
   "collapsed_sections": [],
   "name": "step06VariableOperators.ipynb",
   "provenance": []
  },
  "kernelspec": {
   "display_name": "Python 3 (ipykernel)",
   "language": "python",
   "name": "python3"
  },
  "language_info": {
   "codemirror_mode": {
    "name": "ipython",
    "version": 3
   },
   "file_extension": ".py",
   "mimetype": "text/x-python",
   "name": "python",
   "nbconvert_exporter": "python",
   "pygments_lexer": "ipython3",
   "version": "3.9.7"
  },
  "toc": {
   "base_numbering": 1,
   "nav_menu": {},
   "number_sections": true,
   "sideBar": true,
   "skip_h1_title": false,
   "title_cell": "Table of Contents",
   "title_sidebar": "Contents",
   "toc_cell": false,
   "toc_position": {},
   "toc_section_display": true,
   "toc_window_display": false
  }
 },
 "nbformat": 4,
 "nbformat_minor": 1
}
