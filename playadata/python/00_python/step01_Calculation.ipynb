{
 "cells": [
  {
   "cell_type": "markdown",
   "id": "3bdbf7b8-35ba-43d4-a1c4-8081304bf2cd",
   "metadata": {},
   "source": [
    "### 파이썬을 계산기 처럼 이용하기\n",
    "\n",
    "- 사칙연산\n",
    "- 거듭제곱과 나머지\n",
    "- 과학적 표기법\n",
    "- 논리연산과 비교연산"
   ]
  },
  {
   "cell_type": "code",
   "execution_count": 1,
   "id": "39845ea8-dfcb-490d-a876-e0bfeebca4a0",
   "metadata": {},
   "outputs": [
    {
     "data": {
      "text/plain": [
       "(int, str)"
      ]
     },
     "execution_count": 1,
     "metadata": {},
     "output_type": "execute_result"
    }
   ],
   "source": [
    "type(1), type('a')"
   ]
  },
  {
   "cell_type": "markdown",
   "id": "eb150cb8-fdd2-4933-a95c-4f4134ca764f",
   "metadata": {},
   "source": [
    "## 사칙연산"
   ]
  },
  {
   "cell_type": "code",
   "execution_count": 2,
   "id": "2938f29a-0dce-4412-a1df-e9165a0d48ac",
   "metadata": {},
   "outputs": [
    {
     "name": "stdout",
     "output_type": "stream",
     "text": [
      "2\n"
     ]
    }
   ],
   "source": [
    "print(1+1)"
   ]
  },
  {
   "cell_type": "code",
   "execution_count": null,
   "id": "d7675c14-f0ee-471a-b063-7912b5fed548",
   "metadata": {},
   "outputs": [],
   "source": []
  }
 ],
 "metadata": {
  "kernelspec": {
   "display_name": "env01",
   "language": "python",
   "name": "env01"
  },
  "language_info": {
   "codemirror_mode": {
    "name": "ipython",
    "version": 3
   },
   "file_extension": ".py",
   "mimetype": "text/x-python",
   "name": "python",
   "nbconvert_exporter": "python",
   "pygments_lexer": "ipython3",
   "version": "3.6.13"
  }
 },
 "nbformat": 4,
 "nbformat_minor": 5
}
