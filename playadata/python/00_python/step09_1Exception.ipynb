{
 "cells": [
  {
   "cell_type": "markdown",
   "metadata": {},
   "source": [
    "<!--NAVIGATION-->\n",
    "\n",
    "\n",
    "[[step08.comprehension 학습 page로 이동](step08Comprehension.ipynb) ] | [[step09. Assert문 학습 page로 이동](step09_2goodCode.ipynb) ]"
   ]
  },
  {
   "cell_type": "markdown",
   "metadata": {},
   "source": [
    "## 예외처리 기본 syntax"
   ]
  },
  {
   "cell_type": "markdown",
   "metadata": {},
   "source": [
    "학습 주 목적: 전원이 다운되는 심각한 문제는 불가 항력, 단 실행시 발생되는 소소한 에러는 처리후에 실행 유지를 위한 작업 <br>"
   ]
  },
  {
   "cell_type": "code",
   "execution_count": null,
   "metadata": {},
   "outputs": [],
   "source": [
    "from IPython.display import Image"
   ]
  },
  {
   "cell_type": "code",
   "execution_count": null,
   "metadata": {},
   "outputs": [],
   "source": [
    "Image('img/exception5.png')"
   ]
  },
  {
   "cell_type": "markdown",
   "metadata": {},
   "source": [
    "**발생되는 모든 예외 처리**"
   ]
  },
  {
   "cell_type": "markdown",
   "metadata": {},
   "source": [
    "map() : 시퀀스의 모든 항목에 함수를 적용한 결과 리스트 반환"
   ]
  },
  {
   "cell_type": "code",
   "execution_count": null,
   "metadata": {},
   "outputs": [],
   "source": [
    "print(type('a b'.split()))   \n",
    "\n",
    "print('a b'.split())   "
   ]
  },
  {
   "cell_type": "code",
   "execution_count": null,
   "metadata": {},
   "outputs": [],
   "source": [
    "# 반드시 1과 2는 출력되어야 합니다.\n",
    "print(1)\n",
    "\n",
    "print(10/0)  # 시스템 멈춤\n",
    "\n",
    "print(2)"
   ]
  },
  {
   "cell_type": "code",
   "execution_count": null,
   "metadata": {},
   "outputs": [],
   "source": [
    "try:\n",
    "    \n",
    "    print(1)\n",
    "    print(10/0)  # 오류 발생시에만 except 영역으로 이동\n",
    "    \n",
    "except:\n",
    "    \n",
    "    print(\"연산 오류\")\n",
    "    \n",
    "print(2)"
   ]
  },
  {
   "cell_type": "code",
   "execution_count": null,
   "metadata": {},
   "outputs": [],
   "source": [
    "try:\n",
    "    print(1)\n",
    "    print(10/0)  \n",
    "    print(2)\n",
    "except IndexError:\n",
    "    print(\"index 오류\")    \n",
    "except ZeroDivisionError:\n",
    "    print('연산 오류')\n",
    "    \n",
    "\n",
    "print('혹여 이슈가 생겨도 난 정상 실행 즉 stop 아니야')"
   ]
  },
  {
   "cell_type": "code",
   "execution_count": null,
   "metadata": {},
   "outputs": [],
   "source": [
    "try:\n",
    "    print(1)\n",
    "    print(10/2) \n",
    "    print(2)\n",
    "except:\n",
    "    print(\"연산 오류\")\n",
    "    \n",
    "print(2)"
   ]
  },
  {
   "cell_type": "code",
   "execution_count": null,
   "metadata": {},
   "outputs": [],
   "source": [
    "try:\n",
    "    print(1)\n",
    "    print(10/0)\n",
    "    print(2)\n",
    "except:\n",
    "#     print(\"연산 오류\")\n",
    "    pass\n",
    "    \n",
    "print(3)"
   ]
  },
  {
   "cell_type": "code",
   "execution_count": null,
   "metadata": {},
   "outputs": [],
   "source": [
    "data = [10, 20, 30]\n",
    "\n",
    "try:\n",
    "    index, div_number =  input('인덱스와 나눌 숫자를 입력하세요: ').split()\n",
    "    print('연산된 결과값 ', data[int(index)] / int(div_number))\n",
    "    \n",
    "except IndexError:        \n",
    "    print('발생되는 모든 예외 처리')\n"
   ]
  },
  {
   "cell_type": "code",
   "execution_count": null,
   "metadata": {},
   "outputs": [],
   "source": [
    "data = [10, 20, 30]\n",
    "\n",
    "index, div_number =  input('인덱스와 나눌 숫자를 입력하세요: ').split()\n",
    "print('연산된 결과값 ', data[int(index)] / int(div_number))\n"
   ]
  },
  {
   "cell_type": "code",
   "execution_count": null,
   "metadata": {},
   "outputs": [],
   "source": []
  },
  {
   "cell_type": "code",
   "execution_count": null,
   "metadata": {},
   "outputs": [],
   "source": []
  },
  {
   "cell_type": "markdown",
   "metadata": {},
   "source": [
    "**특정 예외만 처리하기**"
   ]
  },
  {
   "cell_type": "markdown",
   "metadata": {},
   "source": [
    "list 내에 존재하는 데이터를 활용해서 index와 나누고자 하는 값을 입력후에 연산하기<br>\n",
    "0으로 나눌 경우 - ZeroDivisionError 발생 <br>\n",
    "미존재하는 index값 입력한 경우 - IndexError 발생"
   ]
  },
  {
   "cell_type": "code",
   "execution_count": 4,
   "metadata": {},
   "outputs": [
    {
     "name": "stdin",
     "output_type": "stream",
     "text": [
      "인덱스와 나눌 숫자를 입력하세요:  1 0\n"
     ]
    },
    {
     "name": "stdout",
     "output_type": "stream",
     "text": [
      "0으로 나누기 불가에 대한 예외 처리\n"
     ]
    }
   ],
   "source": [
    "data = [10, 20, 30]\n",
    "try:\n",
    "    index, div_number =  input('인덱스와 나눌 숫자를 입력하세요: ').split()\n",
    "    print('연산된 결과값 ', data[int(index)] / int(div_number))\n",
    "    \n",
    "except IndexError:        \n",
    "    print('발생되는 모든 예외 처리')\n",
    "except ZeroDivisionError:\n",
    "    print('0으로 나누기 불가에 대한 예외 처리')\n",
    "    \n"
   ]
  },
  {
   "cell_type": "code",
   "execution_count": null,
   "metadata": {},
   "outputs": [],
   "source": []
  },
  {
   "cell_type": "markdown",
   "metadata": {},
   "source": [
    "**예외의 에러 메세지 받아오기**"
   ]
  },
  {
   "cell_type": "code",
   "execution_count": null,
   "metadata": {},
   "outputs": [],
   "source": [
    "data = [10, 20, 30]\n",
    "\n",
    "\n"
   ]
  },
  {
   "cell_type": "code",
   "execution_count": null,
   "metadata": {},
   "outputs": [],
   "source": []
  },
  {
   "cell_type": "markdown",
   "metadata": {},
   "source": [
    "**예외가 발생하지 않았을때 실행할 코드 적용하기 : else**"
   ]
  },
  {
   "cell_type": "code",
   "execution_count": null,
   "metadata": {},
   "outputs": [],
   "source": [
    "data = [10, 20, 30]\n",
    "\n",
    "\n",
    "    "
   ]
  },
  {
   "cell_type": "code",
   "execution_count": null,
   "metadata": {},
   "outputs": [],
   "source": []
  },
  {
   "cell_type": "markdown",
   "metadata": {},
   "source": [
    "**예외와 무관하게 항상 실행되는 코드 : finally**"
   ]
  },
  {
   "cell_type": "code",
   "execution_count": null,
   "metadata": {},
   "outputs": [],
   "source": [
    "data = [10, 20, 30]\n",
    "\n",
    "\n",
    "    "
   ]
  },
  {
   "cell_type": "code",
   "execution_count": null,
   "metadata": {},
   "outputs": [],
   "source": []
  },
  {
   "cell_type": "markdown",
   "metadata": {},
   "source": [
    "**예외 발생시키기**"
   ]
  },
  {
   "cell_type": "markdown",
   "metadata": {},
   "source": [
    "5의 배수가 아닌 경우 직접 코드상에서 예외 발생 및 처리 <br>\n",
    "\n",
    "python 언어를 사용하는 개발자들을 사용자라 지칭, 사용자가 로직 즉 상황에 맞게 예외를 직접 발생시키는 코드"
   ]
  },
  {
   "cell_type": "code",
   "execution_count": null,
   "metadata": {},
   "outputs": [],
   "source": [
    "try:\n",
    "    x = int(input('5의 배수 입력 : '))\n",
    "    \n",
    "    if x % 5 !=0:\n",
    "       \n",
    "        \n",
    "    print('5의 배수 ', x)\n",
    "    \n",
    "except Exception as e:\n",
    "    print('5의 배수가 아닌 예외 발생')\n",
    "    "
   ]
  },
  {
   "cell_type": "markdown",
   "metadata": {},
   "source": [
    "18 미만인 경우 예외 발생"
   ]
  },
  {
   "cell_type": "markdown",
   "metadata": {},
   "source": [
    "하단 코드의 아쉬운 점<br>\n",
    "\n",
    "1. 5 입력시 - 18 미만 출입 불가  <br>\n",
    "2. 20 입력시 - 출입 가능 출력<br>\n",
    "3. 다 데이터 입력 - 미성년자 출입 불가"
   ]
  },
  {
   "cell_type": "code",
   "execution_count": null,
   "metadata": {},
   "outputs": [],
   "source": [
    "try:    \n",
    "    age = int(input(\"나이 입력 : \"))  \n",
    "    \n",
    "    if(age<18): \n",
    "#         print(\"18 미만 출입 불가\")\n",
    "        raise ValueError\n",
    "    else:    \n",
    "        print('출입 가능')    \n",
    "        \n",
    "except ValueError:    \n",
    "    print('미성년자 출입 불가')"
   ]
  },
  {
   "cell_type": "code",
   "execution_count": null,
   "metadata": {},
   "outputs": [],
   "source": [
    "try:    \n",
    "    age = int(input(\"나이 입력 : \"))  \n",
    "    \n",
    "    if(age<18): \n",
    "#         print(\"18 미만 출입 불가\")\n",
    "        raise ValueError\n",
    "    else:    \n",
    "        print('출입 가능')    \n",
    "        \n",
    "except ValueError:    \n",
    "    print('미성년자 출입 불가')"
   ]
  },
  {
   "cell_type": "markdown",
   "metadata": {},
   "source": [
    "실전 응용"
   ]
  },
  {
   "cell_type": "markdown",
   "metadata": {},
   "source": [
    "id 값 검증하는 함수 개발 해서 master인 경우에만 인증 성공/ master가 아니라면 예외 발생 <br>\n",
    "인증 로직은 요청하는 client가 호출시 마다 재사용이 되는 함수 <br>\n"
   ]
  },
  {
   "cell_type": "code",
   "execution_count": null,
   "metadata": {},
   "outputs": [],
   "source": [
    "def login_check(id):\n",
    "    if id == 'master':\n",
    "        return True\n",
    "    else:\n",
    "        return False\n",
    "    \n",
    "print(login_check('master'))\n",
    "print(login_check('playdata'))"
   ]
  }
 ],
 "metadata": {
  "kernelspec": {
   "display_name": "Python 3 (ipykernel)",
   "language": "python",
   "name": "python3"
  },
  "language_info": {
   "codemirror_mode": {
    "name": "ipython",
    "version": 3
   },
   "file_extension": ".py",
   "mimetype": "text/x-python",
   "name": "python",
   "nbconvert_exporter": "python",
   "pygments_lexer": "ipython3",
   "version": "3.9.7"
  },
  "toc": {
   "base_numbering": 1,
   "nav_menu": {},
   "number_sections": true,
   "sideBar": true,
   "skip_h1_title": false,
   "title_cell": "Table of Contents",
   "title_sidebar": "Contents",
   "toc_cell": false,
   "toc_position": {},
   "toc_section_display": true,
   "toc_window_display": false
  }
 },
 "nbformat": 4,
 "nbformat_minor": 4
}
