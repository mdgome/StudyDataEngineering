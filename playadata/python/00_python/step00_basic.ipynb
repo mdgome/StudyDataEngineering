{
 "cells": [
  {
   "cell_type": "code",
   "execution_count": 2,
   "id": "d9014111-3a55-4aae-ab59-f89b1b56e889",
   "metadata": {},
   "outputs": [
    {
     "data": {
      "text/plain": [
       "{'3.6.13 |Anaconda, Inc.| (default, Feb 23 2021, 12:58:59) \\n[GCC Clang 10.0.0 ]'}"
      ]
     },
     "execution_count": 2,
     "metadata": {},
     "output_type": "execute_result"
    }
   ],
   "source": [
    "import sys\n",
    "{sys.version}"
   ]
  },
  {
   "cell_type": "code",
   "execution_count": null,
   "id": "d4204781-a861-45d2-9acc-cc19f1654034",
   "metadata": {},
   "outputs": [],
   "source": []
  }
 ],
 "metadata": {
  "kernelspec": {
   "display_name": "env01",
   "language": "python",
   "name": "env01"
  },
  "language_info": {
   "codemirror_mode": {
    "name": "ipython",
    "version": 3
   },
   "file_extension": ".py",
   "mimetype": "text/x-python",
   "name": "python",
   "nbconvert_exporter": "python",
   "pygments_lexer": "ipython3",
   "version": "3.6.13"
  }
 },
 "nbformat": 4,
 "nbformat_minor": 5
}
