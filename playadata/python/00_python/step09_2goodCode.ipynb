{
 "cells": [
  {
   "cell_type": "markdown",
   "metadata": {},
   "source": [
    "<!--NAVIGATION-->\n",
    "\n",
    "\n",
    "[[step09.예외 처리 학습 page로 이동](step09_1Exception.ipynb) ] | [[step10. class 학습 page로 이동](step10Class.ipynb) ] \n"
   ]
  },
  {
   "cell_type": "markdown",
   "metadata": {},
   "source": [
    "## 좋은 코드의 일반적인 특징"
   ]
  },
  {
   "cell_type": "markdown",
   "metadata": {},
   "source": [
    "개발자 관점에서 안정적인 코드를 구현하기 위한 형식 <br>\n",
    "if 조건식과 흡사한듯 하나 if 코드는 실제 end user가 입력되는 상황 등을 검증시에 주로 사용 <br>\n",
    "개발시 상황에 따른 검증 코드로 주로 사용<br>\n",
    "\n",
    "단정문 : 개발시에 개발 로직 검증 후에 실제  client에게 서비스 하게 되는 시점엔 삭제 또는 주석<br>\n"
   ]
  },
  {
   "cell_type": "markdown",
   "metadata": {},
   "source": [
    "### Assertion"
   ]
  },
  {
   "cell_type": "markdown",
   "metadata": {},
   "source": [
    "assert(가정 설정문)는 뒤의 조건이 False인 경우 AssertError를 발생"
   ]
  },
  {
   "cell_type": "code",
   "execution_count": null,
   "metadata": {},
   "outputs": [],
   "source": [
    "# 데이터가 0보다 큰 수 여야만 하는 상황인 경우\n",
    "\n",
    "def checkPositive(v):\n",
    "    assert v > 0, '0 보다 큰 수가 아닙니다'   \n",
    "    \n",
    "    print(\"단정문 확인 직후\")\n",
    "    return '0 보다 큰 수입니다'\n",
    "    "
   ]
  },
  {
   "cell_type": "code",
   "execution_count": null,
   "metadata": {},
   "outputs": [],
   "source": [
    "print(checkPositive(2))"
   ]
  },
  {
   "cell_type": "code",
   "execution_count": null,
   "metadata": {},
   "outputs": [],
   "source": [
    "print(checkPositive(-3))"
   ]
  },
  {
   "cell_type": "code",
   "execution_count": null,
   "metadata": {},
   "outputs": [],
   "source": [
    "\n",
    "result = 1 + 3\n",
    "assert result > 0, '에러{}'.format(result)  \n",
    "\n",
    "# assert 조건식이 False인 경우 실행 불가인 부분 \n",
    "print(\"실행 여부 확인\")\n",
    "\n"
   ]
  }
 ],
 "metadata": {
  "kernelspec": {
   "display_name": "Python 3 (ipykernel)",
   "language": "python",
   "name": "python3"
  },
  "language_info": {
   "codemirror_mode": {
    "name": "ipython",
    "version": 3
   },
   "file_extension": ".py",
   "mimetype": "text/x-python",
   "name": "python",
   "nbconvert_exporter": "python",
   "pygments_lexer": "ipython3",
   "version": "3.9.7"
  },
  "toc": {
   "base_numbering": 1,
   "nav_menu": {},
   "number_sections": true,
   "sideBar": true,
   "skip_h1_title": false,
   "title_cell": "Table of Contents",
   "title_sidebar": "Contents",
   "toc_cell": false,
   "toc_position": {},
   "toc_section_display": true,
   "toc_window_display": false
  }
 },
 "nbformat": 4,
 "nbformat_minor": 2
}
