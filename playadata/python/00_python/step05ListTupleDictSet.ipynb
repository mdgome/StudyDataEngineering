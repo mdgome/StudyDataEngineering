{
 "cells": [
  {
   "cell_type": "markdown",
   "metadata": {
    "id": "DkIsWfgBRGvR"
   },
   "source": [
    "<!--NAVIGATION-->\n",
    "\n",
    "\n",
    "[[step04.String 학습 page로 이동](step04StringType.ipynb) ] | [[step06. 변수 학습 page로 이동](step06VariableOperators.ipynb) ] "
   ]
  },
  {
   "cell_type": "markdown",
   "metadata": {
    "id": "U-rWYcAWRGve"
   },
   "source": [
    "### 리스트, 튜플, 딕셔너리, 셋 학습\n",
    "\n",
    "- python의 매우 중요한 데이터 타입<br>\n",
    "- python에선 모든 데이터 타입이 모두 다 객체"
   ]
  },
  {
   "cell_type": "markdown",
   "metadata": {
    "id": "CofGffVjRGvj"
   },
   "source": [
    "### 1. 리스트 클래스\n",
    "- list1 = list()\t\t# 공백 리스트 생성<br>\n",
    "- list2 = list(\"Hello\")\t\t# 문자 H, e, l, l, o를 요소로 가지는 리스트 생성<br>\n",
    "- list3 = list(range(0, 5))\t# 0, 1, 2, 3, 4를 요소가 가지는 리스트 생성<br>\n",
    "- list4 = [ ] \t\t\t# 공백 리스트 생성<br>\n",
    "- list5 = [ \"H\", \"e\", \"l\", \"l\", \"o\" ] \t# 문자 H, e, l, l, o를 요소로 가지는 리스트<br> \n",
    "- list6 = [ 0, 1, 2, 3, 4 ]# 0, 1, 2, 3, 4를 요소가 가지는 리스트 생성<br>\n"
   ]
  },
  {
   "cell_type": "markdown",
   "metadata": {
    "id": "AoA7pfiXRGvm"
   },
   "source": [
    "### 2. 복잡한 list\n",
    "- list1 = [12, \"dog\", 180.14] \t\t\t\t# 혼합 자료형 <br>\n",
    "- list2 =  [[\"Seoul\", 10], [\"Paris\", 12], [\"London\", 50]] \t# 내장 리스트<br> \n",
    "- list3 = [\"aaa\", [\"bbb\", [\"ccc\", [\"ddd\", \"eee\", 45]]]] \t# 내장 리스트 <br>\n"
   ]
  },
  {
   "cell_type": "code",
   "execution_count": null,
   "metadata": {
    "id": "HCwY9msiRGvo"
   },
   "outputs": [],
   "source": [
    "list3 = [\"aaa\", [\"bbb\", [\"ccc\", [\"ddd\", \"eee\", 45]]]]"
   ]
  },
  {
   "cell_type": "code",
   "execution_count": null,
   "metadata": {},
   "outputs": [],
   "source": [
    "list3 = [\"aaa\",     [\"bbb\", [\"ccc\", [\"ddd\", \"eee\", 45]]]    ]\n",
    "\n"
   ]
  },
  {
   "cell_type": "code",
   "execution_count": null,
   "metadata": {},
   "outputs": [],
   "source": [
    "# eee 만 출력\n",
    "print(list3)\n",
    "print(list3[0])  # aaa\n",
    "print(list3[1])  # [\"bbb\", [\"ccc\", [\"ddd\", \"eee\", 45]]]\n",
    "print(list3[1][0]) # bbb\n",
    "print(list3[1][1]) # ['ccc', ['ddd', 'eee', 45]]\n",
    "print(list3[1][1][0]) # ccc\n",
    "print(list3[1][1][1]) # ['ddd', 'eee', 45]\n",
    "print(list3[1][1][1][1]) # eee"
   ]
  },
  {
   "cell_type": "markdown",
   "metadata": {
    "id": "DUfnOYLCRGvq"
   },
   "source": [
    "### list를 stack처럼\n",
    "\n",
    "1. append(데이터) :  호출시에 list의 가장 마지막에 데이터 추가 저장\n",
    "2. pop(index) : index값으로 존재하는 모든 데이터 반환 + 삭제가 가능하나 \n",
    "    stack처럼 개발할 경우 stack이란 자료 구조 특징에 맞게 index없이 pop() 사용 <br>\n",
    "    단 index값으로 list의 특정 위치 데이터 반환(삭제 포함)도 가능"
   ]
  },
  {
   "cell_type": "code",
   "execution_count": null,
   "metadata": {
    "id": "bJJYtg2aRGvs",
    "outputId": "3ce3f047-e7bc-49b7-958f-0365d54d1a21"
   },
   "outputs": [],
   "source": [
    "# 리스트로 stack 구조 만들어 보기\n",
    "# 마지막 저장한 데이터를 가장 먼저 빼야 하는 구조\n",
    "# list 내에 데이터 저장 및 삭제\n",
    "# append() / pop()\n",
    "\n",
    "# 주의사항 : python 자체적인 언어에서 사용되는 단어\n",
    "# list 타입으로도 표현이 되는 단어\n",
    "# list 생성시에 list() 라는 문법으로도 생성\n",
    "# 개발시 권장 사항 - 이미 내부적으로 사용되는 단어들은 변수명으로 비추\n",
    "\n",
    "lst = [100, 200]\n",
    "type(lst)"
   ]
  },
  {
   "cell_type": "code",
   "execution_count": null,
   "metadata": {},
   "outputs": [],
   "source": []
  },
  {
   "cell_type": "markdown",
   "metadata": {
    "id": "lIjppbRJRGvz"
   },
   "source": [
    "###   list를 queue 구조 처럼 만들어 보기"
   ]
  },
  {
   "cell_type": "code",
   "execution_count": null,
   "metadata": {},
   "outputs": [],
   "source": []
  },
  {
   "cell_type": "code",
   "execution_count": null,
   "metadata": {
    "id": "CfhvN6vCRGv0",
    "outputId": "c0a1be6f-d0c0-4352-82f9-f70b74c34d26"
   },
   "outputs": [],
   "source": [
    "\"\"\"\n",
    "list에서 index 즉 [index]로 데이터 반환/pop(index) 데이터 반환시 차이점\n",
    "pop() 은 데이터 반환 + 삭제\n",
    "\"\"\"\n",
    "list2 = ['a', 'b']\n",
    "list2.append('c')\n",
    "list2"
   ]
  },
  {
   "cell_type": "code",
   "execution_count": null,
   "metadata": {
    "id": "dtrxKlEeRGv2",
    "outputId": "9efacb3c-69b4-46c5-81c0-c387968ca33b"
   },
   "outputs": [],
   "source": [
    "list2.pop(0)"
   ]
  },
  {
   "cell_type": "code",
   "execution_count": null,
   "metadata": {
    "id": "RZ4iqOYDRGv5"
   },
   "outputs": [],
   "source": [
    "list2"
   ]
  },
  {
   "cell_type": "markdown",
   "metadata": {
    "id": "FtyFFUAhRGv7"
   },
   "source": [
    "### list 정렬\n",
    "\n",
    "1. sort() 함수 : 정렬후 변수 자체에 적용\n",
    "2. 영어인 경우 대소문자가 혼용되었을 경우 우선순위는 대문자(아스키 코드값)<br>\n",
    " 대소문자 무시하면서 정렬 로직 추가도 가능        \n",
    "3. 역정렬 가능\n"
   ]
  },
  {
   "cell_type": "code",
   "execution_count": null,
   "metadata": {
    "id": "SZQKDA1-RGv9",
    "outputId": "e4b9c984-d37b-4ba7-a3cf-c9285bec82b4"
   },
   "outputs": [],
   "source": [
    "lst = ['a', 'b', 'e', 'c']\n",
    "lst"
   ]
  },
  {
   "cell_type": "code",
   "execution_count": null,
   "metadata": {},
   "outputs": [],
   "source": []
  },
  {
   "cell_type": "markdown",
   "metadata": {
    "id": "C8kecQDuRGwA"
   },
   "source": [
    "list 메소드\n",
    "\n",
    "**sort()**\n",
    "\n",
    "1. parameter가 balnk인 경우 오름차순 정렬이 기본 \n",
    "2. lst가 참조(관리, reference)하는 데이터(list) 자체를 수정\n",
    "3. 새로운 변수에 대입시에 None값만 대입되고 원본은 오픈하지 않음\n",
    "4. reverse=True 를 parameter or argument 적용시엔 역정렬 즉 내림차순 정렬\n",
    "5. 원리 - 아스키코드 번호가 기준값\n",
    "    a - 97 / b - 98\n",
    "6. 호출 문법 <br>\n",
    "    >list객체.sort() - list 타입에서 제공되는 기능의 메소드<br>\n",
    "    >python 언어 자체를 개발한 관점에서 list 기능의 기능의 list 개발, 데이터를 순서에 맞게 저장, 중복도 허락, 이 데이터들을 삭제, 수정, 추가..등등의 기능 제공<br\n",
    "    이 list에서 제공하는 저 기능들은 리스트 데이터들 관리하는 기능 \n",
    "    \n",
    "\n",
    "    \n",
    "<hr>    \n",
    "\n",
    "**sorted()**\n",
    "\n",
    "1. 정렬후에 원본과 달리 복제본 생성, 원본은 유지\n",
    "2. 호출 문법\n",
    "3. sorted(데이터들) 문법 즉 특정 타입에 포함되지 않은 상태에서 호출되는 기능의 함수\n",
    "\n",
    "<hr>\n",
    "tip: docstring 확인 action - () 에 포인터 넣은 상태에서 SHift+Tab"
   ]
  },
  {
   "cell_type": "code",
   "execution_count": null,
   "metadata": {
    "id": "SCSgOwrTRUcL"
   },
   "outputs": [],
   "source": [
    "lst = ['a', 'b', 'e', 'c']\n",
    "\n"
   ]
  },
  {
   "cell_type": "code",
   "execution_count": null,
   "metadata": {
    "id": "RgQemcrERGwB"
   },
   "outputs": [],
   "source": [
    "lst = ['a', 'b', 'e', 'c']\n"
   ]
  },
  {
   "cell_type": "code",
   "execution_count": null,
   "metadata": {},
   "outputs": [],
   "source": [
    "lst = ['a', 'b', 'e', 'c']\n"
   ]
  },
  {
   "cell_type": "code",
   "execution_count": null,
   "metadata": {},
   "outputs": [],
   "source": [
    "# sorted() : 원본 수정없이 복재본 생성해주는 함수 \n",
    "\n",
    "lst = ['a', 'b', 'e', 'c']\n",
    "print(lst) # ['a', 'b', 'e', 'c']\n",
    "\n",
    "print(sorted(lst)) # ['a', 'b', 'c', 'e']\n",
    "print(lst) # ['a', 'b', 'e', 'c']\n",
    "\n",
    "v = sorted(lst)\n",
    "print(v)    # ['a', 'b', 'c', 'e']"
   ]
  },
  {
   "cell_type": "code",
   "execution_count": null,
   "metadata": {},
   "outputs": [],
   "source": [
    "lst = ['a', 'b', 'e', 'c']\n",
    "v = sorted(lst, reverse=True)\n",
    "print(v) "
   ]
  },
  {
   "cell_type": "code",
   "execution_count": null,
   "metadata": {},
   "outputs": [],
   "source": []
  },
  {
   "cell_type": "markdown",
   "metadata": {
    "id": "8KOaCtmiRGwC"
   },
   "source": [
    "### 3. 튜플\n",
    "- 쉼표로 구분된 변경 불가능한 리스트, 연산 사용 가능<br>\n",
    "- 문법 : ()\n",
    "- 개별 데이터 활용 : 고유한 index\n",
    "- tuple1 = ()<br>\n",
    "- tuple2 = tuple()<br>\n",
    "- t1 = (1, 2, 3, 4, 5)<br>\n",
    "- t2 = (\"red\", \"green\", \"blue\")<br>\n",
    "- t = t1 + t2 <br>\n",
    "- t3 = 'test', 'test1', 'test2' #괄호없이 나영될 객체들도 튜플로 간주"
   ]
  },
  {
   "cell_type": "code",
   "execution_count": null,
   "metadata": {
    "id": "1qk1lztHRGwD"
   },
   "outputs": [],
   "source": [
    "t1 = (1, 2, 3, 4, 5)\n",
    "t2 = (\"red\", \"green\", \"blue\")\n"
   ]
  },
  {
   "cell_type": "code",
   "execution_count": null,
   "metadata": {},
   "outputs": [],
   "source": []
  },
  {
   "cell_type": "markdown",
   "metadata": {
    "id": "sfRNGs58RGwF"
   },
   "source": [
    "### 용어\n",
    "> **패킹** : 하나의 변수에 여러개의 데이터를 넣는 구조 의미<br>\n",
    "> **언패킹** : 하나의 변수에서 여러개의 데이터를 각각 꺼내오는 구조 의미"
   ]
  },
  {
   "cell_type": "code",
   "execution_count": null,
   "metadata": {
    "id": "8DL-icehRGwG"
   },
   "outputs": [],
   "source": [
    "# 패킹 - 변수 하나에 다수의 데이터 대입하는 구조\n",
    "\n",
    "v = 1, 2, 's'\n",
    "print(type(v))  \n",
    "print(v)        \n"
   ]
  },
  {
   "cell_type": "code",
   "execution_count": null,
   "metadata": {},
   "outputs": [],
   "source": [
    "# 언패킹 = 하나의 변수가 보유하고 있는 다수의 데이터들을 다수의 변수로 분할해서 대입\n",
    "a, b, c = v\n",
    "print(a, b, c)   "
   ]
  },
  {
   "cell_type": "markdown",
   "metadata": {
    "id": "iQ3C7Y_uRGwI"
   },
   "source": [
    "### 4. Dict\n",
    "\n",
    "- 문법 : {key:value, key2:value, ...} / json 포멧과 흡사 \n",
    "- 활용 : 변수명['key']\n",
    "- 특정키를 주면 관련된 값을 돌려주는 내용 기반으로 검색하는 자료형\n",
    "- 키(key)와 값(value)의 쌍으로 관리되는 객체\n",
    "- 순서가 없음 \n",
    "- 키는 절대 중복 안함\n",
    "- 주요 함수 : get()/items()/keys()/values()/copy()/update\n",
    "- 저장 및 활용<br>\n",
    "    1. 이미 존재하는 dict 에 추가 저장 : dict변수['newKey'] = 새로운데이터<br>\n",
    "    2. 이미 존재하는 데이터 반환 : get(), ['key']\n",
    "\n",
    "- doc <br>\n",
    "https://docs.python.org/ko/3.6/library/stdtypes.html#mapping-types-dict\n"
   ]
  },
  {
   "cell_type": "code",
   "execution_count": null,
   "metadata": {
    "id": "ZN8jfW-URGwK"
   },
   "outputs": [],
   "source": [
    "name = ['a', 'b', 'c']\n",
    "age = [1, 2, 3]\n",
    "\n"
   ]
  },
  {
   "cell_type": "markdown",
   "metadata": {
    "id": "CSepSWdhRGwL"
   },
   "source": [
    "### 중간 점검\n",
    "\n",
    "- 숫자(정수, 실수), 부울, 문자열...\n",
    "- list : [], 값 수정 가능, index로 데이터 관리\n",
    "- tuple : (), 값 수정 불가, index로 데이터 관리\n",
    "- dict : {}, key는 절대 중복 불허\n",
    "- set : {}, 중복 데이터 불허, dict의 key의 타입으로 사용됨"
   ]
  },
  {
   "cell_type": "code",
   "execution_count": null,
   "metadata": {
    "id": "SQlkdjuzRGwN"
   },
   "outputs": [],
   "source": []
  },
  {
   "cell_type": "code",
   "execution_count": null,
   "metadata": {
    "id": "ZKrIIJimRGwP"
   },
   "outputs": [],
   "source": []
  },
  {
   "cell_type": "code",
   "execution_count": null,
   "metadata": {
    "id": "diOgZsAqRGwP"
   },
   "outputs": [],
   "source": []
  }
 ],
 "metadata": {
  "colab": {
   "name": "step05ListTupleDictSet.ipynb",
   "provenance": []
  },
  "kernelspec": {
   "display_name": "Python 3 (ipykernel)",
   "language": "python",
   "name": "python3"
  },
  "language_info": {
   "codemirror_mode": {
    "name": "ipython",
    "version": 3
   },
   "file_extension": ".py",
   "mimetype": "text/x-python",
   "name": "python",
   "nbconvert_exporter": "python",
   "pygments_lexer": "ipython3",
   "version": "3.9.7"
  },
  "toc": {
   "base_numbering": 1,
   "nav_menu": {},
   "number_sections": true,
   "sideBar": true,
   "skip_h1_title": false,
   "title_cell": "Table of Contents",
   "title_sidebar": "Contents",
   "toc_cell": false,
   "toc_position": {},
   "toc_section_display": true,
   "toc_window_display": false
  }
 },
 "nbformat": 4,
 "nbformat_minor": 1
}
