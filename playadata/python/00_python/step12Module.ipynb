{
 "cells": [
  {
   "cell_type": "markdown",
   "metadata": {},
   "source": [
    "<!--NAVIGATION-->\n",
    "\n",
    "\n",
    "[[step11.Object Oriented Programming 학습 page로 이동](step11OOP.ipynb) ] | [[step13.Fiile IO 학습 page로 이동](step13FileIO.ipynb) ]"
   ]
  },
  {
   "cell_type": "markdown",
   "metadata": {},
   "source": [
    "### 모듈(묶음)이란?\n",
    "\n",
    "> 1. 함수나 변수들을 모아 놓은 library들 의미<br>\n",
    "&nbsp;&nbsp; 회사, 그룹, 모르는 누군가가 제공하는 외부 library들 사용하는 방법, 외부에 내 코드를 공유하는 방법<br>\n",
    "\n",
    "> 2. 모듈 사용 방법 <br>\n",
    "2-1. 모듈의 파일 확장자 : py <br>\n",
    "2-2. 모듈 사용 문법<br>\n",
    "  &nbsp;&nbsp;&nbsp; a. import file명 <br>\n",
    "  &nbsp;&nbsp;&nbsp; b. from file명 import 함수명<br>\n",
    "  &nbsp;&nbsp;&nbsp; c. import file명 as 별칭 <br>\n"
   ]
  },
  {
   "cell_type": "code",
   "execution_count": 1,
   "metadata": {},
   "outputs": [
    {
     "name": "stdout",
     "output_type": "stream",
     "text": [
      "\u001b[1m\u001b[36mdataset\u001b[m\u001b[m                           step05ListTupleDictSet.ipynb\n",
      "\u001b[1m\u001b[36mimg\u001b[m\u001b[m                               step06VariableOperators.ipynb\n",
      "step00_basic.ipynb                step07Function.ipynb\n",
      "step01_Calculation.ipynb          step08Comprehension.ipynb\n",
      "step02_ConditionLoop.ipynb        step09_1Exception.ipynb\n",
      "step02_ConditionLoopMission.ipynb step09_2goodCode.ipynb\n",
      "step02_ConditionLoop_t.ipynb      step10_1Class.ipynb\n",
      "step03_1DataType.ipynb            step10_2Class.ipynb\n",
      "step03_2Slice.ipynb               step11OOP.ipynb\n",
      "step04StringType.ipynb            step12Module.ipynb\n"
     ]
    }
   ],
   "source": [
    "# ! jupyter notebook에서 명령 프롬프트에서 입력되는 명령어 사용 \n",
    "!ls"
   ]
  },
  {
   "cell_type": "code",
   "execution_count": 2,
   "metadata": {},
   "outputs": [
    {
     "name": "stdout",
     "output_type": "stream",
     "text": [
      "Writing fibo.py\n"
     ]
    }
   ],
   "source": [
    "%%writefile fibo.py\n",
    "\n",
    "def fib(n):\n",
    "    a, b = 0, 1\n",
    "    \n",
    "    while b < n:            # 조건이 true인 경우에만 실행되는 반복문\n",
    "        print(b, end=' ')\n",
    "        a, b = b, a+b    "
   ]
  },
  {
   "cell_type": "code",
   "execution_count": 3,
   "metadata": {},
   "outputs": [
    {
     "name": "stdout",
     "output_type": "stream",
     "text": [
      "1 1 2 3 "
     ]
    }
   ],
   "source": [
    "import fibo    # fibo.py이 파일 내용을 사용하겠다는 의미의 설정\n",
    "\n",
    "# fibo 라는 모듈(파일)이 보유하고 있는 fib() 함수 호출 문법 \n",
    "fibo.fib(5)"
   ]
  },
  {
   "cell_type": "code",
   "execution_count": 4,
   "metadata": {},
   "outputs": [
    {
     "name": "stdout",
     "output_type": "stream",
     "text": [
      "1 1 2 "
     ]
    }
   ],
   "source": [
    "import fibo as f   # 모듈명이 긴 경우 간결한 별칭 부여하는 방식\n",
    "\n",
    "f.fib(3)"
   ]
  },
  {
   "cell_type": "code",
   "execution_count": 11,
   "metadata": {},
   "outputs": [
    {
     "name": "stdout",
     "output_type": "stream",
     "text": [
      "1 1 2 "
     ]
    }
   ],
   "source": [
    "from fibo import fib\n",
    "\n",
    "fib(3)"
   ]
  },
  {
   "cell_type": "code",
   "execution_count": 10,
   "metadata": {},
   "outputs": [
    {
     "name": "stdout",
     "output_type": "stream",
     "text": [
      "Overwriting mymath.py\n"
     ]
    }
   ],
   "source": [
    "%%writefile mymath.py\n",
    "# jupyter notebook에서 python 파일 생성하는 명령어\n",
    "\n",
    "mypi = 3.14\n",
    "def add(a,b):\n",
    "    return a+b\n",
    "\n",
    "def area(r):\n",
    "    return r*r*mypi"
   ]
  },
  {
   "cell_type": "markdown",
   "metadata": {},
   "source": [
    "**미션- mymath 모듈의 각 메소드 호출 및 출력해 보기**"
   ]
  },
  {
   "cell_type": "code",
   "execution_count": 15,
   "metadata": {},
   "outputs": [
    {
     "name": "stdout",
     "output_type": "stream",
     "text": [
      "3\n"
     ]
    },
    {
     "data": {
      "text/plain": [
       "19.625"
      ]
     },
     "execution_count": 15,
     "metadata": {},
     "output_type": "execute_result"
    }
   ],
   "source": [
    "# from file명 import 함수명1 [, 함수명2]\n",
    "from mymath import add, area\n",
    "\n",
    "print(add(1,2))2\n",
    "area(2.5)\n"
   ]
  },
  {
   "cell_type": "code",
   "execution_count": 16,
   "metadata": {},
   "outputs": [],
   "source": [
    "del(add)"
   ]
  },
  {
   "cell_type": "code",
   "execution_count": null,
   "metadata": {},
   "outputs": [],
   "source": []
  }
 ],
 "metadata": {
  "kernelspec": {
   "display_name": "Python 3 (ipykernel)",
   "language": "python",
   "name": "python3"
  },
  "language_info": {
   "codemirror_mode": {
    "name": "ipython",
    "version": 3
   },
   "file_extension": ".py",
   "mimetype": "text/x-python",
   "name": "python",
   "nbconvert_exporter": "python",
   "pygments_lexer": "ipython3",
   "version": "3.9.7"
  },
  "toc": {
   "base_numbering": 1,
   "nav_menu": {},
   "number_sections": true,
   "sideBar": true,
   "skip_h1_title": false,
   "title_cell": "Table of Contents",
   "title_sidebar": "Contents",
   "toc_cell": false,
   "toc_position": {},
   "toc_section_display": true,
   "toc_window_display": false
  }
 },
 "nbformat": 4,
 "nbformat_minor": 4
}
