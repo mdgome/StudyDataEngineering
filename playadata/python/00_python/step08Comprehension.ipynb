{
 "cells": [
  {
   "cell_type": "markdown",
   "metadata": {
    "id": "pgcfDW85qPYD"
   },
   "source": [
    "<!--NAVIGATION-->\n",
    "\n",
    "\n",
    "[[step07. 함수 학습 page로 이동](step07Function.ipynb) ] | [[step09.예외 처리 학습 page로 이동](step09_1Exception.ipynb) ] | "
   ]
  },
  {
   "cell_type": "markdown",
   "metadata": {
    "id": "KEuYXoCzqPYN"
   },
   "source": [
    "### 컴프리헨션\n",
    "\n",
    "- **리스트, 세트, 딕셔너리 내에서 실행 할 수 있는 한 줄 for문**\n",
    "- 리스트 컴프리헨션, 세트 컴프리헨션, 딕셔너리 컴프리헨션라고 함\n",
    "- 컴프리헨션 : 내장, 내포의 의미"
   ]
  },
  {
   "cell_type": "code",
   "execution_count": 1,
   "metadata": {
    "id": "1t_jW3uWqPYP"
   },
   "outputs": [],
   "source": [
    "# 0~9까지 제곱하는 로직\n",
    "\n",
    "datas = []\n",
    "\n",
    "for x in range(10):\n",
    "    datas.append(x**2)"
   ]
  },
  {
   "cell_type": "code",
   "execution_count": 2,
   "metadata": {
    "id": "FyRGQmo1qPYQ",
    "outputId": "083ca48e-82af-4019-fbdd-aeedc43098c9"
   },
   "outputs": [
    {
     "data": {
      "text/plain": [
       "[0, 1, 4, 9, 16, 25, 36, 49, 64, 81]"
      ]
     },
     "execution_count": 2,
     "metadata": {},
     "output_type": "execute_result"
    }
   ],
   "source": [
    "datas"
   ]
  },
  {
   "cell_type": "code",
   "execution_count": 3,
   "metadata": {
    "id": "GF00rAESqPYT"
   },
   "outputs": [
    {
     "data": {
      "text/plain": [
       "[0, 1, 4, 9, 16, 25, 36, 49, 64, 81]"
      ]
     },
     "execution_count": 3,
     "metadata": {},
     "output_type": "execute_result"
    }
   ],
   "source": [
    "datas = [x**2 for x in range(10)]\n",
    "datas"
   ]
  },
  {
   "cell_type": "markdown",
   "metadata": {
    "id": "rKP9QjtcqPYT"
   },
   "source": [
    "**조건식 추가**"
   ]
  },
  {
   "cell_type": "markdown",
   "metadata": {
    "id": "vsNpIzfeqPYU"
   },
   "source": [
    "0~5까지의 데이터 중 양수인 경우만 +2를 해서 list에 저장 및 출력하기"
   ]
  },
  {
   "cell_type": "code",
   "execution_count": null,
   "metadata": {
    "id": "6xdKQiRVqPYU",
    "outputId": "32db48d3-596c-487f-f0ef-e347a593919f"
   },
   "outputs": [
    {
     "data": {
      "text/plain": [
       "[2, 4, 6]"
      ]
     },
     "execution_count": 79,
     "metadata": {
      "tags": []
     },
     "output_type": "execute_result"
    }
   ],
   "source": [
    "# 일반 코드\n",
    "\n",
    "datas2 =[]\n",
    "\n",
    "for v in range(6):\n",
    "    if v%2 == 0:\n",
    "        datas2.append(v+2)\n",
    "        \n",
    "datas2"
   ]
  },
  {
   "cell_type": "code",
   "execution_count": 4,
   "metadata": {
    "id": "9qBJdnaTqPYV"
   },
   "outputs": [
    {
     "data": {
      "text/plain": [
       "[2, 4, 6]"
      ]
     },
     "execution_count": 4,
     "metadata": {},
     "output_type": "execute_result"
    }
   ],
   "source": [
    "datas2 = [x+2 for x in range(6) if x%2 == 0]\n",
    "datas2"
   ]
  },
  {
   "cell_type": "code",
   "execution_count": 6,
   "metadata": {
    "id": "oWs37NGUqPYW",
    "outputId": "68001c2b-4a5e-495e-b81c-bfcc8923ad2f"
   },
   "outputs": [
    {
     "data": {
      "text/plain": [
       "[(1, 3), (1, 4), (2, 3), (2, 1), (2, 4), (3, 1), (3, 4)]"
      ]
     },
     "execution_count": 6,
     "metadata": {},
     "output_type": "execute_result"
    }
   ],
   "source": [
    "# list에 튜플 생성해서 저장하는 로직\n",
    "combs = []\n",
    "\n",
    "for x in [1, 2, 3]:\n",
    "    for y in [3, 1, 4]:\n",
    "        if x != y:\n",
    "            combs.append((x, y))\n",
    "            \n",
    "combs       "
   ]
  },
  {
   "cell_type": "code",
   "execution_count": 7,
   "metadata": {
    "id": "9V9iUwaAqPYX"
   },
   "outputs": [
    {
     "data": {
      "text/plain": [
       "[(1, 3), (1, 4), (2, 3), (2, 1), (2, 4), (3, 1), (3, 4)]"
      ]
     },
     "execution_count": 7,
     "metadata": {},
     "output_type": "execute_result"
    }
   ],
   "source": [
    "combs = [(x,y) for x in [1,2,3] for y in [3,1,4] if x!=y]\n",
    "combs"
   ]
  },
  {
   "cell_type": "markdown",
   "metadata": {
    "id": "zq0D6BM0qPYX"
   },
   "source": [
    "- 딕셔너리와 세트에도 리스트 컴프리헨션에 해당하는 문법 존재\n",
    "     - (): tuple\n",
    "     - {}: dict, set\n",
    "     - []: list"
   ]
  },
  {
   "cell_type": "code",
   "execution_count": 10,
   "metadata": {},
   "outputs": [
    {
     "name": "stdout",
     "output_type": "stream",
     "text": [
      "{1: 'a', 2: 'b'}\n"
     ]
    },
    {
     "data": {
      "text/plain": [
       "dict"
      ]
     },
     "execution_count": 10,
     "metadata": {},
     "output_type": "execute_result"
    }
   ],
   "source": [
    "# dict\n",
    "data = {x:y for x,y in [(1,'a'),(2,'b')]}\n",
    "print(data)\n",
    "type(data)"
   ]
  },
  {
   "cell_type": "code",
   "execution_count": 12,
   "metadata": {
    "id": "SQU2W_USqPYZ",
    "scrolled": true
   },
   "outputs": [
    {
     "name": "stdout",
     "output_type": "stream",
     "text": [
      "{1: 2, 2: 3, 3: 4}\n"
     ]
    },
    {
     "data": {
      "text/plain": [
       "dict"
      ]
     },
     "execution_count": 12,
     "metadata": {},
     "output_type": "execute_result"
    }
   ],
   "source": [
    "#? range(1, 4) 함수로 {1:2, 2:3, 3:4} 결과값이 나올수 있게 컴프리헨션 사용하셔서 개발해 보기\n",
    "data = {v:v+1 for v in range(1,4)}\n",
    "print(data)\n",
    "type(data)"
   ]
  },
  {
   "cell_type": "code",
   "execution_count": null,
   "metadata": {
    "id": "d4EFMOIdqPYZ"
   },
   "outputs": [],
   "source": []
  },
  {
   "cell_type": "markdown",
   "metadata": {
    "id": "n69mHDmGqPYa"
   },
   "source": [
    "- 딕셔너리와 세트에 적용한 컴프리헨션"
   ]
  },
  {
   "cell_type": "code",
   "execution_count": 16,
   "metadata": {
    "id": "bYV6DNZBqPYa",
    "outputId": "b517fde2-1f83-4b9c-fd30-1c366dcc4f90"
   },
   "outputs": [
    {
     "name": "stdout",
     "output_type": "stream",
     "text": [
      "{'A': 90, 'B': 80, 'C': 70}\n",
      "{'A', 'B', 'C'}\n"
     ]
    }
   ],
   "source": [
    "score = {'A' : 90, 'B' : 80, 'C' : 70}  # dict 타입\n",
    "set_ = {x for x,y in score.items() }\n",
    "print(score)\n",
    "print(set_)"
   ]
  },
  {
   "cell_type": "code",
   "execution_count": 18,
   "metadata": {},
   "outputs": [
    {
     "name": "stdout",
     "output_type": "stream",
     "text": [
      "<zip object at 0x7fc72008bf40>\n",
      "[(1, 4), (2, 5), (3, 6)]\n"
     ]
    }
   ],
   "source": [
    "x = [1, 2, 3]\n",
    "y = [4, 5, 6]\n",
    "zbv = zip(x,y)\n",
    "print(zbv)\n",
    "print(list(zbv))"
   ]
  },
  {
   "cell_type": "code",
   "execution_count": null,
   "metadata": {
    "id": "y4ya7VFmqPYc",
    "outputId": "45972d59-a827-4c0c-9d33-a7636f5446ee"
   },
   "outputs": [
    {
     "name": "stdout",
     "output_type": "stream",
     "text": [
      "0 4 16 36 64 "
     ]
    }
   ],
   "source": [
    "for v in range(10):\n",
    "    if v%2 == 0:\n",
    "        print(v*v, end=' ')"
   ]
  },
  {
   "cell_type": "code",
   "execution_count": 49,
   "metadata": {
    "id": "OrRq94qlqPYc"
   },
   "outputs": [
    {
     "data": {
      "text/plain": [
       "[[10, 11, 12], [13, 14, 15], [16, 17, 18]]"
      ]
     },
     "execution_count": 49,
     "metadata": {},
     "output_type": "execute_result"
    }
   ],
   "source": [
    "# ?결과치가 다음과 같을 경우 어떻게 함축 표현식을 만들어야 하는지?\n",
    "# [ [10, 11, 12], [13, 14, 15], [16, 17, 18] ]\n",
    "\n",
    "# 제시된 데이터 : [10, 11, 12] 과 [0, 1, 2]\n",
    "# 힌트 : 값1 * 3 + 값2\n",
    "x = [10,11,12]\n",
    "y = [0,1,2]\n",
    "[ [y*3+x for x in [10,11,12]] for y in [0,1,2]]"
   ]
  },
  {
   "cell_type": "code",
   "execution_count": 44,
   "metadata": {},
   "outputs": [
    {
     "data": {
      "text/plain": [
       "[[10, 11, 12], [13, 14, 15], [16, 17, 18]]"
      ]
     },
     "execution_count": 44,
     "metadata": {},
     "output_type": "execute_result"
    }
   ],
   "source": [
    "lst = []\n",
    "\n",
    "for v1 in [0, 1, 2]:\n",
    "    lst2 = []\n",
    "    \n",
    "    for v2 in [10, 11, 12]:\n",
    "        lst2.append(v1*3+v2) \n",
    "        \n",
    "    lst.append(lst2)\n",
    "        \n",
    "lst"
   ]
  },
  {
   "cell_type": "code",
   "execution_count": null,
   "metadata": {},
   "outputs": [],
   "source": []
  },
  {
   "cell_type": "code",
   "execution_count": null,
   "metadata": {},
   "outputs": [],
   "source": []
  },
  {
   "cell_type": "markdown",
   "metadata": {
    "id": "8TPzkY0NqPYd"
   },
   "source": [
    "**미션 - comprehension 문법으로 변경하기**"
   ]
  },
  {
   "cell_type": "code",
   "execution_count": null,
   "metadata": {
    "id": "KrcN5BhqqPYd",
    "outputId": "dd9ede5e-a8d7-4f84-ea48-f88a9191d222"
   },
   "outputs": [
    {
     "name": "stdout",
     "output_type": "stream",
     "text": [
      "[121, 242, 252, 252, 272, 464, 272, 323, 252, 414, 323, 494, 252, 525, 242, 484, 616, 414, 575, 696, 525, 575, 494, 676, 616, 464, 696]\n"
     ]
    }
   ],
   "source": [
    "eve = []\n",
    "for i in range(10, 30):\n",
    "    for j in range(10, 30):\n",
    "        a = i * j\n",
    "        if str(a) == str(a)[::-1]:\n",
    "            eve.append(a)\n",
    "print(eve)"
   ]
  },
  {
   "cell_type": "code",
   "execution_count": 52,
   "metadata": {
    "id": "XAKiHT5CqPYd"
   },
   "outputs": [
    {
     "data": {
      "text/plain": [
       "[121,\n",
       " 242,\n",
       " 252,\n",
       " 252,\n",
       " 272,\n",
       " 464,\n",
       " 272,\n",
       " 323,\n",
       " 252,\n",
       " 414,\n",
       " 323,\n",
       " 494,\n",
       " 252,\n",
       " 525,\n",
       " 242,\n",
       " 484,\n",
       " 616,\n",
       " 414,\n",
       " 575,\n",
       " 696,\n",
       " 525,\n",
       " 575,\n",
       " 494,\n",
       " 676,\n",
       " 616,\n",
       " 464,\n",
       " 696]"
      ]
     },
     "execution_count": 52,
     "metadata": {},
     "output_type": "execute_result"
    }
   ],
   "source": [
    "[i*j for i in range(10,30)  for j in range(10,30) if str(i*j) == str(i*j)[::-1]]"
   ]
  },
  {
   "cell_type": "markdown",
   "metadata": {
    "id": "68OgFs8ZqPYe"
   },
   "source": [
    "**미션 : 제시된 코드와 동일한 로직의 comprehension 구성하기**"
   ]
  },
  {
   "cell_type": "code",
   "execution_count": null,
   "metadata": {
    "id": "dWV2btFgqPYe",
    "outputId": "9da7f805-b873-4b78-c277-c0211788a28e"
   },
   "outputs": [
    {
     "name": "stdout",
     "output_type": "stream",
     "text": [
      "[1, 3, 5]\n"
     ]
    }
   ],
   "source": [
    "\n",
    "reference = [1, 2, 3, 4, 5, 6]\n",
    "\n",
    "output = []\n",
    "\n",
    "for number in reference:\n",
    "    if number % 2 == 0:\n",
    "        prev_num = number-1      # calculate previous number\n",
    "        output.append(prev_num)  # append to the list\n",
    "\n",
    "print(output)\n"
   ]
  },
  {
   "cell_type": "code",
   "execution_count": 54,
   "metadata": {},
   "outputs": [
    {
     "data": {
      "text/plain": [
       "[1, 3, 5]"
      ]
     },
     "execution_count": 54,
     "metadata": {},
     "output_type": "execute_result"
    }
   ],
   "source": [
    "output = [i-1 for i in [1,2,3,4,5,6] if i%2 == 0]\n",
    "output"
   ]
  },
  {
   "cell_type": "markdown",
   "metadata": {
    "id": "AHqDXYEJqPYf"
   },
   "source": [
    "**미션 : 제시된 반복문등을 분석 하고 comprehension 문법 적용해서 결과에 맞게 구성하기**"
   ]
  },
  {
   "cell_type": "code",
   "execution_count": 2,
   "metadata": {
    "colab": {
     "base_uri": "https://localhost:8080/"
    },
    "executionInfo": {
     "elapsed": 3039,
     "status": "ok",
     "timestamp": 1621529049220,
     "user": {
      "displayName": "김혜경",
      "photoUrl": "https://lh3.googleusercontent.com/a-/AOh14Ghj6yCOWfas3c-RFEZg9yZi0Y8GAll6IHR_nygo=s64",
      "userId": "05956990831563294642"
     },
     "user_tz": -540
    },
    "id": "hlpG75pXqPYf",
    "outputId": "eed76e10-5e31-4ebd-e5be-a11e4f648d55"
   },
   "outputs": [
    {
     "name": "stdout",
     "output_type": "stream",
     "text": [
      "encore\n",
      "playdata\n",
      "교육\n",
      "4차 산업 인재상\n",
      "----- split() -----\n",
      "['encore']\n",
      "['playdata']\n",
      "['교육']\n",
      "['4차', '산업', '인재상']\n",
      "----- list에 저장 -----\n",
      "[['encore'], ['playdata'], ['교육'], ['4차', '산업', '인재상']]\n"
     ]
    }
   ],
   "source": [
    "list_string = ['encore', 'playdata', '교육', '4차 산업 인재상']\n",
    "\n",
    "for word in list_string:\n",
    "    print(word)\n",
    "    \n",
    "print(\"----- split() -----\")\n",
    "    \n",
    "for word in list_string:\n",
    "    print(word.split())\n",
    "    \n",
    "    \n",
    "print('----- list에 저장 -----')\n",
    "list = []\n",
    "for word in list_string:\n",
    "    list.append(word.split())\n",
    "    \n",
    "print(list)"
   ]
  },
  {
   "cell_type": "code",
   "execution_count": 56,
   "metadata": {},
   "outputs": [
    {
     "data": {
      "text/plain": [
       "[['encore'], ['playdata'], ['교육'], ['4차', '산업', '인재상']]"
      ]
     },
     "execution_count": 56,
     "metadata": {},
     "output_type": "execute_result"
    }
   ],
   "source": [
    "[word_list.split() for word_list in ['encore', 'playdata', '교육', '4차 산업 인재상']]"
   ]
  },
  {
   "cell_type": "markdown",
   "metadata": {
    "id": "3nkp4oQsqPYg"
   },
   "source": [
    "**미션 : 제시된 데이터를 활용하여 철자 길이가 4이상인 경우의 데이터에 한해서만 문자열의 첫 글자만 대문자로 및 출력**"
   ]
  },
  {
   "cell_type": "code",
   "execution_count": null,
   "metadata": {
    "id": "gmCbaXttqPYg"
   },
   "outputs": [],
   "source": [
    "words = ['encore', 'playdata', 'sw응용&분석', 'hi']\n",
    "\n"
   ]
  },
  {
   "cell_type": "markdown",
   "metadata": {
    "id": "a-GyAnsDqPYh"
   },
   "source": [
    "slicing 기술 적용해서 sw응용&분석 유지하는 코드"
   ]
  },
  {
   "cell_type": "code",
   "execution_count": 65,
   "metadata": {
    "id": "de-mPS41qPYh"
   },
   "outputs": [
    {
     "data": {
      "text/plain": [
       "['Encore', 'Playdata', 'Sw응용&분석']"
      ]
     },
     "execution_count": 65,
     "metadata": {},
     "output_type": "execute_result"
    }
   ],
   "source": [
    "import string\n",
    "[string.capwords(words) for words in ['encore', 'playdata', 'sw응용&분석', 'hi'] if len(words) >= 4]"
   ]
  },
  {
   "cell_type": "code",
   "execution_count": 82,
   "metadata": {
    "id": "VZslKUVLqPYh"
   },
   "outputs": [
    {
     "data": {
      "text/plain": [
       "['Encore', 'Playdata', 'Sw응용&분석']"
      ]
     },
     "execution_count": 82,
     "metadata": {},
     "output_type": "execute_result"
    }
   ],
   "source": [
    "[words[:1].upper() + words[1:] for words in ['encore', 'playdata', 'sw응용&분석', 'hi'] if len(words) >= 4]"
   ]
  },
  {
   "cell_type": "code",
   "execution_count": 81,
   "metadata": {},
   "outputs": [],
   "source": [
    "string_ = 'encore'\n",
    "size_ = len(string_)\n",
    "string_ = string_[:1].upper() + string_[1:]"
   ]
  },
  {
   "cell_type": "code",
   "execution_count": null,
   "metadata": {},
   "outputs": [],
   "source": []
  }
 ],
 "metadata": {
  "colab": {
   "name": "step08Comprehension.ipynb",
   "provenance": []
  },
  "interpreter": {
   "hash": "fdd836e67e8fe0c88bd02646b333c3c0da2a1176c9ac5c876b68c94a3c800b6c"
  },
  "kernelspec": {
   "display_name": "Python 3 (ipykernel)",
   "language": "python",
   "name": "python3"
  },
  "language_info": {
   "codemirror_mode": {
    "name": "ipython",
    "version": 3
   },
   "file_extension": ".py",
   "mimetype": "text/x-python",
   "name": "python",
   "nbconvert_exporter": "python",
   "pygments_lexer": "ipython3",
   "version": "3.9.7"
  },
  "toc": {
   "base_numbering": 1,
   "nav_menu": {},
   "number_sections": true,
   "sideBar": true,
   "skip_h1_title": false,
   "title_cell": "Table of Contents",
   "title_sidebar": "Contents",
   "toc_cell": false,
   "toc_position": {},
   "toc_section_display": true,
   "toc_window_display": false
  }
 },
 "nbformat": 4,
 "nbformat_minor": 4
}
