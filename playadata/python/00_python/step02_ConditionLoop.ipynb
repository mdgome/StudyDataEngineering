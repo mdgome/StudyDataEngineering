{
 "cells": [
  {
   "cell_type": "markdown",
   "id": "ad9bcf63-41d5-4de2-949c-e111a5ea04be",
   "metadata": {},
   "source": [
    "### 조건문 & 반복문을 이용하여 응용력 향상하기"
   ]
  },
  {
   "cell_type": "markdown",
   "id": "deaac020-6fb3-4c4e-82f1-4398152c8bdd",
   "metadata": {},
   "source": [
    "- java 의 메소드 구현 방식\n",
    "    - class 내에서만 구현 가능\n",
    "    - 반환 타입 표현 함수\n",
    "    \n",
    "- js 의 함수와 메소드 구현 방식\n",
    "    - 함수: class 와 무관하게 개발되는 기능 의미\n",
    "    - 메소드: class 내부에서 구현되는 기능(클래스 및 객체와 연관되어 있는 함수)\n",
    "    \n",
    "    - function 함수명([argumentList]){...}\n",
    "\n",
    "- python 의 함수와 메소드 구현 방식\n",
    "    - 함수: class 와 무관하게 개발되는 기능 의미\n",
    "    - 메소드: class 내부에서 구현되는 기능(클래스 및 객체와 연관되어 있는 함수)\n",
    "    - def 함수명 or 메소드명([argumentList]){...}"
   ]
  },
  {
   "cell_type": "raw",
   "id": "f3acbbaf-5213-43c8-b51e-e85db62c403c",
   "metadata": {
    "tags": []
   },
   "source": [
    "# ? validCheck() 함수에서 출력된 내용을 반환해서 호출한 곳에서 출력하기\n",
    "\n",
    "def validCheck(v):\n",
    "    if v == 'a':\n",
    "        print('True인 경우만 실행') # 출력없이 반환해보기\n",
    "    elif v= 'b':\n",
    "        print('elif 문장이 True인 경우만 실행')\n",
    "    else:\n",
    "        print('False 인 경우 실행')"
   ]
  },
  {
   "cell_type": "code",
   "execution_count": 2,
   "id": "cf0688b9-4ed7-497f-837a-79078cb85cc5",
   "metadata": {},
   "outputs": [],
   "source": [
    "def validCheck(v):\n",
    "    if v == 'a':\n",
    "        return 'True인 경우만 실행'\n",
    "    elif v == 'b':\n",
    "        print('elif 문장이 True인 경우만 실행')\n",
    "    else:\n",
    "        print('False 인 경우 실행')"
   ]
  },
  {
   "cell_type": "code",
   "execution_count": 3,
   "id": "4683959c-6255-45eb-9419-b34899deb817",
   "metadata": {},
   "outputs": [
    {
     "name": "stdout",
     "output_type": "stream",
     "text": [
      "True인 경우만 실행\n"
     ]
    }
   ],
   "source": [
    "print(validCheck('a'))"
   ]
  },
  {
   "cell_type": "code",
   "execution_count": 4,
   "id": "c84f28e2-32ef-4cec-a411-3a347c262624",
   "metadata": {},
   "outputs": [],
   "source": [
    "#? 함수명은 loginCheck()\n",
    "# ID 와 PW 값을 parameter 로 받아서 검증 후에 인증 성공 또는 인증 실패 반환\n",
    "# 유효한 id/pw == playdata/11 이라 가정"
   ]
  },
  {
   "cell_type": "code",
   "execution_count": 6,
   "id": "83d3b36d-90ad-4e2b-bb20-316a6df4c61f",
   "metadata": {},
   "outputs": [],
   "source": [
    "def loginCheck(login_id, pw):\n",
    "    if((login_id == 'playdata') & (pw == '11')):\n",
    "        return '인증 성공'\n",
    "    else:\n",
    "        return '인증 실패'"
   ]
  },
  {
   "cell_type": "code",
   "execution_count": 8,
   "id": "598e9af9-6bf0-49bc-9aa6-1c78620a0a75",
   "metadata": {},
   "outputs": [
    {
     "data": {
      "text/plain": [
       "'인증 성공'"
      ]
     },
     "execution_count": 8,
     "metadata": {},
     "output_type": "execute_result"
    }
   ],
   "source": [
    "loginCheck('playdata', '11')"
   ]
  },
  {
   "cell_type": "code",
   "execution_count": 9,
   "id": "3c60d0b5-f72f-46a4-8117-3a733d980996",
   "metadata": {},
   "outputs": [
    {
     "data": {
      "text/plain": [
       "'인증 실패'"
      ]
     },
     "execution_count": 9,
     "metadata": {},
     "output_type": "execute_result"
    }
   ],
   "source": [
    "loginCheck('playdata', '121')"
   ]
  },
  {
   "cell_type": "code",
   "execution_count": 15,
   "id": "819266d4-96d5-4c4c-a208-7f4fb3607f48",
   "metadata": {},
   "outputs": [
    {
     "data": {
      "text/plain": [
       "int"
      ]
     },
     "execution_count": 15,
     "metadata": {},
     "output_type": "execute_result"
    }
   ],
   "source": [
    "# type('a')==type('str')\n",
    "# str == type('str')\n",
    "type(1)"
   ]
  },
  {
   "cell_type": "code",
   "execution_count": 24,
   "id": "4cc3fb67-7563-419f-8ab6-36d62a4ff235",
   "metadata": {},
   "outputs": [],
   "source": [
    "# ID 값이 무효한지? pw 값이 무효한지? 구분해서 검증\n",
    "# 중첩 조건문\n",
    "\n",
    "def loginCheck(login_id, pw):\n",
    "    if(str == type(login_id)):\n",
    "        if(str == type(pw)):\n",
    "            if(login_id == 'playdata'):\n",
    "                if(pw == '11'):\n",
    "                    return 'ID/PW 인증 성공'\n",
    "                else :\n",
    "                    return 'ID인증 성공, PW 인증 실패'\n",
    "                return 'ID 인증 성공'\n",
    "            else :\n",
    "                return 'ID 인증 실패'\n",
    "        else:\n",
    "            return 'pw type is non str'\n",
    "    else:\n",
    "        return 'login_id type is non str'"
   ]
  },
  {
   "cell_type": "code",
   "execution_count": 25,
   "id": "cf3e9c57-dc62-4b19-bbb8-5a57638f7c12",
   "metadata": {},
   "outputs": [
    {
     "data": {
      "text/plain": [
       "'ID/PW 인증 성공'"
      ]
     },
     "execution_count": 25,
     "metadata": {},
     "output_type": "execute_result"
    }
   ],
   "source": [
    "loginCheck('playdata','11')"
   ]
  },
  {
   "cell_type": "code",
   "execution_count": 26,
   "id": "973fe1e6-6d29-4d2f-918b-f5c96e034387",
   "metadata": {},
   "outputs": [
    {
     "data": {
      "text/plain": [
       "'ID인증 성공, PW 인증 실패'"
      ]
     },
     "execution_count": 26,
     "metadata": {},
     "output_type": "execute_result"
    }
   ],
   "source": [
    "loginCheck('playdata', '121')"
   ]
  },
  {
   "cell_type": "code",
   "execution_count": 31,
   "id": "764014bb-f103-49e2-8542-d3b2748766cf",
   "metadata": {},
   "outputs": [],
   "source": [
    "for v in range(6,1):\n",
    "    print(v)"
   ]
  },
  {
   "cell_type": "code",
   "execution_count": 29,
   "id": "70a42897-4dd9-4116-815e-26233dcb18af",
   "metadata": {},
   "outputs": [
    {
     "name": "stdout",
     "output_type": "stream",
     "text": [
      "0\n",
      "1\n",
      "2\n",
      "3\n"
     ]
    }
   ],
   "source": [
    "for v in range(11):\n",
    "    if v == 4:\n",
    "        break\n",
    "    print(v)"
   ]
  },
  {
   "cell_type": "code",
   "execution_count": 30,
   "id": "7ecdcd40-455b-47e5-afb6-0b2f62842530",
   "metadata": {},
   "outputs": [
    {
     "name": "stdout",
     "output_type": "stream",
     "text": [
      "0\n",
      "1\n",
      "2\n",
      "3\n",
      "5\n",
      "6\n",
      "7\n",
      "8\n",
      "9\n",
      "10\n"
     ]
    }
   ],
   "source": [
    "for v in range(11):\n",
    "    if v == 4:\n",
    "        continue\n",
    "    print(v)"
   ]
  },
  {
   "cell_type": "code",
   "execution_count": 43,
   "id": "058b809c-f653-4d5c-a77e-65432d0382bd",
   "metadata": {},
   "outputs": [
    {
     "name": "stdout",
     "output_type": "stream",
     "text": [
      "True False False\n"
     ]
    }
   ],
   "source": [
    "v1 = 'a'\n",
    "v2 = 2\n",
    "v3 = ' '\n",
    "# Int type 에서는 isalpha, isdigit, isspace 호출 불가 3개의 함수는 문자열에서 알파벳, 숫자, 공백이 있는지 확인하는 함수\n",
    "print(v1.isalpha(), v1.isdigit(), v1.isspace())"
   ]
  },
  {
   "cell_type": "code",
   "execution_count": 45,
   "id": "605d93e2-3fbe-4dd0-9716-653f5ba32ac9",
   "metadata": {},
   "outputs": [
    {
     "name": "stdout",
     "output_type": "stream",
     "text": [
      "False True False\n"
     ]
    }
   ],
   "source": [
    "print(v2.isalpha(), v2.isdigit(), v2.isspace())\n",
    "# print(v2.isalpha())\n",
    "# print(v2.isdigit())\n",
    "# print(v2.isspace())"
   ]
  },
  {
   "cell_type": "code",
   "execution_count": 46,
   "id": "22377259-3d26-4fa0-8d6c-73bd5ff1c26a",
   "metadata": {},
   "outputs": [
    {
     "name": "stdout",
     "output_type": "stream",
     "text": [
      "False False True\n"
     ]
    }
   ],
   "source": [
    "print(v3.isalpha(), v3.isdigit(), v3.isspace())"
   ]
  },
  {
   "cell_type": "code",
   "execution_count": 51,
   "id": "b55c72ea-c939-46fb-a80e-8eb524818d94",
   "metadata": {
    "tags": []
   },
   "outputs": [
    {
     "name": "stdout",
     "output_type": "stream",
     "text": [
      "Help on method_descriptor:\n",
      "\n",
      "isalpha(...)\n",
      "    S.isalpha() -> bool\n",
      "    \n",
      "    Return True if all characters in S are alphabetic\n",
      "    and there is at least one character in S, False otherwise.\n",
      "\n",
      "Help on method_descriptor:\n",
      "\n",
      "isdigit(...)\n",
      "    S.isdigit() -> bool\n",
      "    \n",
      "    Return True if all characters in S are digits\n",
      "    and there is at least one character in S, False otherwise.\n",
      "\n",
      "Help on method_descriptor:\n",
      "\n",
      "isspace(...)\n",
      "    S.isspace() -> bool\n",
      "    \n",
      "    Return True if all characters in S are whitespace\n",
      "    and there is at least one character in S, False otherwise.\n",
      "\n"
     ]
    }
   ],
   "source": [
    "# dir(str)\n",
    "help(str.isalpha)\n",
    "help(str.isdigit)\n",
    "help(str.isspace)"
   ]
  }
 ],
 "metadata": {
  "kernelspec": {
   "display_name": "env01",
   "language": "python",
   "name": "env01"
  },
  "language_info": {
   "codemirror_mode": {
    "name": "ipython",
    "version": 3
   },
   "file_extension": ".py",
   "mimetype": "text/x-python",
   "name": "python",
   "nbconvert_exporter": "python",
   "pygments_lexer": "ipython3",
   "version": "3.6.13"
  }
 },
 "nbformat": 4,
 "nbformat_minor": 5
}
