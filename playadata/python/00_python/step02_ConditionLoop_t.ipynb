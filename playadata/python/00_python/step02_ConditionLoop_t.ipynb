{
 "cells": [
  {
   "cell_type": "markdown",
   "id": "452f074e",
   "metadata": {},
   "source": [
    "### 조건문 & 반복문을 이용하여 응용력 향상하기"
   ]
  },
  {
   "cell_type": "markdown",
   "id": "d22dfd07",
   "metadata": {},
   "source": [
    "- java의 메소드 구현 방식\n",
    "    - class 내에만 구현 가능\n",
    "    - 반환타입 표현 필수( String a(){ return 문자열값반환}, void b(){})\n",
    "\n",
    "\n",
    "- js의 함수와 메소드 구현 방식\n",
    "    - 함수 : 클래스와 무관하게 개발되는 기능 의미\n",
    "    - 메소드 : 클래스 내에 구현되는 기능    \n",
    "    - funcation 함수명([arguementlist]){...}\n",
    "\n",
    "\n",
    "- python의 함수와 메소드 구현 방식\n",
    "    - 함수 : 클래스와 무관하게 개발되는 기능 의미\n",
    "    - 메소드 : 클래스 내에 구현되는 기능\n",
    "    - def 함수명 or 메소드명([arguementlist]){...}"
   ]
  },
  {
   "cell_type": "code",
   "execution_count": 3,
   "id": "93da5d96",
   "metadata": {},
   "outputs": [
    {
     "name": "stdout",
     "output_type": "stream",
     "text": [
      "True인 경우만 실행\n"
     ]
    }
   ],
   "source": [
    "# 단일 조건식\n",
    "if True:\n",
    "    print('True인 경우만 실행')"
   ]
  },
  {
   "cell_type": "code",
   "execution_count": 5,
   "id": "f00386b0",
   "metadata": {},
   "outputs": [
    {
     "name": "stdout",
     "output_type": "stream",
     "text": [
      "True인 경우만 실행\n"
     ]
    }
   ],
   "source": [
    "if 'a' == 'a':\n",
    "    print('True인 경우만 실행')"
   ]
  },
  {
   "cell_type": "code",
   "execution_count": 7,
   "id": "8a15a763",
   "metadata": {},
   "outputs": [],
   "source": [
    "if 'a' != 'a':\n",
    "    print('True인 경우만 실행')"
   ]
  },
  {
   "cell_type": "code",
   "execution_count": 8,
   "id": "6eecef0b",
   "metadata": {},
   "outputs": [
    {
     "name": "stdout",
     "output_type": "stream",
     "text": [
      "True인 경우만 실행\n"
     ]
    }
   ],
   "source": [
    "# if else\n",
    "if 'a' == 'a':\n",
    "    print('True인 경우만 실행')\n",
    "else:\n",
    "    print('False인 경우 실행')"
   ]
  },
  {
   "cell_type": "code",
   "execution_count": 9,
   "id": "9f1d8cff",
   "metadata": {},
   "outputs": [
    {
     "name": "stdout",
     "output_type": "stream",
     "text": [
      "False인 경우 실행\n"
     ]
    }
   ],
   "source": [
    "# if else\n",
    "if 'a' != 'a':\n",
    "    print('True인 경우만 실행')\n",
    "else:\n",
    "    print('False인 경우 실행')"
   ]
  },
  {
   "cell_type": "code",
   "execution_count": 11,
   "id": "d6d1a4aa",
   "metadata": {},
   "outputs": [
    {
     "name": "stdout",
     "output_type": "stream",
     "text": [
      "elif 문장이 True인 경우만 실행\n"
     ]
    }
   ],
   "source": [
    "# 다중 조건식\n",
    "# java와 js - if ~ else if ~ else\n",
    "# if~elif ~ else\n",
    "\n",
    "if 'a' != 'a':\n",
    "    print('True인 경우만 실행')\n",
    "elif 'b' == 'b':\n",
    "    print('elif 문장이 True인 경우만 실행')\n",
    "else:\n",
    "    print('False인 경우 실행')\n"
   ]
  },
  {
   "cell_type": "markdown",
   "id": "de0aa2b0",
   "metadata": {},
   "source": [
    "함수 학습\n",
    "\n",
    "- def 키워드로 함수임을 선언\n"
   ]
  },
  {
   "cell_type": "code",
   "execution_count": 14,
   "id": "97efc7d5",
   "metadata": {},
   "outputs": [],
   "source": [
    "def validCheck(v):\n",
    "    if v == 'a':\n",
    "        print('True인 경우만 실행')\n",
    "    elif v == 'b':\n",
    "        print('elif 문장이 True인 경우만 실행')\n",
    "    else:\n",
    "        print('False인 경우 실행')"
   ]
  },
  {
   "cell_type": "code",
   "execution_count": 16,
   "id": "867eb91c",
   "metadata": {},
   "outputs": [
    {
     "name": "stdout",
     "output_type": "stream",
     "text": [
      "True인 경우만 실행\n"
     ]
    }
   ],
   "source": [
    "validCheck('a')"
   ]
  },
  {
   "cell_type": "code",
   "execution_count": 17,
   "id": "b7a3a3a6",
   "metadata": {},
   "outputs": [
    {
     "name": "stdout",
     "output_type": "stream",
     "text": [
      "elif 문장이 True인 경우만 실행\n"
     ]
    }
   ],
   "source": [
    "validCheck('b')"
   ]
  },
  {
   "cell_type": "code",
   "execution_count": 18,
   "id": "fd18dc5a",
   "metadata": {},
   "outputs": [
    {
     "name": "stdout",
     "output_type": "stream",
     "text": [
      "False인 경우 실행\n"
     ]
    }
   ],
   "source": [
    "validCheck('1')"
   ]
  },
  {
   "cell_type": "code",
   "execution_count": 19,
   "id": "c7a1c061",
   "metadata": {},
   "outputs": [],
   "source": [
    "#? validCheck() 함수에서 출력된 내용을 반환해서 호출한 곳에서 출력하기\n",
    "def validCheck(v):\n",
    "    if v == 'a':\n",
    "        return 'True인 경우만 실행'   #? 출력없이 반환해 보기 \n",
    "    elif v == 'b':\n",
    "        return 'elif 문장이 True인 경우만 실행'\n",
    "    else:\n",
    "        return 'False인 경우 실행'"
   ]
  },
  {
   "cell_type": "code",
   "execution_count": 20,
   "id": "e5ed40f9",
   "metadata": {},
   "outputs": [
    {
     "name": "stdout",
     "output_type": "stream",
     "text": [
      "True인 경우만 실행\n"
     ]
    }
   ],
   "source": [
    "print(validCheck('a'))"
   ]
  },
  {
   "cell_type": "markdown",
   "id": "476cd77a",
   "metadata": {},
   "source": [
    "- 그리고(and &, &&)와 또는(or |, ||) : 프로그래밍 화\n",
    "- python의 조건식 : and와 or 키워드 사용\n"
   ]
  },
  {
   "cell_type": "code",
   "execution_count": 23,
   "id": "6372d883",
   "metadata": {},
   "outputs": [
    {
     "name": "stdout",
     "output_type": "stream",
     "text": [
      "True\n"
     ]
    }
   ],
   "source": [
    "if 'a'=='a' and 1==1:\n",
    "    print(True)"
   ]
  },
  {
   "cell_type": "code",
   "execution_count": 24,
   "id": "542a41ac",
   "metadata": {},
   "outputs": [
    {
     "ename": "TypeError",
     "evalue": "unsupported operand type(s) for &: 'str' and 'int'",
     "output_type": "error",
     "traceback": [
      "\u001b[1;31m--------------------------------------------------------------------\u001b[0m",
      "\u001b[1;31mTypeError\u001b[0m                          Traceback (most recent call last)",
      "\u001b[1;32m~\\AppData\\Local\\Temp/ipykernel_11688/4045012660.py\u001b[0m in \u001b[0;36m<module>\u001b[1;34m\u001b[0m\n\u001b[1;32m----> 1\u001b[1;33m \u001b[1;32mif\u001b[0m \u001b[1;34m'a'\u001b[0m\u001b[1;33m==\u001b[0m\u001b[1;34m'a'\u001b[0m \u001b[1;33m&\u001b[0m \u001b[1;36m1\u001b[0m\u001b[1;33m==\u001b[0m\u001b[1;36m1\u001b[0m\u001b[1;33m:\u001b[0m\u001b[1;33m\u001b[0m\u001b[1;33m\u001b[0m\u001b[0m\n\u001b[0m\u001b[0;32m      2\u001b[0m     \u001b[0mprint\u001b[0m\u001b[1;33m(\u001b[0m\u001b[1;32mTrue\u001b[0m\u001b[1;33m)\u001b[0m\u001b[1;33m\u001b[0m\u001b[1;33m\u001b[0m\u001b[0m\n",
      "\u001b[1;31mTypeError\u001b[0m: unsupported operand type(s) for &: 'str' and 'int'"
     ]
    }
   ],
   "source": [
    "if 'a'=='a' & 1==1:\n",
    "    print(True)"
   ]
  },
  {
   "cell_type": "code",
   "execution_count": 25,
   "id": "f8e35808",
   "metadata": {},
   "outputs": [
    {
     "ename": "SyntaxError",
     "evalue": "invalid syntax (Temp/ipykernel_11688/197773052.py, line 1)",
     "output_type": "error",
     "traceback": [
      "\u001b[1;36m  File \u001b[1;32m\"C:\\Users\\Playdata\\AppData\\Local\\Temp/ipykernel_11688/197773052.py\"\u001b[1;36m, line \u001b[1;32m1\u001b[0m\n\u001b[1;33m    if 'a'=='a' && 1==1:\u001b[0m\n\u001b[1;37m                 ^\u001b[0m\n\u001b[1;31mSyntaxError\u001b[0m\u001b[1;31m:\u001b[0m invalid syntax\n"
     ]
    }
   ],
   "source": [
    "if 'a'=='a' && 1==1:\n",
    "    print(True)"
   ]
  },
  {
   "cell_type": "code",
   "execution_count": 26,
   "id": "157cde23",
   "metadata": {},
   "outputs": [
    {
     "name": "stdout",
     "output_type": "stream",
     "text": [
      "True\n"
     ]
    }
   ],
   "source": [
    "if 'a'=='a' or 1==1:\n",
    "    print(True)"
   ]
  },
  {
   "cell_type": "code",
   "execution_count": 28,
   "id": "a4301794",
   "metadata": {},
   "outputs": [
    {
     "ename": "TypeError",
     "evalue": "unsupported operand type(s) for |: 'str' and 'int'",
     "output_type": "error",
     "traceback": [
      "\u001b[1;31m--------------------------------------------------------------------\u001b[0m",
      "\u001b[1;31mTypeError\u001b[0m                          Traceback (most recent call last)",
      "\u001b[1;32m~\\AppData\\Local\\Temp/ipykernel_11688/332795639.py\u001b[0m in \u001b[0;36m<module>\u001b[1;34m\u001b[0m\n\u001b[1;32m----> 1\u001b[1;33m \u001b[1;32mif\u001b[0m \u001b[1;34m'a'\u001b[0m\u001b[1;33m==\u001b[0m\u001b[1;34m'a'\u001b[0m \u001b[1;33m|\u001b[0m \u001b[1;36m1\u001b[0m\u001b[1;33m==\u001b[0m\u001b[1;36m1\u001b[0m\u001b[1;33m:\u001b[0m\u001b[1;33m\u001b[0m\u001b[1;33m\u001b[0m\u001b[0m\n\u001b[0m\u001b[0;32m      2\u001b[0m     \u001b[0mprint\u001b[0m\u001b[1;33m(\u001b[0m\u001b[1;32mTrue\u001b[0m\u001b[1;33m)\u001b[0m\u001b[1;33m\u001b[0m\u001b[1;33m\u001b[0m\u001b[0m\n",
      "\u001b[1;31mTypeError\u001b[0m: unsupported operand type(s) for |: 'str' and 'int'"
     ]
    }
   ],
   "source": [
    "if 'a'=='a' | 1==1:\n",
    "    print(True)"
   ]
  },
  {
   "cell_type": "code",
   "execution_count": 29,
   "id": "411982f6",
   "metadata": {},
   "outputs": [
    {
     "ename": "SyntaxError",
     "evalue": "invalid syntax (Temp/ipykernel_11688/4012300041.py, line 1)",
     "output_type": "error",
     "traceback": [
      "\u001b[1;36m  File \u001b[1;32m\"C:\\Users\\Playdata\\AppData\\Local\\Temp/ipykernel_11688/4012300041.py\"\u001b[1;36m, line \u001b[1;32m1\u001b[0m\n\u001b[1;33m    if 'a'=='a' || 1==1:\u001b[0m\n\u001b[1;37m                 ^\u001b[0m\n\u001b[1;31mSyntaxError\u001b[0m\u001b[1;31m:\u001b[0m invalid syntax\n"
     ]
    }
   ],
   "source": [
    "if 'a'=='a' || 1==1:\n",
    "    print(True)"
   ]
  },
  {
   "cell_type": "code",
   "execution_count": 30,
   "id": "4d2da0c9",
   "metadata": {},
   "outputs": [
    {
     "name": "stdout",
     "output_type": "stream",
     "text": [
      "True\n"
     ]
    }
   ],
   "source": [
    "# 이용광 작품\n",
    "# 각 조건식의 결과값이 명확하게 True또는 False의 값이 나오는 상태로 다음\n",
    "# 다음 조건식 수행으로 이해\n",
    "# and와 or 키워드는 () 표현없이도 조건식 별 True or False인 결과를 도출한\n",
    "# 후에 비교하기 때문에 () 포함시킨 기능으로 인지하시면 됩니다.\n",
    "\n",
    "if ('a'=='a') | (1==1):\n",
    "    print(True)"
   ]
  },
  {
   "cell_type": "code",
   "execution_count": 31,
   "id": "e26df887",
   "metadata": {},
   "outputs": [],
   "source": [
    "#? 함수명은 loginCheck()\n",
    "# id와 pw값을 parameter로 받아서 검증 후에 인증성공 또는 인증실패 반환\n",
    "# 유효한 id/pw= playdata / 11이라 가정\n",
    "\n",
    "def loginCheck(id, pw):\n",
    "    if id == 'playdata' and pw == 77:\n",
    "        return '인증성공'\n",
    "    else:\n",
    "        return '인증실패'"
   ]
  },
  {
   "cell_type": "code",
   "execution_count": 32,
   "id": "f80fd987",
   "metadata": {},
   "outputs": [
    {
     "name": "stdout",
     "output_type": "stream",
     "text": [
      "인증성공\n"
     ]
    }
   ],
   "source": [
    "print(loginCheck('playdata', 77))"
   ]
  },
  {
   "cell_type": "code",
   "execution_count": 33,
   "id": "5087eadd",
   "metadata": {},
   "outputs": [
    {
     "name": "stdout",
     "output_type": "stream",
     "text": [
      "인증실패\n"
     ]
    }
   ],
   "source": [
    "print(loginCheck('e', 77))"
   ]
  },
  {
   "cell_type": "code",
   "execution_count": 34,
   "id": "87bc601c",
   "metadata": {},
   "outputs": [
    {
     "name": "stdout",
     "output_type": "stream",
     "text": [
      "인증실패\n"
     ]
    }
   ],
   "source": [
    "print(loginCheck('playdata', 7337))"
   ]
  },
  {
   "cell_type": "code",
   "execution_count": null,
   "id": "a6050642",
   "metadata": {},
   "outputs": [],
   "source": [
    "# id값이 무효한지? pw값이 무효한지? 구분해서 검증해 주세요!!!\n",
    "# 중첩 조건문\n",
    "\n",
    "def loginCheck(id, pw):\n",
    "    if id == 'playdata' and pw == 77:\n",
    "        return 'id와 pw 모두 인증성공'\n",
    "    else:\n",
    "        return 'id만 인증실패'"
   ]
  },
  {
   "cell_type": "code",
   "execution_count": 36,
   "id": "12ddb0b7",
   "metadata": {},
   "outputs": [],
   "source": [
    "def loginCheck(id, pw):\n",
    "    if id == 'playdata':\n",
    "        if pw == 77:\n",
    "            return 'id와 pw 모두 인증성공'\n",
    "        else:\n",
    "            return 'pw가 무효 인증 실패'\n",
    "    else:\n",
    "        return 'id가 무효 인증실패'   \n",
    "    "
   ]
  },
  {
   "cell_type": "code",
   "execution_count": 38,
   "id": "e65d789c",
   "metadata": {},
   "outputs": [
    {
     "name": "stdout",
     "output_type": "stream",
     "text": [
      "id와 pw 모두 인증성공\n"
     ]
    }
   ],
   "source": [
    "print(loginCheck('playdata', 77))\n"
   ]
  },
  {
   "cell_type": "code",
   "execution_count": 39,
   "id": "5e90b23f",
   "metadata": {},
   "outputs": [
    {
     "name": "stdout",
     "output_type": "stream",
     "text": [
      "pw가 무효 인증 실패\n"
     ]
    }
   ],
   "source": [
    "print(loginCheck('playdata', 7))"
   ]
  },
  {
   "cell_type": "code",
   "execution_count": 40,
   "id": "dd6ded4e",
   "metadata": {},
   "outputs": [
    {
     "name": "stdout",
     "output_type": "stream",
     "text": [
      "id가 무효 인증실패\n"
     ]
    }
   ],
   "source": [
    "print(loginCheck('playdaeeeta', 77))"
   ]
  },
  {
   "cell_type": "code",
   "execution_count": 42,
   "id": "a19ba872",
   "metadata": {},
   "outputs": [
    {
     "name": "stdout",
     "output_type": "stream",
     "text": [
      "<class 'str'>\n"
     ]
    }
   ],
   "source": [
    "v = 'string'\n",
    "print(type(v))"
   ]
  },
  {
   "cell_type": "code",
   "execution_count": 43,
   "id": "15c926f7",
   "metadata": {},
   "outputs": [
    {
     "ename": "NameError",
     "evalue": "name 'v1' is not defined",
     "output_type": "error",
     "traceback": [
      "\u001b[1;31m--------------------------------------------------------------------\u001b[0m",
      "\u001b[1;31mNameError\u001b[0m                          Traceback (most recent call last)",
      "\u001b[1;32m~\\AppData\\Local\\Temp/ipykernel_11688/1449627480.py\u001b[0m in \u001b[0;36m<module>\u001b[1;34m\u001b[0m\n\u001b[1;32m----> 1\u001b[1;33m \u001b[0mv1\u001b[0m\u001b[1;33m\u001b[0m\u001b[1;33m\u001b[0m\u001b[0m\n\u001b[0m\u001b[0;32m      2\u001b[0m \u001b[0mprint\u001b[0m\u001b[1;33m(\u001b[0m\u001b[0mtype\u001b[0m\u001b[1;33m(\u001b[0m\u001b[0mv1\u001b[0m\u001b[1;33m)\u001b[0m\u001b[1;33m)\u001b[0m\u001b[1;33m\u001b[0m\u001b[1;33m\u001b[0m\u001b[0m\n",
      "\u001b[1;31mNameError\u001b[0m: name 'v1' is not defined"
     ]
    }
   ],
   "source": [
    "v1\n",
    "print(type(v1))"
   ]
  },
  {
   "cell_type": "markdown",
   "id": "76beb862",
   "metadata": {},
   "source": [
    "- java에서의 null - 참조하는 객체가 없음을 의미하는 \n",
    "    주소가 없다는 객체 참조 변수만의 기본값\n",
    "- java의 정수 기본값 : 0/실수 기본값 : 0.0 , char : '\\u0000', boolean : false\n",
    "        : 로컬 변수 선언시 기본값으로 초기화 권장\n",
    "        : 객체가 메모리에 생성시 각 변수들 타입에 맞게 기본값이 자동 셋팅\n",
    "    \n",
    "- db에서의 null - 어떤 값도 없음이라는 무정체성\n",
    "- python 의 None가 db의 null"
   ]
  },
  {
   "cell_type": "code",
   "execution_count": 45,
   "id": "303d3795",
   "metadata": {},
   "outputs": [
    {
     "name": "stdout",
     "output_type": "stream",
     "text": [
      "<class 'NoneType'>\n"
     ]
    }
   ],
   "source": [
    "v1 = None   # db관점에서 null로,\n",
    "print(type(v1))  # NoneType "
   ]
  },
  {
   "cell_type": "code",
   "execution_count": 48,
   "id": "d4e0f15b",
   "metadata": {},
   "outputs": [
    {
     "name": "stdout",
     "output_type": "stream",
     "text": [
      "<class 'str'>\n"
     ]
    }
   ],
   "source": [
    "v1 = ''    # length 가 0인 문자열\n",
    "print(type(v1))"
   ]
  },
  {
   "cell_type": "code",
   "execution_count": 49,
   "id": "2d97f8a0",
   "metadata": {},
   "outputs": [
    {
     "name": "stdout",
     "output_type": "stream",
     "text": [
      "False\n"
     ]
    }
   ],
   "source": [
    "if v1: # length 가 0인 문자열이 조건식으로 표현이 가능?\n",
    "    print(True)\n",
    "else:\n",
    "    print(False)"
   ]
  },
  {
   "cell_type": "code",
   "execution_count": 50,
   "id": "2067787c",
   "metadata": {},
   "outputs": [
    {
     "name": "stdout",
     "output_type": "stream",
     "text": [
      "<class 'str'>\n",
      "True\n"
     ]
    }
   ],
   "source": [
    "v1 = 'ste'    # length 가 0인 문자열\n",
    "print(type(v1))\n",
    "\n",
    "if v1: \n",
    "    print(True)\n",
    "else:\n",
    "    print(False)"
   ]
  },
  {
   "cell_type": "code",
   "execution_count": 51,
   "id": "6ee6ce62",
   "metadata": {},
   "outputs": [
    {
     "name": "stdout",
     "output_type": "stream",
     "text": [
      "False\n"
     ]
    }
   ],
   "source": [
    "if None: \n",
    "    print(True)\n",
    "else:\n",
    "    print(False)"
   ]
  },
  {
   "cell_type": "code",
   "execution_count": null,
   "id": "e24e47cd",
   "metadata": {},
   "outputs": [],
   "source": []
  }
 ],
 "metadata": {
  "kernelspec": {
   "display_name": "Python 3 (ipykernel)",
   "language": "python",
   "name": "python3"
  },
  "language_info": {
   "codemirror_mode": {
    "name": "ipython",
    "version": 3
   },
   "file_extension": ".py",
   "mimetype": "text/x-python",
   "name": "python",
   "nbconvert_exporter": "python",
   "pygments_lexer": "ipython3",
   "version": "3.9.7"
  },
  "toc": {
   "base_numbering": 1,
   "nav_menu": {},
   "number_sections": true,
   "sideBar": true,
   "skip_h1_title": false,
   "title_cell": "Table of Contents",
   "title_sidebar": "Contents",
   "toc_cell": false,
   "toc_position": {},
   "toc_section_display": true,
   "toc_window_display": false
  }
 },
 "nbformat": 4,
 "nbformat_minor": 5
}
