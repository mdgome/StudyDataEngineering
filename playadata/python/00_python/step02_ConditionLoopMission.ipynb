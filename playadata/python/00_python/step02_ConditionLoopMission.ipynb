{
 "cells": [
  {
   "cell_type": "markdown",
   "id": "09258294",
   "metadata": {},
   "source": [
    "**미션1. 윤년  프로그램을 통한 연산자 및 조건식 이해하기**\n",
    "\n",
    "- 4로 나누어 떨어지는 년도 : 값 % 4이 0    \n",
    "- 그 중 100으로 나누어 떨어지는 년도는 윤년이 아님 : 값 % 100 의 0과 비교\n",
    "- 400으로 나누어 떨어지는 년도는 무조건 윤년 : 1+2 또는 3번째 조건식 비교( 값 % 400와 0 비교)"
   ]
  },
  {
   "cell_type": "code",
   "execution_count": 9,
   "id": "43d45396",
   "metadata": {},
   "outputs": [
    {
     "name": "stdout",
     "output_type": "stream",
     "text": [
      "윤년\n",
      "윤년 아님\n",
      "윤년\n",
      "윤년\n"
     ]
    }
   ],
   "source": [
    "def leap_year(year_str):\n",
    "    if(((year_str % 400) == 0) or ( ((year_str % 4)== 0) and ((year_str % 100) != 0))):\n",
    "        return \"윤년\"\n",
    "    else :\n",
    "        return \"윤년 아님\"\n",
    "print(leap_year(2000))\n",
    "print(leap_year(2002))\n",
    "print(leap_year(400))\n",
    "print(leap_year(404))"
   ]
  },
  {
   "cell_type": "markdown",
   "id": "8d961764",
   "metadata": {},
   "source": [
    "**미션2. 문자열의 중간 문자를 추출해 보기**\n",
    "\n",
    "실시간 입력되는 문자열의 중앙에 있는 문자를 출력한다. 예를 들어서 문자열이 \"weekday\"이라면 중앙의 문자는 \"k\"가 된다.\n",
    "\n",
    "하지만 만약 문자열이 짝수개의(test) 문자를 가지고 있다면 중앙의 2개의 글자를 출력한다.\n",
    "\n",
    "예를 들어서 \"string\" 문자열에서는 \"ri\"를 반환한다. "
   ]
  },
  {
   "cell_type": "code",
   "execution_count": 2,
   "id": "3db9f07d",
   "metadata": {},
   "outputs": [],
   "source": [
    "def middle_char(input_str):\n",
    "    str_cnt = len(input_str)\n",
    "    if (str_cnt % 2) == 0:\n",
    "        return input_str[str_cnt//2] + input_str[str_cnt//2+1]\n",
    "    else:\n",
    "        return input_str[str_cnt//2]"
   ]
  },
  {
   "cell_type": "code",
   "execution_count": 3,
   "id": "0a537929",
   "metadata": {},
   "outputs": [
    {
     "name": "stdout",
     "output_type": "stream",
     "text": [
      "k\n",
      "in\n"
     ]
    }
   ],
   "source": [
    "print(middle_char(\"weekday\"))\n",
    "print(middle_char(\"string\"))"
   ]
  },
  {
   "cell_type": "markdown",
   "id": "9e4dd276",
   "metadata": {},
   "source": [
    "**미션3. 숫자로 pyramid 만들기**\n",
    "\n",
    "- 중첩 for문과 range() 함수 활용\n",
    "- 함수로 구현"
   ]
  },
  {
   "cell_type": "code",
   "execution_count": 4,
   "id": "366842a7",
   "metadata": {},
   "outputs": [],
   "source": [
    "def pyramid(n):\n",
    "    for i in range(1, n+1):\n",
    "        print(\" \"*(n-i), \"*\"*(2*i-1))"
   ]
  },
  {
   "cell_type": "code",
   "execution_count": 5,
   "id": "bc9aecef",
   "metadata": {},
   "outputs": [
    {
     "name": "stdout",
     "output_type": "stream",
     "text": [
      "   *\n",
      "  ***\n",
      " *****\n",
      "\n",
      "     *\n",
      "    ***\n",
      "   *****\n",
      "  *******\n",
      " *********\n"
     ]
    }
   ],
   "source": [
    "pyramid(3)\n",
    "print()\n",
    "pyramid(5)"
   ]
  },
  {
   "cell_type": "markdown",
   "id": "023a7908",
   "metadata": {},
   "source": [
    "**미션4. 계좌번호 처리하기**\n",
    "\n",
    "- 인터넷 뱅킹을 사용하다보면 계좌번호를 입력할 때, \"312-02-1234567\"과 사용자로부터 \"-\"가 포함된 계좌 번호를 받아서 \"-\"을 삭제한 문자열을 만들어보자. \n"
   ]
  },
  {
   "cell_type": "code",
   "execution_count": 6,
   "id": "f287e8ce",
   "metadata": {},
   "outputs": [
    {
     "name": "stdout",
     "output_type": "stream",
     "text": [
      "312021234567\n",
      "110356203524\n"
     ]
    }
   ],
   "source": [
    "def account_number_split(account_number):\n",
    "    return_value = \"\"\n",
    "    for i in account_number.split('-'):\n",
    "        return_value += i\n",
    "    return return_value\n",
    "\n",
    "print(account_number_split(\"312-02-1234567\"))\n",
    "print(account_number_split(\"110-356-203524\"))"
   ]
  },
  {
   "cell_type": "markdown",
   "id": "c8a35b0d",
   "metadata": {},
   "source": [
    "**미션5. 알파벳, 숫자, 스페이스의 처리**\n",
    "\n",
    "- 문자열을 조사하여서 알파벳 문자의 개수, 숫자의 개수, 스페이스의 개수를 출력하는 프로그램을 작성하라\n",
    "\n",
    "- 힌트 : isalpha() / isdigit() / isspace()"
   ]
  },
  {
   "cell_type": "code",
   "execution_count": 7,
   "id": "2f57933a",
   "metadata": {},
   "outputs": [
    {
     "name": "stdout",
     "output_type": "stream",
     "text": [
      "알파벳 개수: 13\t숫자 개수: 6\t스페이스 개수: 4\n",
      "알파벳 개수: 4\t숫자 개수: 9\t스페이스 개수: 2\n"
     ]
    }
   ],
   "source": [
    "def cnt_str(string):\n",
    "    alpha_cnt = 0\n",
    "    digit_cnt = 0\n",
    "    space_cnt = 0\n",
    "    for element in string:\n",
    "        if(element.isalpha()):\n",
    "            alpha_cnt+=1\n",
    "        elif(element.isdigit()):\n",
    "            digit_cnt+=1\n",
    "        elif(element.isspace()):\n",
    "            space_cnt+=1\n",
    "    print(\"알파벳 개수: {alpha_cnt}\\t숫자 개수: {digit_cnt}\\t스페이스 개수: {space_cnt}\".format(alpha_cnt=alpha_cnt,digit_cnt=digit_cnt,space_cnt=space_cnt))\n",
    "    print(\"알파벳 개수: \"+alpha_cnt+\"\\t숫자 개수: \"+digit_cnt+\"\\t스페이스 개수: \"+space_cnt)\n",
    "cnt_str(\"aldkfob213tvn  120 baf \")\n",
    "cnt_str(\"  123456789abcd\")"
   ]
  }
 ],
 "metadata": {
  "kernelspec": {
   "display_name": "env01",
   "language": "python",
   "name": "env01"
  },
  "language_info": {
   "codemirror_mode": {
    "name": "ipython",
    "version": 3
   },
   "file_extension": ".py",
   "mimetype": "text/x-python",
   "name": "python",
   "nbconvert_exporter": "python",
   "pygments_lexer": "ipython3",
   "version": "3.6.13"
  },
  "toc": {
   "base_numbering": 1,
   "nav_menu": {},
   "number_sections": true,
   "sideBar": true,
   "skip_h1_title": false,
   "title_cell": "Table of Contents",
   "title_sidebar": "Contents",
   "toc_cell": false,
   "toc_position": {},
   "toc_section_display": true,
   "toc_window_display": false
  }
 },
 "nbformat": 4,
 "nbformat_minor": 5
}
