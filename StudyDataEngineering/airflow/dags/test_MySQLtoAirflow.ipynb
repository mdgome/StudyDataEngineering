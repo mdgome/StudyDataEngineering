{
 "cells": [
  {
   "cell_type": "code",
   "execution_count": 82,
   "id": "4e65cd5f-2225-42ac-b941-f13b5218e11d",
   "metadata": {},
   "outputs": [],
   "source": [
    "import sys"
   ]
  },
  {
   "cell_type": "code",
   "execution_count": 83,
   "id": "49260b6e-1264-45e3-9e51-f722170c3cda",
   "metadata": {},
   "outputs": [
    {
     "name": "stdout",
     "output_type": "stream",
     "text": [
      "Collecting package metadata (current_repodata.json): done\n",
      "Solving environment: done\n",
      "\n",
      "# All requested packages already installed.\n",
      "\n",
      "Collecting package metadata (current_repodata.json): done\n",
      "Solving environment: done\n",
      "\n",
      "# All requested packages already installed.\n",
      "\n",
      "Collecting package metadata (current_repodata.json): done\n",
      "Solving environment: done\n",
      "\n",
      "# All requested packages already installed.\n",
      "\n"
     ]
    }
   ],
   "source": [
    "!conda install -c conda-forge -y --prefix {sys.prefix} pandas\n",
    "!conda install -c conda-forge -y --prefix {sys.prefix} sqlalchemy\n",
    "!conda install -c conda-forge -y --prefix {sys.prefix} pymysql\n",
    "#!conda install -c conda-forge -y airflow=2.1.4\n",
    "#!conda install -c conda-froge -y --file \"https://raw.githubusercontent.com/apache/airflow/constraints-2.1.4/constraints-3.7.txt\""
   ]
  },
  {
   "cell_type": "code",
   "execution_count": 93,
   "id": "226d62ca",
   "metadata": {},
   "outputs": [],
   "source": [
    "#import mysql.connector\n",
    "import logging\n",
    "import pymysql\n",
    "#from airflow import DAG\n",
    "#from airflow.operators.python import PythonOperator\n",
    "from datetime import datetime\n",
    "import pandas as pd\n",
    "from sqlalchemy import create_engine\n",
    "from pathlib import Path"
   ]
  },
  {
   "cell_type": "code",
   "execution_count": 97,
   "id": "1906a1d1-a275-42fc-afc3-3fce183b8283",
   "metadata": {},
   "outputs": [],
   "source": [
    "host = \"ec2-15-164-164-229.ap-northeast-2.compute.amazonaws.com\"\n",
    "user = \"mdgome\"  # 본인 ID 사용\n",
    "password = \"Rlawjdals1!\"  # 본인 Password 사용\n",
    "port = 3306\n",
    "dbname = \"airflow\"\n",
    "charset='utf8'\n",
    "encoding='utf-8'\n",
    "mysql_url = \"mysql+pymysql://{user}:{password}@{host}:{port}/{dbname}?{charset}\".format(user=user,password=password,host=host,port=port,dbname=dbname,charset=charset)\n",
    "engine = create_engine(mysql_url, encoding=encoding)\n",
    "conn = engine.connect()\n",
    "sql = \"select name,email from member;\"\n",
    "\n",
    "\n",
    "now_date = datetime.now().strftime('%Y-%m-%d_%H.%M')"
   ]
  },
  {
   "cell_type": "code",
   "execution_count": 98,
   "id": "0325678e-aba7-41e7-843d-c9edc8dfc412",
   "metadata": {},
   "outputs": [],
   "source": [
    "result = pd.read_sql_query(sql, engine)"
   ]
  },
  {
   "cell_type": "code",
   "execution_count": 99,
   "id": "143641fe-7224-4032-8622-798d3d798e77",
   "metadata": {},
   "outputs": [
    {
     "name": "stdout",
     "output_type": "stream",
     "text": [
      "  name            email\n",
      "0  김유신  kys@example.com\n",
      "1  홍길동  hgd@example.com\n",
      "2  장영실  jys@example.com\n"
     ]
    }
   ],
   "source": [
    "print(result.head())"
   ]
  },
  {
   "cell_type": "code",
   "execution_count": 90,
   "id": "1dd04ae5-fced-4b9a-ab3f-820064d6b1cd",
   "metadata": {},
   "outputs": [],
   "source": [
    "mkdirPath = Path(\"./data/mysqlData\")\n",
    "#mkdirPath"
   ]
  },
  {
   "cell_type": "code",
   "execution_count": 91,
   "id": "92e4cd7a-1df9-4d2a-b671-50fb52a965aa",
   "metadata": {},
   "outputs": [],
   "source": [
    "mkdirPath.mkdir(parents=True, exist_ok=True)"
   ]
  },
  {
   "cell_type": "code",
   "execution_count": 92,
   "id": "7d2a0c1a-7a89-4b49-a6f1-797396cb2db8",
   "metadata": {},
   "outputs": [],
   "source": [
    "sql = \"select user,email from member;\"\n",
    "\n",
    "now_date = datetime.now().strftime('%Y.%m.%d.%H.%M')\n",
    "file_name = now_date+\"_output.csv\"\n",
    "result.to_csv(mkdirPath/file_name,index=False)"
   ]
  },
  {
   "cell_type": "code",
   "execution_count": null,
   "id": "38bd7b71-afcd-40e6-9c88-646c99e8eb18",
   "metadata": {},
   "outputs": [],
   "source": []
  }
 ],
 "metadata": {
  "kernelspec": {
   "display_name": "studyETL",
   "language": "python",
   "name": "studyetl"
  },
  "language_info": {
   "codemirror_mode": {
    "name": "ipython",
    "version": 3
   },
   "file_extension": ".py",
   "mimetype": "text/x-python",
   "name": "python",
   "nbconvert_exporter": "python",
   "pygments_lexer": "ipython3",
   "version": "3.9.7"
  }
 },
 "nbformat": 4,
 "nbformat_minor": 5
}
