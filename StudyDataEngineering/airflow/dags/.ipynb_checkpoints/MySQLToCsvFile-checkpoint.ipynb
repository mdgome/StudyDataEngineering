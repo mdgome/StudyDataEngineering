{
 "cells": [
  {
   "cell_type": "code",
   "execution_count": 241,
   "id": "2fca2479-e0cb-45e8-b34c-adfce5617fd7",
   "metadata": {},
   "outputs": [],
   "source": [
    "# import general package\n",
    "from datetime import datetime\n",
    "import logging\n",
    "import sys\n",
    "# import Transform\n",
    "import pandas as pd\n",
    "from pandas import DataFrame\n",
    "# import mysql.connector\n",
    "from sqlalchemy import create_engine\n",
    "import pymysql\n",
    "# import airflow package\n",
    "# from airflow import DAG\n",
    "# from airflow.operators.python import PythonOperator"
   ]
  },
  {
   "cell_type": "code",
   "execution_count": 242,
   "id": "20703226-859a-4132-b33c-a87a1a975288",
   "metadata": {},
   "outputs": [
    {
     "name": "stdout",
     "output_type": "stream",
     "text": [
      "Collecting package metadata (current_repodata.json): done\n",
      "Solving environment: done\n",
      "\n",
      "# All requested packages already installed.\n",
      "\n",
      "Collecting package metadata (current_repodata.json): done\n",
      "Solving environment: done\n",
      "\n",
      "# All requested packages already installed.\n",
      "\n",
      "Collecting package metadata (current_repodata.json): done\n",
      "Solving environment: done\n",
      "\n",
      "# All requested packages already installed.\n",
      "\n",
      "Collecting package metadata (current_repodata.json): done\n",
      "Solving environment: done\n",
      "\n",
      "# All requested packages already installed.\n",
      "\n"
     ]
    }
   ],
   "source": [
    "!conda install -c conda-forge -y --prefix {sys.prefix} pandas\n",
    "!conda install -c conda-forge -y --prefix {sys.prefix} sqlalchemy\n",
    "!conda install -c conda-forge -y --prefix {sys.prefix} pymysql\n",
    "!conda install -c conda-forge -y --prefix {sys.prefix} ipython-sql"
   ]
  },
  {
   "cell_type": "code",
   "execution_count": 279,
   "id": "70697ebc-5e9f-4753-acda-52e9a4a7c329",
   "metadata": {},
   "outputs": [],
   "source": [
    "def _get_MySQL_Connection():\n",
    "    import os\n",
    "    sys.path.append(os.getcwd())\n",
    "    #from mydb_credentials import aws_mysql_ec2_study_Driver\n",
    "\n",
    "    host = \"ec2-15-164-164-229.ap-northeast-2.compute.amazonaws.com\"\n",
    "    user = \"mdgome\"  # 본인 ID 사용\n",
    "    password = \"Rlawjdals1!\"  # 본인 Password 사용\n",
    "    port = 3306\n",
    "    dbname = \"airflow\"\n",
    "    charset='utf8'\n",
    "    encoding='utf-8'\n",
    "    # user = aws_mysql_ec2_study_Driver['user']\n",
    "    # password = aws_mysql_ec2_study_Driver['password']\n",
    "    # host = aws_mysql_ec2_study_Driver['host']\n",
    "    # port = aws_mysql_ec2_study_Driver['port']\n",
    "    # dbname = aws_mysql_ec2_study_Driver['dbname']\n",
    "    # charset = aws_mysql_ec2_study_Driver['charset']\n",
    "\n",
    "    try:\n",
    "        conn = pymysql.connect(\n",
    "            host=host,\n",
    "            port=port,\n",
    "            user=user,\n",
    "            password=password,\n",
    "            db=dbname,\n",
    "            charset=charset\n",
    "        )\n",
    "        logging.info('DB Connect : ',datetime.now().strftime('%Y.%m.%d.%H.%M') )\n",
    "        return conn.cursor()\n",
    "    except Exception as e:\n",
    "        logging.error('DB Connect Error : ',datetime.now().strftime('%Y.%m.%d.%H.%M') )\n",
    "        logging.error(e.message)\n",
    "        sys.exit(5)\n",
    "#        session.rollback()\n",
    "    #connection_string"
   ]
  },
  {
   "cell_type": "code",
   "execution_count": 297,
   "id": "e27c6d88-7616-4feb-b6c9-1b849cb7df24",
   "metadata": {},
   "outputs": [],
   "source": [
    "def DataToCSV(df):\n",
    "    import os\n",
    "    \n",
    "    path = os.getcwd()\n",
    "    mkdirPath = path + \"/data/mysqlData\"\n",
    "    if not os.path.exists(mkdirPath):\n",
    "        os.mkdir(mkdirPath)\n",
    "    \n",
    "    now_date = datetime.now().strftime('%Y.%m.%d.%H.%M')\n",
    "    file_name = now_date+\"_output.csv\"\n",
    "    \n",
    "    output_file = mkdirPath+\"/\"+file_name\n",
    "    \n",
    "    df.to_csv(output_file,index=False)\n",
    "    \n",
    "    if os.path.isfile(output_file) :\n",
    "        logging.info('File Created: ', output_file)"
   ]
  },
  {
   "cell_type": "code",
   "execution_count": 298,
   "id": "ba0cf2c1",
   "metadata": {},
   "outputs": [],
   "source": [
    "def load():\n",
    "    cur = _get_MySQL_Connection()\n",
    "    sql = \"select name, email from member;\"\n",
    "    cur.execute(sql)\n",
    "    result = cur.fetchall()\n",
    "    df = DataFrame(result)    \n",
    "    \n",
    "    return df"
   ]
  },
  {
   "cell_type": "code",
   "execution_count": 299,
   "id": "f8d8f630-5834-4c24-872f-1bf7482c2212",
   "metadata": {},
   "outputs": [],
   "source": [
    "def etl():\n",
    "    df = load()\n",
    "    DataToCSV(df)"
   ]
  },
  {
   "cell_type": "code",
   "execution_count": 300,
   "id": "cdcefe07-5ff4-4b24-8da1-1a0283a2f4d0",
   "metadata": {},
   "outputs": [
    {
     "name": "stdout",
     "output_type": "stream",
     "text": [
      "1\n"
     ]
    }
   ],
   "source": [
    "etl()"
   ]
  },
  {
   "cell_type": "code",
   "execution_count": 239,
   "id": "447052b8-11cc-4d11-878b-a53ade81708b",
   "metadata": {},
   "outputs": [
    {
     "ename": "NameError",
     "evalue": "name 'DAG' is not defined",
     "output_type": "error",
     "traceback": [
      "\u001b[0;31m---------------------------------------------------------------------------\u001b[0m",
      "\u001b[0;31mNameError\u001b[0m                                 Traceback (most recent call last)",
      "Input \u001b[0;32mIn [239]\u001b[0m, in \u001b[0;36m<module>\u001b[0;34m\u001b[0m\n\u001b[0;32m----> 1\u001b[0m dag_second_assingnment \u001b[38;5;241m=\u001b[39m \u001b[43mDAG\u001b[49m(\n\u001b[1;32m      2\u001b[0m     dag_id\u001b[38;5;241m=\u001b[39m\u001b[38;5;124m'\u001b[39m\u001b[38;5;124msecond_assingnment\u001b[39m\u001b[38;5;124m'\u001b[39m,\n\u001b[1;32m      3\u001b[0m     catchup \u001b[38;5;241m=\u001b[39m \u001b[38;5;28;01mFalse\u001b[39;00m,\n\u001b[1;32m      4\u001b[0m     start_date \u001b[38;5;241m=\u001b[39m datetime(\u001b[38;5;241m2022\u001b[39m,\u001b[38;5;241m1\u001b[39m,\u001b[38;5;241m10\u001b[39m),\n\u001b[1;32m      5\u001b[0m     schedule_interval \u001b[38;5;241m=\u001b[39m \u001b[38;5;124m'\u001b[39m\u001b[38;5;124m0 20 * * *\u001b[39m\u001b[38;5;124m'\u001b[39m\n\u001b[1;32m      6\u001b[0m )\n",
      "\u001b[0;31mNameError\u001b[0m: name 'DAG' is not defined"
     ]
    }
   ],
   "source": [
    "dag_second_assingnment = DAG(\n",
    "    dag_id='MySQLToCsvFile',\n",
    "    catchup = False,\n",
    "    start_date = datetime(2022,1,10),\n",
    "    schedule_interval = '0 20 * * *'\n",
    ")"
   ]
  },
  {
   "cell_type": "code",
   "execution_count": null,
   "id": "3be89739-35da-4976-b9ac-c53095c3d32d",
   "metadata": {},
   "outputs": [],
   "source": [
    "task = PythonOperator(\n",
    "    task_id = 'MySQLTOCsv',\n",
    "    python_callable = etl,\n",
    "    dag = dag_second_assingnment\n",
    ")"
   ]
  }
 ],
 "metadata": {
  "kernelspec": {
   "display_name": "studyETL",
   "language": "python",
   "name": "studyetl"
  },
  "language_info": {
   "codemirror_mode": {
    "name": "ipython",
    "version": 3
   },
   "file_extension": ".py",
   "mimetype": "text/x-python",
   "name": "python",
   "nbconvert_exporter": "python",
   "pygments_lexer": "ipython3",
   "version": "3.9.7"
  }
 },
 "nbformat": 4,
 "nbformat_minor": 5
}
