{
 "cells": [
  {
   "cell_type": "code",
   "execution_count": 28,
   "id": "4e65cd5f-2225-42ac-b941-f13b5218e11d",
   "metadata": {},
   "outputs": [],
   "source": [
    "import sys\n",
    "#!echo {sys.prefix}\n",
    "#!echo {sys.executable}\n",
    "#!echo {sys.path}\n",
    "#!type type\n",
    "#!jupyter kernelspec list"
   ]
  },
  {
   "cell_type": "code",
   "execution_count": 29,
   "id": "49260b6e-1264-45e3-9e51-f722170c3cda",
   "metadata": {},
   "outputs": [
    {
     "name": "stdout",
     "output_type": "stream",
     "text": [
      "Collecting package metadata (current_repodata.json): done\n",
      "Solving environment: done\n",
      "\n",
      "# All requested packages already installed.\n",
      "\n",
      "Collecting package metadata (current_repodata.json): done\n",
      "Solving environment: done\n",
      "\n",
      "# All requested packages already installed.\n",
      "\n",
      "Collecting package metadata (current_repodata.json): done\n",
      "Solving environment: done\n",
      "\n",
      "# All requested packages already installed.\n",
      "\n"
     ]
    }
   ],
   "source": [
    "!conda install -c conda-forge -y --prefix {sys.prefix} pandas\n",
    "!conda install -c conda-forge -y --prefix {sys.prefix} sqlalchemy\n",
    "!conda install -c conda-forge -y --prefix {sys.prefix} pymysql\n",
    "#!conda install -c conda-forge -y mysql-pythonin\n",
    "#!conda install -c conda-forge -y airflow=2.1.4\n",
    "#!conda install -c conda-froge -y --file \"https://raw.githubusercontent.com/apache/airflow/constraints-2.1.4/constraints-3.7.txt\""
   ]
  },
  {
   "cell_type": "code",
   "execution_count": 45,
   "id": "226d62ca",
   "metadata": {},
   "outputs": [],
   "source": [
    "#import mysql.connector\n",
    "import logging\n",
    "import pymysql\n",
    "#from airflow import DAG\n",
    "#from airflow.operators.python import PythonOperator\n",
    "from datetime import datetime\n",
    "import logging\n",
    "import pandas as pd\n",
    "from sqlalchemy import create_engine\n",
    "import os\n",
    "from pathlib import Path"
   ]
  },
  {
   "cell_type": "code",
   "execution_count": 46,
   "id": "1906a1d1-a275-42fc-afc3-3fce183b8283",
   "metadata": {},
   "outputs": [],
   "source": [
    "host = \"ec2-15-164-164-229.ap-northeast-2.compute.amazonaws.com\"\n",
    "user = \"mdgome\"  # 본인 ID 사용\n",
    "password = \"Rlawjdals1!\"  # 본인 Password 사용\n",
    "port = 3306\n",
    "dbname = \"airflow\"\n",
    "charset='utf8'\n",
    "encoding='utf-8'\n",
    "#conn = mysql.connector.connect(\"host={host},port={port}, database={dbname}, user={user},password={password}, charset={charset}\")\n",
    "mysql_url = \"mysql+pymysql://{user}:{password}@{host}:{port}/{dbname}?{charset}\".format(user=user,password=password,host=host,port=port,dbname=dbname,charset=charset)\n",
    "#pymysql.install_as_MySQLdb()\n",
    "#import MySQLdb\n",
    "engine = create_engine(mysql_url, encoding=encoding)\n",
    "conn = engine.connect()\n",
    "sql = \"select name,email from member;\"\n",
    "\n",
    "\n",
    "now_date = datetime.now().strftime('%Y-%m-%d_%H.%M')"
   ]
  },
  {
   "cell_type": "code",
   "execution_count": 47,
   "id": "0325678e-aba7-41e7-843d-c9edc8dfc412",
   "metadata": {},
   "outputs": [],
   "source": [
    "result = pd.read_sql_query(sql, engine)"
   ]
  },
  {
   "cell_type": "code",
   "execution_count": 48,
   "id": "143641fe-7224-4032-8622-798d3d798e77",
   "metadata": {},
   "outputs": [
    {
     "name": "stdout",
     "output_type": "stream",
     "text": [
      "  name            email\n",
      "0  김유신  kys@example.com\n",
      "1  홍길동  hgd@example.com\n",
      "2  장영실  jys@example.com\n"
     ]
    }
   ],
   "source": [
    "print(result.head())"
   ]
  },
  {
   "cell_type": "code",
   "execution_count": 49,
   "id": "1dd04ae5-fced-4b9a-ab3f-820064d6b1cd",
   "metadata": {},
   "outputs": [
    {
     "data": {
      "text/plain": [
       "PosixPath('data/mysqlData')"
      ]
     },
     "execution_count": 49,
     "metadata": {},
     "output_type": "execute_result"
    }
   ],
   "source": [
    "mkdirPath = Path(\"./data/mysqlData\")\n",
    "#mkdirPath"
   ]
  },
  {
   "cell_type": "code",
   "execution_count": 34,
   "id": "7d2a0c1a-7a89-4b49-a6f1-797396cb2db8",
   "metadata": {},
   "outputs": [
    {
     "ename": "NameError",
     "evalue": "name 'pandas' is not defined",
     "output_type": "error",
     "traceback": [
      "\u001b[0;31m---------------------------------------------------------------------------\u001b[0m",
      "\u001b[0;31mNameError\u001b[0m                                 Traceback (most recent call last)",
      "Input \u001b[0;32mIn [34]\u001b[0m, in \u001b[0;36m<module>\u001b[0;34m\u001b[0m\n\u001b[1;32m      1\u001b[0m sql \u001b[38;5;241m=\u001b[39m \u001b[38;5;124m\"\u001b[39m\u001b[38;5;124mselect user,email from member;\u001b[39m\u001b[38;5;124m\"\u001b[39m\n\u001b[0;32m----> 3\u001b[0m result \u001b[38;5;241m=\u001b[39m \u001b[43mpandas\u001b[49m\u001b[38;5;241m.\u001b[39mread_sql_query(sql, conn)\n\u001b[1;32m      4\u001b[0m now_date \u001b[38;5;241m=\u001b[39m datetime\u001b[38;5;241m.\u001b[39mnow()\u001b[38;5;241m.\u001b[39mstrftime(\u001b[38;5;124m'\u001b[39m\u001b[38;5;124m%\u001b[39m\u001b[38;5;124mY.\u001b[39m\u001b[38;5;124m%\u001b[39m\u001b[38;5;124mm.\u001b[39m\u001b[38;5;132;01m%d\u001b[39;00m\u001b[38;5;124m.\u001b[39m\u001b[38;5;124m%\u001b[39m\u001b[38;5;124mH.\u001b[39m\u001b[38;5;124m%\u001b[39m\u001b[38;5;124mM\u001b[39m\u001b[38;5;124m'\u001b[39m)\n\u001b[1;32m      5\u001b[0m file_name \u001b[38;5;241m=\u001b[39m \u001b[38;5;124m\"\u001b[39m\u001b[38;5;124mr\u001b[39m\u001b[38;5;124m'\u001b[39m\u001b[38;5;124m\"\u001b[39m\u001b[38;5;241m+\u001b[39mnow_date\u001b[38;5;241m+\u001b[39m\u001b[38;5;124m\"\u001b[39m\u001b[38;5;124moutput.csv\u001b[39m\u001b[38;5;124m'\u001b[39m\u001b[38;5;124m\"\u001b[39m\n",
      "\u001b[0;31mNameError\u001b[0m: name 'pandas' is not defined"
     ]
    }
   ],
   "source": [
    "sql = \"select user,email from member;\"\n",
    "\n",
    "result = pandas.read_sql_query(sql, conn)\n",
    "now_date = datetime.now().strftime('%Y.%m.%d.%H.%M')\n",
    "file_name = \"r'\"+now_date+\"output.csv'\"\n",
    "result.to_csv(file_name,index=False)"
   ]
  },
  {
   "cell_type": "code",
   "execution_count": 42,
   "id": "99ec298c",
   "metadata": {},
   "outputs": [],
   "source": []
  },
  {
   "cell_type": "code",
   "execution_count": 36,
   "id": "82a0815f-5538-47fb-bc9e-4a298337fbfb",
   "metadata": {},
   "outputs": [
    {
     "data": {
      "text/plain": [
       "'/Users/mdgome/WorkSpace/Study/study_ETL/studyForplaydata/StudyDataEngineering/airflow/dags'"
      ]
     },
     "execution_count": 36,
     "metadata": {},
     "output_type": "execute_result"
    }
   ],
   "source": [
    "os.getcwd()"
   ]
  },
  {
   "cell_type": "code",
   "execution_count": 43,
   "id": "97735a72-13d9-42df-9c1d-eb86187e6521",
   "metadata": {},
   "outputs": [
    {
     "data": {
      "text/plain": [
       "PosixPath('data/mysqlData')"
      ]
     },
     "execution_count": 43,
     "metadata": {},
     "output_type": "execute_result"
    }
   ],
   "source": []
  },
  {
   "cell_type": "code",
   "execution_count": 44,
   "id": "bdb34e49-d97a-430b-8645-3b232d914635",
   "metadata": {},
   "outputs": [],
   "source": [
    "mkdirPath.mkdir(parents=True, exist_ok=True)"
   ]
  },
  {
   "cell_type": "code",
   "execution_count": null,
   "id": "628f1c06-f38b-4c53-89d3-35da3d16422b",
   "metadata": {},
   "outputs": [],
   "source": []
  }
 ],
 "metadata": {
  "kernelspec": {
   "display_name": "studyETL",
   "language": "python",
   "name": "studyetl"
  },
  "language_info": {
   "codemirror_mode": {
    "name": "ipython",
    "version": 3
   },
   "file_extension": ".py",
   "mimetype": "text/x-python",
   "name": "python",
   "nbconvert_exporter": "python",
   "pygments_lexer": "ipython3",
   "version": "3.9.7"
  }
 },
 "nbformat": 4,
 "nbformat_minor": 5
}
