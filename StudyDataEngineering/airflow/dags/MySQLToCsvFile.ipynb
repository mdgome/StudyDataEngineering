{
 "cells": [
  {
   "cell_type": "code",
   "execution_count": 1,
   "id": "2fca2479-e0cb-45e8-b34c-adfce5617fd7",
   "metadata": {},
   "outputs": [],
   "source": [
    "# general package\n",
    "from datetime import datetime\n",
    "import logging\n",
    "import sys\n",
    "# Transform\n",
    "import pandas as pd\n",
    "from pandas import DataFrame\n",
    "# mysql.connector\n",
    "import pymysql\n",
    "# airflow package\n",
    "# from airflow import DAG\n",
    "# from airflow.operators.python import PythonOperator"
   ]
  },
  {
   "cell_type": "code",
   "execution_count": 242,
   "id": "20703226-859a-4132-b33c-a87a1a975288",
   "metadata": {},
   "outputs": [
    {
     "name": "stdout",
     "output_type": "stream",
     "text": [
      "Collecting package metadata (current_repodata.json): done\n",
      "Solving environment: done\n",
      "\n",
      "# All requested packages already installed.\n",
      "\n",
      "Collecting package metadata (current_repodata.json): done\n",
      "Solving environment: done\n",
      "\n",
      "# All requested packages already installed.\n",
      "\n",
      "Collecting package metadata (current_repodata.json): done\n",
      "Solving environment: done\n",
      "\n",
      "# All requested packages already installed.\n",
      "\n",
      "Collecting package metadata (current_repodata.json): done\n",
      "Solving environment: done\n",
      "\n",
      "# All requested packages already installed.\n",
      "\n"
     ]
    }
   ],
   "source": [
    "# !conda install -c conda-forge -y --prefix {sys.prefix} pandas\n",
    "# !conda install -c conda-forge -y --prefix {sys.prefix} sqlalchemy\n",
    "# !conda install -c conda-forge -y --prefix {sys.prefix} pymysql\n",
    "# !conda install -c conda-forge -y --prefix {sys.prefix} ipython-sql"
   ]
  },
  {
   "cell_type": "code",
   "execution_count": 2,
   "id": "70697ebc-5e9f-4753-acda-52e9a4a7c329",
   "metadata": {},
   "outputs": [],
   "source": [
    "def _get_MySQL_Connection():\n",
    "    import os\n",
    "    import configparser\n",
    "    from pathlib import Path\n",
    "    sys.path.append(os.getcwd())\n",
    "    \n",
    "    config = configparser.ConfigParser()\n",
    "    config.read(Path(\"./config/config.ini\"),encoding='utf-8')\n",
    "\n",
    "    user = config['aws_ec2_mysql']['user']\n",
    "    password = config['aws_ec2_mysql']['password']\n",
    "    host = config['aws_ec2_mysql']['host']\n",
    "    port = config['aws_ec2_mysql']['port']\n",
    "    dbname = config['aws_ec2_mysql']['dbname']\n",
    "    charset = config['aws_ec2_mysql']['charset']\n",
    "\n",
    "    try:\n",
    "        conn = pymysql.connect(\n",
    "            host=host,\n",
    "            port=int(port),\n",
    "            user=user,\n",
    "            password=password,\n",
    "            db=dbname,\n",
    "            charset=charset\n",
    "        )\n",
    "        logging.info('DB Connect : ',datetime.now().strftime('%Y.%m.%d.%H.%M') )\n",
    "        return conn.cursor()\n",
    "    except Exception as e:\n",
    "        logging.error('DB Connect Error : ',datetime.now().strftime('%Y.%m.%d.%H.%M') )\n",
    "        logging.error(e.message)\n",
    "        sys.exit(5)\n",
    "#        session.rollback()\n",
    "    #connection_string"
   ]
  },
  {
   "cell_type": "code",
   "execution_count": 3,
   "id": "e27c6d88-7616-4feb-b6c9-1b849cb7df24",
   "metadata": {},
   "outputs": [],
   "source": [
    "def DataToCSV(df):\n",
    "    import os\n",
    "    \n",
    "    path = os.getcwd()\n",
    "    mkdirPath = path + \"/data/mysqlData\"\n",
    "    if not os.path.exists(mkdirPath):\n",
    "        os.mkdir(mkdirPath)\n",
    "    \n",
    "    now_date = datetime.now().strftime('%Y.%m.%d.%H.%M')\n",
    "    file_name = now_date+\"_output.csv\"\n",
    "    \n",
    "    output_file = mkdirPath+\"/\"+file_name\n",
    "    \n",
    "    df.to_csv(output_file,index=False)\n",
    "    \n",
    "    if os.path.isfile(output_file) :\n",
    "        logging.info('File Created: ', output_file)"
   ]
  },
  {
   "cell_type": "code",
   "execution_count": 4,
   "id": "ba0cf2c1",
   "metadata": {},
   "outputs": [],
   "source": [
    "def load():\n",
    "    cur = _get_MySQL_Connection()\n",
    "    sql = \"select name, email from member;\"\n",
    "    cur.execute(sql)\n",
    "    result = cur.fetchall()\n",
    "    df = DataFrame(result)    \n",
    "    \n",
    "    return df"
   ]
  },
  {
   "cell_type": "code",
   "execution_count": 5,
   "id": "f8d8f630-5834-4c24-872f-1bf7482c2212",
   "metadata": {},
   "outputs": [],
   "source": [
    "def etl():\n",
    "    df = load()\n",
    "    DataToCSV(df)"
   ]
  },
  {
   "cell_type": "code",
   "execution_count": 6,
   "id": "cdcefe07-5ff4-4b24-8da1-1a0283a2f4d0",
   "metadata": {
    "collapsed": true,
    "jupyter": {
     "outputs_hidden": true
    },
    "tags": []
   },
   "outputs": [
    {
     "name": "stderr",
     "output_type": "stream",
     "text": [
      "--- Logging error ---\n",
      "Traceback (most recent call last):\n",
      "  File \"/opt/homebrew/anaconda3/envs/pipeline/lib/python3.9/site-packages/pymysql/connections.py\", line 613, in connect\n",
      "    sock = socket.create_connection(\n",
      "  File \"/opt/homebrew/anaconda3/envs/pipeline/lib/python3.9/socket.py\", line 844, in create_connection\n",
      "    raise err\n",
      "  File \"/opt/homebrew/anaconda3/envs/pipeline/lib/python3.9/socket.py\", line 832, in create_connection\n",
      "    sock.connect(sa)\n",
      "socket.timeout: timed out\n",
      "\n",
      "During handling of the above exception, another exception occurred:\n",
      "\n",
      "Traceback (most recent call last):\n",
      "  File \"/var/folders/0j/gzlqhwtn7gg81y1sxjmmbv8m0000gn/T/ipykernel_11273/483125701.py\", line 18, in _get_MySQL_Connection\n",
      "    conn = pymysql.connect(\n",
      "  File \"/opt/homebrew/anaconda3/envs/pipeline/lib/python3.9/site-packages/pymysql/connections.py\", line 353, in __init__\n",
      "    self.connect()\n",
      "  File \"/opt/homebrew/anaconda3/envs/pipeline/lib/python3.9/site-packages/pymysql/connections.py\", line 664, in connect\n",
      "    raise exc\n",
      "pymysql.err.OperationalError: (2003, \"Can't connect to MySQL server on 'ec2-15-164-164-229.ap-northeast-2.compute.amazonaws.com' (timed out)\")\n",
      "\n",
      "During handling of the above exception, another exception occurred:\n",
      "\n",
      "Traceback (most recent call last):\n",
      "  File \"/opt/homebrew/anaconda3/envs/pipeline/lib/python3.9/logging/__init__.py\", line 1083, in emit\n",
      "    msg = self.format(record)\n",
      "  File \"/opt/homebrew/anaconda3/envs/pipeline/lib/python3.9/logging/__init__.py\", line 927, in format\n",
      "    return fmt.format(record)\n",
      "  File \"/opt/homebrew/anaconda3/envs/pipeline/lib/python3.9/logging/__init__.py\", line 663, in format\n",
      "    record.message = record.getMessage()\n",
      "  File \"/opt/homebrew/anaconda3/envs/pipeline/lib/python3.9/logging/__init__.py\", line 367, in getMessage\n",
      "    msg = msg % self.args\n",
      "TypeError: not all arguments converted during string formatting\n",
      "Call stack:\n",
      "  File \"/opt/homebrew/anaconda3/envs/pipeline/lib/python3.9/runpy.py\", line 197, in _run_module_as_main\n",
      "    return _run_code(code, main_globals, None,\n",
      "  File \"/opt/homebrew/anaconda3/envs/pipeline/lib/python3.9/runpy.py\", line 87, in _run_code\n",
      "    exec(code, run_globals)\n",
      "  File \"/opt/homebrew/anaconda3/envs/pipeline/lib/python3.9/site-packages/ipykernel_launcher.py\", line 16, in <module>\n",
      "    app.launch_new_instance()\n",
      "  File \"/opt/homebrew/anaconda3/envs/pipeline/lib/python3.9/site-packages/traitlets/config/application.py\", line 846, in launch_instance\n",
      "    app.start()\n",
      "  File \"/opt/homebrew/anaconda3/envs/pipeline/lib/python3.9/site-packages/ipykernel/kernelapp.py\", line 677, in start\n",
      "    self.io_loop.start()\n",
      "  File \"/opt/homebrew/anaconda3/envs/pipeline/lib/python3.9/site-packages/tornado/platform/asyncio.py\", line 199, in start\n",
      "    self.asyncio_loop.run_forever()\n",
      "  File \"/opt/homebrew/anaconda3/envs/pipeline/lib/python3.9/asyncio/base_events.py\", line 596, in run_forever\n",
      "    self._run_once()\n",
      "  File \"/opt/homebrew/anaconda3/envs/pipeline/lib/python3.9/asyncio/base_events.py\", line 1890, in _run_once\n",
      "    handle._run()\n",
      "  File \"/opt/homebrew/anaconda3/envs/pipeline/lib/python3.9/asyncio/events.py\", line 80, in _run\n",
      "    self._context.run(self._callback, *self._args)\n",
      "  File \"/opt/homebrew/anaconda3/envs/pipeline/lib/python3.9/site-packages/ipykernel/kernelbase.py\", line 461, in dispatch_queue\n",
      "    await self.process_one()\n",
      "  File \"/opt/homebrew/anaconda3/envs/pipeline/lib/python3.9/site-packages/ipykernel/kernelbase.py\", line 450, in process_one\n",
      "    await dispatch(*args)\n",
      "  File \"/opt/homebrew/anaconda3/envs/pipeline/lib/python3.9/site-packages/ipykernel/kernelbase.py\", line 357, in dispatch_shell\n",
      "    await result\n",
      "  File \"/opt/homebrew/anaconda3/envs/pipeline/lib/python3.9/site-packages/ipykernel/kernelbase.py\", line 652, in execute_request\n",
      "    reply_content = await reply_content\n",
      "  File \"/opt/homebrew/anaconda3/envs/pipeline/lib/python3.9/site-packages/ipykernel/ipkernel.py\", line 353, in do_execute\n",
      "    res = shell.run_cell(code, store_history=store_history, silent=silent)\n",
      "  File \"/opt/homebrew/anaconda3/envs/pipeline/lib/python3.9/site-packages/ipykernel/zmqshell.py\", line 532, in run_cell\n",
      "    return super().run_cell(*args, **kwargs)\n",
      "  File \"/opt/homebrew/anaconda3/envs/pipeline/lib/python3.9/site-packages/IPython/core/interactiveshell.py\", line 2768, in run_cell\n",
      "    result = self._run_cell(\n",
      "  File \"/opt/homebrew/anaconda3/envs/pipeline/lib/python3.9/site-packages/IPython/core/interactiveshell.py\", line 2814, in _run_cell\n",
      "    return runner(coro)\n",
      "  File \"/opt/homebrew/anaconda3/envs/pipeline/lib/python3.9/site-packages/IPython/core/async_helpers.py\", line 129, in _pseudo_sync_runner\n",
      "    coro.send(None)\n",
      "  File \"/opt/homebrew/anaconda3/envs/pipeline/lib/python3.9/site-packages/IPython/core/interactiveshell.py\", line 3012, in run_cell_async\n",
      "    has_raised = await self.run_ast_nodes(code_ast.body, cell_name,\n",
      "  File \"/opt/homebrew/anaconda3/envs/pipeline/lib/python3.9/site-packages/IPython/core/interactiveshell.py\", line 3191, in run_ast_nodes\n",
      "    if await self.run_code(code, result, async_=asy):\n",
      "  File \"/opt/homebrew/anaconda3/envs/pipeline/lib/python3.9/site-packages/IPython/core/interactiveshell.py\", line 3251, in run_code\n",
      "    exec(code_obj, self.user_global_ns, self.user_ns)\n",
      "  File \"/var/folders/0j/gzlqhwtn7gg81y1sxjmmbv8m0000gn/T/ipykernel_11273/1037478285.py\", line 1, in <module>\n",
      "    etl()\n",
      "  File \"/var/folders/0j/gzlqhwtn7gg81y1sxjmmbv8m0000gn/T/ipykernel_11273/3128401565.py\", line 2, in etl\n",
      "    df = load()\n",
      "  File \"/var/folders/0j/gzlqhwtn7gg81y1sxjmmbv8m0000gn/T/ipykernel_11273/2143103619.py\", line 2, in load\n",
      "    cur = _get_MySQL_Connection()\n",
      "  File \"/var/folders/0j/gzlqhwtn7gg81y1sxjmmbv8m0000gn/T/ipykernel_11273/483125701.py\", line 29, in _get_MySQL_Connection\n",
      "    logging.error('DB Connect Error : ',datetime.now().strftime('%Y.%m.%d.%H.%M') )\n",
      "Message: 'DB Connect Error : '\n",
      "Arguments: ('2022.03.10.11.45',)\n"
     ]
    },
    {
     "ename": "AttributeError",
     "evalue": "'OperationalError' object has no attribute 'message'",
     "output_type": "error",
     "traceback": [
      "\u001b[0;31m---------------------------------------------------------------------------\u001b[0m",
      "\u001b[0;31mtimeout\u001b[0m                                   Traceback (most recent call last)",
      "File \u001b[0;32m/opt/homebrew/anaconda3/envs/pipeline/lib/python3.9/site-packages/pymysql/connections.py:613\u001b[0m, in \u001b[0;36mConnection.connect\u001b[0;34m(self, sock)\u001b[0m\n\u001b[1;32m    612\u001b[0m \u001b[38;5;28;01mtry\u001b[39;00m:\n\u001b[0;32m--> 613\u001b[0m     sock \u001b[38;5;241m=\u001b[39m \u001b[43msocket\u001b[49m\u001b[38;5;241;43m.\u001b[39;49m\u001b[43mcreate_connection\u001b[49m\u001b[43m(\u001b[49m\n\u001b[1;32m    614\u001b[0m \u001b[43m        \u001b[49m\u001b[43m(\u001b[49m\u001b[38;5;28;43mself\u001b[39;49m\u001b[38;5;241;43m.\u001b[39;49m\u001b[43mhost\u001b[49m\u001b[43m,\u001b[49m\u001b[43m \u001b[49m\u001b[38;5;28;43mself\u001b[39;49m\u001b[38;5;241;43m.\u001b[39;49m\u001b[43mport\u001b[49m\u001b[43m)\u001b[49m\u001b[43m,\u001b[49m\u001b[43m \u001b[49m\u001b[38;5;28;43mself\u001b[39;49m\u001b[38;5;241;43m.\u001b[39;49m\u001b[43mconnect_timeout\u001b[49m\u001b[43m,\u001b[49m\u001b[43m \u001b[49m\u001b[38;5;241;43m*\u001b[39;49m\u001b[38;5;241;43m*\u001b[39;49m\u001b[43mkwargs\u001b[49m\n\u001b[1;32m    615\u001b[0m \u001b[43m    \u001b[49m\u001b[43m)\u001b[49m\n\u001b[1;32m    616\u001b[0m     \u001b[38;5;28;01mbreak\u001b[39;00m\n",
      "File \u001b[0;32m/opt/homebrew/anaconda3/envs/pipeline/lib/python3.9/socket.py:844\u001b[0m, in \u001b[0;36mcreate_connection\u001b[0;34m(address, timeout, source_address)\u001b[0m\n\u001b[1;32m    843\u001b[0m \u001b[38;5;28;01mtry\u001b[39;00m:\n\u001b[0;32m--> 844\u001b[0m     \u001b[38;5;28;01mraise\u001b[39;00m err\n\u001b[1;32m    845\u001b[0m \u001b[38;5;28;01mfinally\u001b[39;00m:\n\u001b[1;32m    846\u001b[0m     \u001b[38;5;66;03m# Break explicitly a reference cycle\u001b[39;00m\n",
      "File \u001b[0;32m/opt/homebrew/anaconda3/envs/pipeline/lib/python3.9/socket.py:832\u001b[0m, in \u001b[0;36mcreate_connection\u001b[0;34m(address, timeout, source_address)\u001b[0m\n\u001b[1;32m    831\u001b[0m     sock\u001b[38;5;241m.\u001b[39mbind(source_address)\n\u001b[0;32m--> 832\u001b[0m \u001b[43msock\u001b[49m\u001b[38;5;241;43m.\u001b[39;49m\u001b[43mconnect\u001b[49m\u001b[43m(\u001b[49m\u001b[43msa\u001b[49m\u001b[43m)\u001b[49m\n\u001b[1;32m    833\u001b[0m \u001b[38;5;66;03m# Break explicitly a reference cycle\u001b[39;00m\n",
      "\u001b[0;31mtimeout\u001b[0m: timed out",
      "\nDuring handling of the above exception, another exception occurred:\n",
      "\u001b[0;31mOperationalError\u001b[0m                          Traceback (most recent call last)",
      "Input \u001b[0;32mIn [2]\u001b[0m, in \u001b[0;36m_get_MySQL_Connection\u001b[0;34m()\u001b[0m\n\u001b[1;32m     17\u001b[0m \u001b[38;5;28;01mtry\u001b[39;00m:\n\u001b[0;32m---> 18\u001b[0m     conn \u001b[38;5;241m=\u001b[39m \u001b[43mpymysql\u001b[49m\u001b[38;5;241;43m.\u001b[39;49m\u001b[43mconnect\u001b[49m\u001b[43m(\u001b[49m\n\u001b[1;32m     19\u001b[0m \u001b[43m        \u001b[49m\u001b[43mhost\u001b[49m\u001b[38;5;241;43m=\u001b[39;49m\u001b[43mhost\u001b[49m\u001b[43m,\u001b[49m\n\u001b[1;32m     20\u001b[0m \u001b[43m        \u001b[49m\u001b[43mport\u001b[49m\u001b[38;5;241;43m=\u001b[39;49m\u001b[38;5;28;43mint\u001b[39;49m\u001b[43m(\u001b[49m\u001b[43mport\u001b[49m\u001b[43m)\u001b[49m\u001b[43m,\u001b[49m\n\u001b[1;32m     21\u001b[0m \u001b[43m        \u001b[49m\u001b[43muser\u001b[49m\u001b[38;5;241;43m=\u001b[39;49m\u001b[43muser\u001b[49m\u001b[43m,\u001b[49m\n\u001b[1;32m     22\u001b[0m \u001b[43m        \u001b[49m\u001b[43mpassword\u001b[49m\u001b[38;5;241;43m=\u001b[39;49m\u001b[43mpassword\u001b[49m\u001b[43m,\u001b[49m\n\u001b[1;32m     23\u001b[0m \u001b[43m        \u001b[49m\u001b[43mdb\u001b[49m\u001b[38;5;241;43m=\u001b[39;49m\u001b[43mdbname\u001b[49m\u001b[43m,\u001b[49m\n\u001b[1;32m     24\u001b[0m \u001b[43m        \u001b[49m\u001b[43mcharset\u001b[49m\u001b[38;5;241;43m=\u001b[39;49m\u001b[43mcharset\u001b[49m\n\u001b[1;32m     25\u001b[0m \u001b[43m    \u001b[49m\u001b[43m)\u001b[49m\n\u001b[1;32m     26\u001b[0m     logging\u001b[38;5;241m.\u001b[39minfo(\u001b[38;5;124m'\u001b[39m\u001b[38;5;124mDB Connect : \u001b[39m\u001b[38;5;124m'\u001b[39m,datetime\u001b[38;5;241m.\u001b[39mnow()\u001b[38;5;241m.\u001b[39mstrftime(\u001b[38;5;124m'\u001b[39m\u001b[38;5;124m%\u001b[39m\u001b[38;5;124mY.\u001b[39m\u001b[38;5;124m%\u001b[39m\u001b[38;5;124mm.\u001b[39m\u001b[38;5;132;01m%d\u001b[39;00m\u001b[38;5;124m.\u001b[39m\u001b[38;5;124m%\u001b[39m\u001b[38;5;124mH.\u001b[39m\u001b[38;5;124m%\u001b[39m\u001b[38;5;124mM\u001b[39m\u001b[38;5;124m'\u001b[39m) )\n",
      "File \u001b[0;32m/opt/homebrew/anaconda3/envs/pipeline/lib/python3.9/site-packages/pymysql/connections.py:353\u001b[0m, in \u001b[0;36mConnection.__init__\u001b[0;34m(self, user, password, host, database, unix_socket, port, charset, sql_mode, read_default_file, conv, use_unicode, client_flag, cursorclass, init_command, connect_timeout, read_default_group, autocommit, local_infile, max_allowed_packet, defer_connect, auth_plugin_map, read_timeout, write_timeout, bind_address, binary_prefix, program_name, server_public_key, ssl, ssl_ca, ssl_cert, ssl_disabled, ssl_key, ssl_verify_cert, ssl_verify_identity, compress, named_pipe, passwd, db)\u001b[0m\n\u001b[1;32m    352\u001b[0m \u001b[38;5;28;01melse\u001b[39;00m:\n\u001b[0;32m--> 353\u001b[0m     \u001b[38;5;28;43mself\u001b[39;49m\u001b[38;5;241;43m.\u001b[39;49m\u001b[43mconnect\u001b[49m\u001b[43m(\u001b[49m\u001b[43m)\u001b[49m\n",
      "File \u001b[0;32m/opt/homebrew/anaconda3/envs/pipeline/lib/python3.9/site-packages/pymysql/connections.py:664\u001b[0m, in \u001b[0;36mConnection.connect\u001b[0;34m(self, sock)\u001b[0m\n\u001b[1;32m    663\u001b[0m         \u001b[38;5;28mprint\u001b[39m(exc\u001b[38;5;241m.\u001b[39mtraceback)\n\u001b[0;32m--> 664\u001b[0m     \u001b[38;5;28;01mraise\u001b[39;00m exc\n\u001b[1;32m    666\u001b[0m \u001b[38;5;66;03m# If e is neither DatabaseError or IOError, It's a bug.\u001b[39;00m\n\u001b[1;32m    667\u001b[0m \u001b[38;5;66;03m# But raising AssertionError hides original error.\u001b[39;00m\n\u001b[1;32m    668\u001b[0m \u001b[38;5;66;03m# So just reraise it.\u001b[39;00m\n",
      "\u001b[0;31mOperationalError\u001b[0m: (2003, \"Can't connect to MySQL server on 'ec2-15-164-164-229.ap-northeast-2.compute.amazonaws.com' (timed out)\")",
      "\nDuring handling of the above exception, another exception occurred:\n",
      "\u001b[0;31mAttributeError\u001b[0m                            Traceback (most recent call last)",
      "Input \u001b[0;32mIn [6]\u001b[0m, in \u001b[0;36m<module>\u001b[0;34m\u001b[0m\n\u001b[0;32m----> 1\u001b[0m \u001b[43metl\u001b[49m\u001b[43m(\u001b[49m\u001b[43m)\u001b[49m\n",
      "Input \u001b[0;32mIn [5]\u001b[0m, in \u001b[0;36metl\u001b[0;34m()\u001b[0m\n\u001b[1;32m      1\u001b[0m \u001b[38;5;28;01mdef\u001b[39;00m \u001b[38;5;21metl\u001b[39m():\n\u001b[0;32m----> 2\u001b[0m     df \u001b[38;5;241m=\u001b[39m \u001b[43mload\u001b[49m\u001b[43m(\u001b[49m\u001b[43m)\u001b[49m\n\u001b[1;32m      3\u001b[0m     DataToCSV(df)\n",
      "Input \u001b[0;32mIn [4]\u001b[0m, in \u001b[0;36mload\u001b[0;34m()\u001b[0m\n\u001b[1;32m      1\u001b[0m \u001b[38;5;28;01mdef\u001b[39;00m \u001b[38;5;21mload\u001b[39m():\n\u001b[0;32m----> 2\u001b[0m     cur \u001b[38;5;241m=\u001b[39m \u001b[43m_get_MySQL_Connection\u001b[49m\u001b[43m(\u001b[49m\u001b[43m)\u001b[49m\n\u001b[1;32m      3\u001b[0m     sql \u001b[38;5;241m=\u001b[39m \u001b[38;5;124m\"\u001b[39m\u001b[38;5;124mselect name, email from member;\u001b[39m\u001b[38;5;124m\"\u001b[39m\n\u001b[1;32m      4\u001b[0m     cur\u001b[38;5;241m.\u001b[39mexecute(sql)\n",
      "Input \u001b[0;32mIn [2]\u001b[0m, in \u001b[0;36m_get_MySQL_Connection\u001b[0;34m()\u001b[0m\n\u001b[1;32m     28\u001b[0m \u001b[38;5;28;01mexcept\u001b[39;00m \u001b[38;5;167;01mException\u001b[39;00m \u001b[38;5;28;01mas\u001b[39;00m e:\n\u001b[1;32m     29\u001b[0m     logging\u001b[38;5;241m.\u001b[39merror(\u001b[38;5;124m'\u001b[39m\u001b[38;5;124mDB Connect Error : \u001b[39m\u001b[38;5;124m'\u001b[39m,datetime\u001b[38;5;241m.\u001b[39mnow()\u001b[38;5;241m.\u001b[39mstrftime(\u001b[38;5;124m'\u001b[39m\u001b[38;5;124m%\u001b[39m\u001b[38;5;124mY.\u001b[39m\u001b[38;5;124m%\u001b[39m\u001b[38;5;124mm.\u001b[39m\u001b[38;5;132;01m%d\u001b[39;00m\u001b[38;5;124m.\u001b[39m\u001b[38;5;124m%\u001b[39m\u001b[38;5;124mH.\u001b[39m\u001b[38;5;124m%\u001b[39m\u001b[38;5;124mM\u001b[39m\u001b[38;5;124m'\u001b[39m) )\n\u001b[0;32m---> 30\u001b[0m     logging\u001b[38;5;241m.\u001b[39merror(\u001b[43me\u001b[49m\u001b[38;5;241;43m.\u001b[39;49m\u001b[43mmessage\u001b[49m)\n\u001b[1;32m     31\u001b[0m     sys\u001b[38;5;241m.\u001b[39mexit(\u001b[38;5;241m5\u001b[39m)\n",
      "\u001b[0;31mAttributeError\u001b[0m: 'OperationalError' object has no attribute 'message'"
     ]
    }
   ],
   "source": [
    "etl()"
   ]
  },
  {
   "cell_type": "code",
   "execution_count": 239,
   "id": "447052b8-11cc-4d11-878b-a53ade81708b",
   "metadata": {
    "collapsed": true,
    "jupyter": {
     "outputs_hidden": true
    },
    "tags": []
   },
   "outputs": [
    {
     "ename": "NameError",
     "evalue": "name 'DAG' is not defined",
     "output_type": "error",
     "traceback": [
      "\u001b[0;31m---------------------------------------------------------------------------\u001b[0m",
      "\u001b[0;31mNameError\u001b[0m                                 Traceback (most recent call last)",
      "Input \u001b[0;32mIn [239]\u001b[0m, in \u001b[0;36m<module>\u001b[0;34m\u001b[0m\n\u001b[0;32m----> 1\u001b[0m dag_second_assingnment \u001b[38;5;241m=\u001b[39m \u001b[43mDAG\u001b[49m(\n\u001b[1;32m      2\u001b[0m     dag_id\u001b[38;5;241m=\u001b[39m\u001b[38;5;124m'\u001b[39m\u001b[38;5;124msecond_assingnment\u001b[39m\u001b[38;5;124m'\u001b[39m,\n\u001b[1;32m      3\u001b[0m     catchup \u001b[38;5;241m=\u001b[39m \u001b[38;5;28;01mFalse\u001b[39;00m,\n\u001b[1;32m      4\u001b[0m     start_date \u001b[38;5;241m=\u001b[39m datetime(\u001b[38;5;241m2022\u001b[39m,\u001b[38;5;241m1\u001b[39m,\u001b[38;5;241m10\u001b[39m),\n\u001b[1;32m      5\u001b[0m     schedule_interval \u001b[38;5;241m=\u001b[39m \u001b[38;5;124m'\u001b[39m\u001b[38;5;124m0 20 * * *\u001b[39m\u001b[38;5;124m'\u001b[39m\n\u001b[1;32m      6\u001b[0m )\n",
      "\u001b[0;31mNameError\u001b[0m: name 'DAG' is not defined"
     ]
    }
   ],
   "source": [
    "dag_second_assingnment = DAG(\n",
    "    dag_id='MySQLToCsvFile',\n",
    "    catchup = False,\n",
    "    start_date = datetime(2022,1,10),\n",
    "    schedule_interval = '0 20 * * *'\n",
    ")"
   ]
  },
  {
   "cell_type": "code",
   "execution_count": null,
   "id": "3be89739-35da-4976-b9ac-c53095c3d32d",
   "metadata": {},
   "outputs": [],
   "source": [
    "task = PythonOperator(\n",
    "    task_id = 'MySQLTOCsv',\n",
    "    python_callable = etl,\n",
    "    dag = dag_second_assingnment\n",
    ")"
   ]
  }
 ],
 "metadata": {
  "kernelspec": {
   "display_name": "pipeline",
   "language": "python",
   "name": "pipeline"
  },
  "language_info": {
   "codemirror_mode": {
    "name": "ipython",
    "version": 3
   },
   "file_extension": ".py",
   "mimetype": "text/x-python",
   "name": "python",
   "nbconvert_exporter": "python",
   "pygments_lexer": "ipython3",
   "version": "3.9.7"
  }
 },
 "nbformat": 4,
 "nbformat_minor": 5
}
