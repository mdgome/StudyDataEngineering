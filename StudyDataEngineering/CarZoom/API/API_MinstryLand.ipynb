{
 "cells": [
  {
   "cell_type": "code",
   "execution_count": 15,
   "id": "e9dd4b8c-11dd-4baf-b633-6f4ad204da17",
   "metadata": {},
   "outputs": [
    {
     "data": {
      "text/plain": [
       "{'/opt/homebrew/anaconda3/envs/pipeline'}"
      ]
     },
     "execution_count": 15,
     "metadata": {},
     "output_type": "execute_result"
    }
   ],
   "source": [
    "import sys\n",
    "{sys.prefix}"
   ]
  },
  {
   "cell_type": "code",
   "execution_count": 13,
   "id": "460db82a-7d32-4866-b6d2-9eec928ce239",
   "metadata": {},
   "outputs": [
    {
     "name": "stdout",
     "output_type": "stream",
     "text": [
      "\n",
      "EnvironmentLocationNotFound: Not a conda environment: /Users/mdgome/workspace/study/StudyDataEngineering/StudyDataEngineering/CarZoom/API/{sys.prefix}\n",
      "\n",
      "\n",
      "EnvironmentLocationNotFound: Not a conda environment: /Users/mdgome/workspace/study/StudyDataEngineering/StudyDataEngineering/CarZoom/API/{sys.prefix}\n",
      "\n",
      "\n",
      "EnvironmentLocationNotFound: Not a conda environment: /Users/mdgome/workspace/study/StudyDataEngineering/StudyDataEngineering/CarZoom/API/{sys.prefix}\n",
      "\n",
      "\n",
      "EnvironmentLocationNotFound: Not a conda environment: /Users/mdgome/workspace/study/StudyDataEngineering/StudyDataEngineering/CarZoom/API/{sys.prefix}\n",
      "\n"
     ]
    }
   ],
   "source": [
    "!conda install -c conda-forge -y --prefix {sys.prefix} beautifulsoup4\n",
    "!conda install -c conda-forge -y --prefix {sys.prefix} lxml\n",
    "!conda install -c conda-forge -y --prefix {sys.prefix} matplotlib\n",
    "!conda install -c conda-forge -y --prefix {sys.prefix} html5lib"
   ]
  },
  {
   "cell_type": "code",
   "execution_count": 16,
   "id": "0e3aa6df",
   "metadata": {},
   "outputs": [],
   "source": [
    "import pandas as pd\n",
    "from bs4 import BeautifulSoup\n",
    "from lxml import html\n",
    "from urllib.request import Request, urlopen\n",
    "from urllib.parse import urlencode, quote_plus, unquote, unquote_plus\n",
    "import matplotlib \n",
    "import requests"
   ]
  },
  {
   "cell_type": "code",
   "execution_count": 17,
   "id": "9ed17374",
   "metadata": {},
   "outputs": [],
   "source": [
    "matplotlib.rcParams['axes.unicode_minus'] = False \n",
    "matplotlib.rcParams['font.family'] = \"NanumGothic\""
   ]
  },
  {
   "cell_type": "code",
   "execution_count": 18,
   "id": "401cd6e4",
   "metadata": {},
   "outputs": [],
   "source": [
    "# 1. URL 파라미터 분리하기.\n",
    "# Service URL\n",
    "xmlUrl = 'http://openapi.tago.go.kr/openapi/service/CarSharingInfoService/getCarZoneListByName'\n",
    "My_API_Key = 'dyJVzBeXHhkzJZHXpnaRzc6GvovKIXadt2bOtynDyUBuJjWk0VBG8NBk8vyPIfWEZ0yb1CJ6K+ep3EyZj89ZvA=='\n",
    "\n",
    "queryParams = '?' + urlencode(    # get 방식으로 쿼리를 분리하기 위해 '?'를 넣은 것이다. 메타코드 아님.\n",
    "    {\n",
    "        quote_plus('ServiceKey') : My_API_Key,    # 필수 항목 1 : 서비스키 (본인의 서비스키)\n",
    "        #quote_plus('pageNo') : 1,          # 필수 항목 2 : 페이지 번호\n",
    "        #quote_plus('numOfRows') : 50,         # 픽수 항목 3 : 한 페이지 결과 수\n",
    "        quote_plus('zoneName') : \"서울역\"         # 픽수 항목 3 : 한 페이지 결과 수\n",
    "     }\n",
    ")"
   ]
  },
  {
   "cell_type": "code",
   "execution_count": 19,
   "id": "465a6750",
   "metadata": {},
   "outputs": [
    {
     "data": {
      "text/plain": [
       "'http://openapi.tago.go.kr/openapi/service/CarSharingInfoService/getCarZoneListByName?ServiceKey=dyJVzBeXHhkzJZHXpnaRzc6GvovKIXadt2bOtynDyUBuJjWk0VBG8NBk8vyPIfWEZ0yb1CJ6K+ep3EyZj89ZvA==&zoneName=서울역'"
      ]
     },
     "execution_count": 19,
     "metadata": {},
     "output_type": "execute_result"
    }
   ],
   "source": [
    "getUrl= unquote_plus(xmlUrl+queryParams)\n",
    "getUrl #디버깅용"
   ]
  },
  {
   "cell_type": "code",
   "execution_count": 20,
   "id": "ffd4a621",
   "metadata": {},
   "outputs": [
    {
     "data": {
      "text/plain": [
       "<?xml version=\"1.0\" encoding=\"utf-8\"?>\n",
       "<response><header><resultCode>00</resultCode><resultMsg>NORMAL SERVICE.</resultMsg></header><body><items><item><address>서울 중구 남대문로5가 581</address><latitude>37.554298</latitude><longitude>126.973892</longitude><type>1</type><zoneId>S0000808</zoneId><zoneName>서울역 10번출구(서울시티타워)(운영종료)</zoneName></item><item><address>서울 용산구 동자동 43-205</address><latitude>37.555862</latitude><longitude>126.970505</longitude><type>2</type><zoneId>10519</zoneId><zoneName>서울역사</zoneName></item><item><address>서울 중구 남대문로5가 537</address><latitude>37.556099</latitude><longitude>126.974869</longitude><type>2</type><zoneId>10544</zoneId><zoneName>서울역 8번출구</zoneName></item><item><address>서울 용산구 동자동 45</address><latitude>37.551563</latitude><longitude>126.973236</longitude><type>2</type><zoneId>10981</zoneId><zoneName>서울역 12번출구(KDB생명타워)</zoneName></item><item><address>서울 용산구 서계동 47-3</address><latitude>37.55228</latitude><longitude>126.968849</longitude><type>2</type><zoneId>1754</zoneId><zoneName>롯데렌터카 서울역영업소 2층</zoneName></item><item><address>서울 용산구 동자동 56</address><latitude>37.551189</latitude><longitude>126.972939</longitude><type>2</type><zoneId>7426</zoneId><zoneName>서울역 12번출구(갈월동)</zoneName></item><item><address>서울 용산구 서계동 47-3</address><latitude>37.552486</latitude><longitude>126.968964</longitude><type>2</type><zoneId>9442</zoneId><zoneName>서울역 15번출구(국립극단옆EV)</zoneName></item><item><address>서울 용산구 서계동 47-3</address><latitude>37.552246</latitude><longitude>126.968498</longitude><type>2</type><zoneId>9961</zoneId><zoneName>롯데렌터카 서울역영업소 3층</zoneName></item></items><numOfRows>10</numOfRows><pageNo>1</pageNo><totalCount>8</totalCount></body></response>"
      ]
     },
     "execution_count": 20,
     "metadata": {},
     "output_type": "execute_result"
    }
   ],
   "source": [
    "response = requests.get(xmlUrl + queryParams).text.encode('utf-8')\n",
    "xmlobj = BeautifulSoup(response, 'lxml-xml')\n",
    "xmlobj    # 디버깅용."
   ]
  },
  {
   "cell_type": "code",
   "execution_count": 21,
   "id": "026bb219",
   "metadata": {},
   "outputs": [],
   "source": [
    "rows = xmlobj.findAll('item')\n",
    "# rows    # 디버깅용.\n",
    "# rows[0]    # 디버깅용."
   ]
  },
  {
   "cell_type": "code",
   "execution_count": 22,
   "id": "2ea8b321",
   "metadata": {},
   "outputs": [],
   "source": [
    "columns = rows[0].find_all()\n",
    "# columns    # 디버깅용.\n",
    "# columns[0].name    # 디버깅용.\n",
    "# columns[0].text    # 디버깅용."
   ]
  },
  {
   "cell_type": "code",
   "execution_count": 23,
   "id": "3293cbaf",
   "metadata": {},
   "outputs": [
    {
     "data": {
      "text/html": [
       "<div>\n",
       "<style scoped>\n",
       "    .dataframe tbody tr th:only-of-type {\n",
       "        vertical-align: middle;\n",
       "    }\n",
       "\n",
       "    .dataframe tbody tr th {\n",
       "        vertical-align: top;\n",
       "    }\n",
       "\n",
       "    .dataframe thead th {\n",
       "        text-align: right;\n",
       "    }\n",
       "</style>\n",
       "<table border=\"1\" class=\"dataframe\">\n",
       "  <thead>\n",
       "    <tr style=\"text-align: right;\">\n",
       "      <th></th>\n",
       "      <th>address</th>\n",
       "      <th>latitude</th>\n",
       "      <th>longitude</th>\n",
       "      <th>type</th>\n",
       "      <th>zoneId</th>\n",
       "      <th>zoneName</th>\n",
       "    </tr>\n",
       "  </thead>\n",
       "  <tbody>\n",
       "    <tr>\n",
       "      <th>0</th>\n",
       "      <td>서울 중구 남대문로5가 581</td>\n",
       "      <td>37.554298</td>\n",
       "      <td>126.973892</td>\n",
       "      <td>1</td>\n",
       "      <td>S0000808</td>\n",
       "      <td>서울역 10번출구(서울시티타워)(운영종료)</td>\n",
       "    </tr>\n",
       "    <tr>\n",
       "      <th>1</th>\n",
       "      <td>서울 용산구 동자동 43-205</td>\n",
       "      <td>37.555862</td>\n",
       "      <td>126.970505</td>\n",
       "      <td>2</td>\n",
       "      <td>10519</td>\n",
       "      <td>서울역사</td>\n",
       "    </tr>\n",
       "    <tr>\n",
       "      <th>2</th>\n",
       "      <td>서울 중구 남대문로5가 537</td>\n",
       "      <td>37.556099</td>\n",
       "      <td>126.974869</td>\n",
       "      <td>2</td>\n",
       "      <td>10544</td>\n",
       "      <td>서울역 8번출구</td>\n",
       "    </tr>\n",
       "    <tr>\n",
       "      <th>3</th>\n",
       "      <td>서울 용산구 동자동 45</td>\n",
       "      <td>37.551563</td>\n",
       "      <td>126.973236</td>\n",
       "      <td>2</td>\n",
       "      <td>10981</td>\n",
       "      <td>서울역 12번출구(KDB생명타워)</td>\n",
       "    </tr>\n",
       "    <tr>\n",
       "      <th>4</th>\n",
       "      <td>서울 용산구 서계동 47-3</td>\n",
       "      <td>37.55228</td>\n",
       "      <td>126.968849</td>\n",
       "      <td>2</td>\n",
       "      <td>1754</td>\n",
       "      <td>롯데렌터카 서울역영업소 2층</td>\n",
       "    </tr>\n",
       "  </tbody>\n",
       "</table>\n",
       "</div>"
      ],
      "text/plain": [
       "             address   latitude   longitude type    zoneId  \\\n",
       "0   서울 중구 남대문로5가 581  37.554298  126.973892    1  S0000808   \n",
       "1  서울 용산구 동자동 43-205  37.555862  126.970505    2     10519   \n",
       "2   서울 중구 남대문로5가 537  37.556099  126.974869    2     10544   \n",
       "3      서울 용산구 동자동 45  37.551563  126.973236    2     10981   \n",
       "4    서울 용산구 서계동 47-3   37.55228  126.968849    2      1754   \n",
       "\n",
       "                  zoneName  \n",
       "0  서울역 10번출구(서울시티타워)(운영종료)  \n",
       "1                     서울역사  \n",
       "2                 서울역 8번출구  \n",
       "3       서울역 12번출구(KDB생명타워)  \n",
       "4          롯데렌터카 서울역영업소 2층  "
      ]
     },
     "execution_count": 23,
     "metadata": {},
     "output_type": "execute_result"
    }
   ],
   "source": [
    "# 모든 행과 열의 값을 모아 매트릭스로 만들어보자.\n",
    "rowList = []\n",
    "nameList = []\n",
    "columnList = []\n",
    "\n",
    "rowsLen = len(rows)\n",
    "for i in range(0, rowsLen):\n",
    "    columns = rows[i].find_all()\n",
    "    \n",
    "    columnsLen = len(columns)\n",
    "    for j in range(0, columnsLen):\n",
    "        # 첫 번째 행 데이터 값 수집 시에만 컬럼 값을 저장한다. (어차피 rows[0], rows[1], ... 모두 컬럼헤더는 동일한 값을 가지기 때문에 매번 반복할 필요가 없다.)\n",
    "        if i == 0:\n",
    "            nameList.append(columns[j].name)\n",
    "        # 컬럼값은 모든 행의 값을 저장해야한다.    \n",
    "        eachColumn = columns[j].text\n",
    "        columnList.append(eachColumn)\n",
    "    rowList.append(columnList)\n",
    "    columnList = []    # 다음 row의 값을 넣기 위해 비워준다. (매우 중요!!)\n",
    "    \n",
    "result = pd.DataFrame(rowList, columns=nameList)\n",
    "result.head()"
   ]
  },
  {
   "cell_type": "code",
   "execution_count": 30,
   "id": "123e045c",
   "metadata": {},
   "outputs": [],
   "source": [
    "def company():\n",
    "    if x == 1:\n",
    "        return \"쏘카\"\n",
    "    elif x == 2:\n",
    "        return \"그린카\"\n",
    "    else:\n",
    "        return None"
   ]
  },
  {
   "cell_type": "code",
   "execution_count": 31,
   "id": "3f5a2cbd-2859-4ce9-a1d2-60f91eeda46f",
   "metadata": {},
   "outputs": [
    {
     "ename": "TypeError",
     "evalue": "company() takes 0 positional arguments but 1 was given",
     "output_type": "error",
     "traceback": [
      "\u001b[0;31m---------------------------------------------------------------------------\u001b[0m",
      "\u001b[0;31mTypeError\u001b[0m                                 Traceback (most recent call last)",
      "Input \u001b[0;32mIn [31]\u001b[0m, in \u001b[0;36m<module>\u001b[0;34m\u001b[0m\n\u001b[0;32m----> 1\u001b[0m result[\u001b[38;5;124m\"\u001b[39m\u001b[38;5;124mcompany\u001b[39m\u001b[38;5;124m\"\u001b[39m] \u001b[38;5;241m=\u001b[39m \u001b[43mresult\u001b[49m\u001b[43m[\u001b[49m\u001b[38;5;124;43m\"\u001b[39;49m\u001b[38;5;124;43mtype\u001b[39;49m\u001b[38;5;124;43m\"\u001b[39;49m\u001b[43m]\u001b[49m\u001b[38;5;241;43m.\u001b[39;49m\u001b[43mapply\u001b[49m\u001b[43m(\u001b[49m\u001b[38;5;28;43;01mlambda\u001b[39;49;00m\u001b[43m \u001b[49m\u001b[43mx\u001b[49m\u001b[43m \u001b[49m\u001b[43m:\u001b[49m\u001b[43m \u001b[49m\u001b[43mcompany\u001b[49m\u001b[43m(\u001b[49m\u001b[43mx\u001b[49m\u001b[43m)\u001b[49m\u001b[43m)\u001b[49m\n",
      "File \u001b[0;32m/opt/homebrew/anaconda3/envs/pipeline/lib/python3.9/site-packages/pandas/core/series.py:4430\u001b[0m, in \u001b[0;36mSeries.apply\u001b[0;34m(self, func, convert_dtype, args, **kwargs)\u001b[0m\n\u001b[1;32m   4320\u001b[0m \u001b[38;5;28;01mdef\u001b[39;00m \u001b[38;5;21mapply\u001b[39m(\n\u001b[1;32m   4321\u001b[0m     \u001b[38;5;28mself\u001b[39m,\n\u001b[1;32m   4322\u001b[0m     func: AggFuncType,\n\u001b[0;32m   (...)\u001b[0m\n\u001b[1;32m   4325\u001b[0m     \u001b[38;5;241m*\u001b[39m\u001b[38;5;241m*\u001b[39mkwargs,\n\u001b[1;32m   4326\u001b[0m ) \u001b[38;5;241m-\u001b[39m\u001b[38;5;241m>\u001b[39m DataFrame \u001b[38;5;241m|\u001b[39m Series:\n\u001b[1;32m   4327\u001b[0m     \u001b[38;5;124;03m\"\"\"\u001b[39;00m\n\u001b[1;32m   4328\u001b[0m \u001b[38;5;124;03m    Invoke function on values of Series.\u001b[39;00m\n\u001b[1;32m   4329\u001b[0m \n\u001b[0;32m   (...)\u001b[0m\n\u001b[1;32m   4428\u001b[0m \u001b[38;5;124;03m    dtype: float64\u001b[39;00m\n\u001b[1;32m   4429\u001b[0m \u001b[38;5;124;03m    \"\"\"\u001b[39;00m\n\u001b[0;32m-> 4430\u001b[0m     \u001b[38;5;28;01mreturn\u001b[39;00m \u001b[43mSeriesApply\u001b[49m\u001b[43m(\u001b[49m\u001b[38;5;28;43mself\u001b[39;49m\u001b[43m,\u001b[49m\u001b[43m \u001b[49m\u001b[43mfunc\u001b[49m\u001b[43m,\u001b[49m\u001b[43m \u001b[49m\u001b[43mconvert_dtype\u001b[49m\u001b[43m,\u001b[49m\u001b[43m \u001b[49m\u001b[43margs\u001b[49m\u001b[43m,\u001b[49m\u001b[43m \u001b[49m\u001b[43mkwargs\u001b[49m\u001b[43m)\u001b[49m\u001b[38;5;241;43m.\u001b[39;49m\u001b[43mapply\u001b[49m\u001b[43m(\u001b[49m\u001b[43m)\u001b[49m\n",
      "File \u001b[0;32m/opt/homebrew/anaconda3/envs/pipeline/lib/python3.9/site-packages/pandas/core/apply.py:1082\u001b[0m, in \u001b[0;36mSeriesApply.apply\u001b[0;34m(self)\u001b[0m\n\u001b[1;32m   1078\u001b[0m \u001b[38;5;28;01mif\u001b[39;00m \u001b[38;5;28misinstance\u001b[39m(\u001b[38;5;28mself\u001b[39m\u001b[38;5;241m.\u001b[39mf, \u001b[38;5;28mstr\u001b[39m):\n\u001b[1;32m   1079\u001b[0m     \u001b[38;5;66;03m# if we are a string, try to dispatch\u001b[39;00m\n\u001b[1;32m   1080\u001b[0m     \u001b[38;5;28;01mreturn\u001b[39;00m \u001b[38;5;28mself\u001b[39m\u001b[38;5;241m.\u001b[39mapply_str()\n\u001b[0;32m-> 1082\u001b[0m \u001b[38;5;28;01mreturn\u001b[39;00m \u001b[38;5;28;43mself\u001b[39;49m\u001b[38;5;241;43m.\u001b[39;49m\u001b[43mapply_standard\u001b[49m\u001b[43m(\u001b[49m\u001b[43m)\u001b[49m\n",
      "File \u001b[0;32m/opt/homebrew/anaconda3/envs/pipeline/lib/python3.9/site-packages/pandas/core/apply.py:1137\u001b[0m, in \u001b[0;36mSeriesApply.apply_standard\u001b[0;34m(self)\u001b[0m\n\u001b[1;32m   1131\u001b[0m         values \u001b[38;5;241m=\u001b[39m obj\u001b[38;5;241m.\u001b[39mastype(\u001b[38;5;28mobject\u001b[39m)\u001b[38;5;241m.\u001b[39m_values\n\u001b[1;32m   1132\u001b[0m         \u001b[38;5;66;03m# error: Argument 2 to \"map_infer\" has incompatible type\u001b[39;00m\n\u001b[1;32m   1133\u001b[0m         \u001b[38;5;66;03m# \"Union[Callable[..., Any], str, List[Union[Callable[..., Any], str]],\u001b[39;00m\n\u001b[1;32m   1134\u001b[0m         \u001b[38;5;66;03m# Dict[Hashable, Union[Union[Callable[..., Any], str],\u001b[39;00m\n\u001b[1;32m   1135\u001b[0m         \u001b[38;5;66;03m# List[Union[Callable[..., Any], str]]]]]\"; expected\u001b[39;00m\n\u001b[1;32m   1136\u001b[0m         \u001b[38;5;66;03m# \"Callable[[Any], Any]\"\u001b[39;00m\n\u001b[0;32m-> 1137\u001b[0m         mapped \u001b[38;5;241m=\u001b[39m \u001b[43mlib\u001b[49m\u001b[38;5;241;43m.\u001b[39;49m\u001b[43mmap_infer\u001b[49m\u001b[43m(\u001b[49m\n\u001b[1;32m   1138\u001b[0m \u001b[43m            \u001b[49m\u001b[43mvalues\u001b[49m\u001b[43m,\u001b[49m\n\u001b[1;32m   1139\u001b[0m \u001b[43m            \u001b[49m\u001b[43mf\u001b[49m\u001b[43m,\u001b[49m\u001b[43m  \u001b[49m\u001b[38;5;66;43;03m# type: ignore[arg-type]\u001b[39;49;00m\n\u001b[1;32m   1140\u001b[0m \u001b[43m            \u001b[49m\u001b[43mconvert\u001b[49m\u001b[38;5;241;43m=\u001b[39;49m\u001b[38;5;28;43mself\u001b[39;49m\u001b[38;5;241;43m.\u001b[39;49m\u001b[43mconvert_dtype\u001b[49m\u001b[43m,\u001b[49m\n\u001b[1;32m   1141\u001b[0m \u001b[43m        \u001b[49m\u001b[43m)\u001b[49m\n\u001b[1;32m   1143\u001b[0m \u001b[38;5;28;01mif\u001b[39;00m \u001b[38;5;28mlen\u001b[39m(mapped) \u001b[38;5;129;01mand\u001b[39;00m \u001b[38;5;28misinstance\u001b[39m(mapped[\u001b[38;5;241m0\u001b[39m], ABCSeries):\n\u001b[1;32m   1144\u001b[0m     \u001b[38;5;66;03m# GH#43986 Need to do list(mapped) in order to get treated as nested\u001b[39;00m\n\u001b[1;32m   1145\u001b[0m     \u001b[38;5;66;03m#  See also GH#25959 regarding EA support\u001b[39;00m\n\u001b[1;32m   1146\u001b[0m     \u001b[38;5;28;01mreturn\u001b[39;00m obj\u001b[38;5;241m.\u001b[39m_constructor_expanddim(\u001b[38;5;28mlist\u001b[39m(mapped), index\u001b[38;5;241m=\u001b[39mobj\u001b[38;5;241m.\u001b[39mindex)\n",
      "File \u001b[0;32m/opt/homebrew/anaconda3/envs/pipeline/lib/python3.9/site-packages/pandas/_libs/lib.pyx:2870\u001b[0m, in \u001b[0;36mpandas._libs.lib.map_infer\u001b[0;34m()\u001b[0m\n",
      "Input \u001b[0;32mIn [31]\u001b[0m, in \u001b[0;36m<lambda>\u001b[0;34m(x)\u001b[0m\n\u001b[0;32m----> 1\u001b[0m result[\u001b[38;5;124m\"\u001b[39m\u001b[38;5;124mcompany\u001b[39m\u001b[38;5;124m\"\u001b[39m] \u001b[38;5;241m=\u001b[39m result[\u001b[38;5;124m\"\u001b[39m\u001b[38;5;124mtype\u001b[39m\u001b[38;5;124m\"\u001b[39m]\u001b[38;5;241m.\u001b[39mapply(\u001b[38;5;28;01mlambda\u001b[39;00m x : \u001b[43mcompany\u001b[49m\u001b[43m(\u001b[49m\u001b[43mx\u001b[49m\u001b[43m)\u001b[49m)\n",
      "\u001b[0;31mTypeError\u001b[0m: company() takes 0 positional arguments but 1 was given"
     ]
    }
   ],
   "source": [
    "result[\"company\"] = result[\"type\"].apply(lambda x : company(x))"
   ]
  },
  {
   "cell_type": "code",
   "execution_count": null,
   "id": "c1ce94b2-8ccc-4b0e-957f-d3dc42222d19",
   "metadata": {},
   "outputs": [],
   "source": [
    "result"
   ]
  }
 ],
 "metadata": {
  "kernelspec": {
   "display_name": "pipeline",
   "language": "python",
   "name": "pipeline"
  },
  "language_info": {
   "codemirror_mode": {
    "name": "ipython",
    "version": 3
   },
   "file_extension": ".py",
   "mimetype": "text/x-python",
   "name": "python",
   "nbconvert_exporter": "python",
   "pygments_lexer": "ipython3",
   "version": "3.10.1"
  }
 },
 "nbformat": 4,
 "nbformat_minor": 5
}
